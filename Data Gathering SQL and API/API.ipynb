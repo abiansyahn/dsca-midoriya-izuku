{
 "cells": [
  {
   "cell_type": "markdown",
   "id": "9348feb5-a4ae-4e71-aae4-8515b61c6442",
   "metadata": {},
   "source": [
    "**API**"
   ]
  },
  {
   "cell_type": "code",
   "execution_count": 8,
   "id": "188b2aab-93d1-477e-96ff-7f61b61d3f69",
   "metadata": {},
   "outputs": [
    {
     "name": "stdout",
     "output_type": "stream",
     "text": [
      "200\n",
      "{\n",
      "  \"args\": {}, \n",
      "  \"headers\": {\n",
      "    \"Accept\": \"*/*\", \n",
      "    \"Accept-Encoding\": \"gzip, deflate, br\", \n",
      "    \"Host\": \"httpbin.org\", \n",
      "    \"User-Agent\": \"python-requests/2.26.0\", \n",
      "    \"X-Amzn-Trace-Id\": \"Root=1-619ddca7-05b93ff35b48647c5e36e5bb\"\n",
      "  }, \n",
      "  \"origin\": \"36.68.8.183\", \n",
      "  \"url\": \"https://httpbin.org/get\"\n",
      "}\n",
      "\n"
     ]
    }
   ],
   "source": [
    "import requests\n",
    "r = requests.get(\"https://httpbin.org/get\")\n",
    "print(r.status_code)\n",
    "print(r.text)"
   ]
  },
  {
   "cell_type": "code",
   "execution_count": 9,
   "id": "e6fd4183-e8a4-4f57-95f3-0286e5d2aab3",
   "metadata": {},
   "outputs": [],
   "source": [
    "url = \"https://httpbin.org/\""
   ]
  },
  {
   "cell_type": "code",
   "execution_count": 10,
   "id": "e81157dd-144f-4edc-9f7c-32bf7b3ebf8b",
   "metadata": {},
   "outputs": [],
   "source": [
    "parms = {\n",
    "    \"somekey\": \"somevalue\"\n",
    "}\n",
    "response = requests.post(url+\"post\")"
   ]
  },
  {
   "cell_type": "code",
   "execution_count": 11,
   "id": "df49f87e-64c8-4d06-ad5b-f181dbf914f0",
   "metadata": {},
   "outputs": [
    {
     "name": "stdout",
     "output_type": "stream",
     "text": [
      "200\n",
      "{\n",
      "  \"args\": {}, \n",
      "  \"data\": \"\", \n",
      "  \"files\": {}, \n",
      "  \"form\": {}, \n",
      "  \"headers\": {\n",
      "    \"Accept\": \"*/*\", \n",
      "    \"Accept-Encoding\": \"gzip, deflate, br\", \n",
      "    \"Content-Length\": \"0\", \n",
      "    \"Host\": \"httpbin.org\", \n",
      "    \"User-Agent\": \"python-requests/2.26.0\", \n",
      "    \"X-Amzn-Trace-Id\": \"Root=1-619ddca8-508b6c922c4727bb7633ec42\"\n",
      "  }, \n",
      "  \"json\": null, \n",
      "  \"origin\": \"36.68.8.183\", \n",
      "  \"url\": \"https://httpbin.org/post\"\n",
      "}\n",
      "\n"
     ]
    }
   ],
   "source": [
    "print(response.status_code)\n",
    "print(response.text)"
   ]
  },
  {
   "cell_type": "code",
   "execution_count": 12,
   "id": "1dd7a562-2381-465f-93cb-366e1bce0bcf",
   "metadata": {},
   "outputs": [],
   "source": [
    "import pandas as pd\n",
    "\n",
    "class ISS:\n",
    "    def __init__(self):\n",
    "        \n",
    "        self.URLS = [\n",
    "            'http://api.open-notify.org/iss-now.json',\n",
    "            'http://api.open-notify.org/astros.json'\n",
    "        ]\n",
    "        self.responses = [requests.get(url) for url in self.URLS]\n",
    "    \n",
    "    def check_availability(self):\n",
    "        \n",
    "        self.info = [\n",
    "            {\n",
    "                \"source\": url,\n",
    "                \"status_code\": r.status_code,\n",
    "                \"data\": r.json()\n",
    "            }\n",
    "            for url, r in zip(self.URLS, self.responses)\n",
    "        ]\n",
    "        \n",
    "        return self\n",
    "    \n",
    "    def get_data(self):\n",
    "        \n",
    "        data = {}\n",
    "        for info in self.info:\n",
    "            \n",
    "            if info.get(\"status_code\") == 200:\n",
    "                \n",
    "                data.update(info.get(\"data\"))\n",
    "            \n",
    "        df = pd.DataFrame(data.get(\"people\"))\n",
    "        longlat = [loc for loc in data.get(\"iss_position\").values()]\n",
    "        df[\"timestamp\"] = data.get(\"timestamp\")\n",
    "        df[\"iss_position\"] = f\"({longlat[0]}, {longlat[1]})\"\n",
    "        \n",
    "        df = df[df[\"craft\"] == \"ISS\"]\n",
    "        \n",
    "        return df"
   ]
  },
  {
   "cell_type": "code",
   "execution_count": 13,
   "id": "15f39408-775f-4628-b419-4a1d46dfbfd7",
   "metadata": {},
   "outputs": [],
   "source": [
    "iss = ISS()"
   ]
  },
  {
   "cell_type": "code",
   "execution_count": 15,
   "id": "a129f90b-e5d4-4077-9998-26a26069c43a",
   "metadata": {},
   "outputs": [
    {
     "data": {
      "text/plain": [
       "<__main__.ISS at 0x2517e3d3070>"
      ]
     },
     "execution_count": 15,
     "metadata": {},
     "output_type": "execute_result"
    }
   ],
   "source": [
    "iss.check_availability()"
   ]
  },
  {
   "cell_type": "code",
   "execution_count": 16,
   "id": "1a616087-b20d-4424-afe6-e3e1b4fd438d",
   "metadata": {},
   "outputs": [
    {
     "data": {
      "text/html": [
       "<div>\n",
       "<style scoped>\n",
       "    .dataframe tbody tr th:only-of-type {\n",
       "        vertical-align: middle;\n",
       "    }\n",
       "\n",
       "    .dataframe tbody tr th {\n",
       "        vertical-align: top;\n",
       "    }\n",
       "\n",
       "    .dataframe thead th {\n",
       "        text-align: right;\n",
       "    }\n",
       "</style>\n",
       "<table border=\"1\" class=\"dataframe\">\n",
       "  <thead>\n",
       "    <tr style=\"text-align: right;\">\n",
       "      <th></th>\n",
       "      <th>name</th>\n",
       "      <th>craft</th>\n",
       "      <th>timestamp</th>\n",
       "      <th>iss_position</th>\n",
       "    </tr>\n",
       "  </thead>\n",
       "  <tbody>\n",
       "    <tr>\n",
       "      <th>0</th>\n",
       "      <td>Mark Vande Hei</td>\n",
       "      <td>ISS</td>\n",
       "      <td>1637735593</td>\n",
       "      <td>(-13.9248, -59.2696)</td>\n",
       "    </tr>\n",
       "    <tr>\n",
       "      <th>1</th>\n",
       "      <td>Pyotr Dubrov</td>\n",
       "      <td>ISS</td>\n",
       "      <td>1637735593</td>\n",
       "      <td>(-13.9248, -59.2696)</td>\n",
       "    </tr>\n",
       "    <tr>\n",
       "      <th>2</th>\n",
       "      <td>Anton Shkaplerov</td>\n",
       "      <td>ISS</td>\n",
       "      <td>1637735593</td>\n",
       "      <td>(-13.9248, -59.2696)</td>\n",
       "    </tr>\n",
       "    <tr>\n",
       "      <th>6</th>\n",
       "      <td>Raja Chari</td>\n",
       "      <td>ISS</td>\n",
       "      <td>1637735593</td>\n",
       "      <td>(-13.9248, -59.2696)</td>\n",
       "    </tr>\n",
       "    <tr>\n",
       "      <th>7</th>\n",
       "      <td>Tom Marshburn</td>\n",
       "      <td>ISS</td>\n",
       "      <td>1637735593</td>\n",
       "      <td>(-13.9248, -59.2696)</td>\n",
       "    </tr>\n",
       "    <tr>\n",
       "      <th>8</th>\n",
       "      <td>Kayla Barron</td>\n",
       "      <td>ISS</td>\n",
       "      <td>1637735593</td>\n",
       "      <td>(-13.9248, -59.2696)</td>\n",
       "    </tr>\n",
       "    <tr>\n",
       "      <th>9</th>\n",
       "      <td>Matthias Maurer</td>\n",
       "      <td>ISS</td>\n",
       "      <td>1637735593</td>\n",
       "      <td>(-13.9248, -59.2696)</td>\n",
       "    </tr>\n",
       "  </tbody>\n",
       "</table>\n",
       "</div>"
      ],
      "text/plain": [
       "               name craft   timestamp          iss_position\n",
       "0    Mark Vande Hei   ISS  1637735593  (-13.9248, -59.2696)\n",
       "1      Pyotr Dubrov   ISS  1637735593  (-13.9248, -59.2696)\n",
       "2  Anton Shkaplerov   ISS  1637735593  (-13.9248, -59.2696)\n",
       "6        Raja Chari   ISS  1637735593  (-13.9248, -59.2696)\n",
       "7     Tom Marshburn   ISS  1637735593  (-13.9248, -59.2696)\n",
       "8      Kayla Barron   ISS  1637735593  (-13.9248, -59.2696)\n",
       "9   Matthias Maurer   ISS  1637735593  (-13.9248, -59.2696)"
      ]
     },
     "execution_count": 16,
     "metadata": {},
     "output_type": "execute_result"
    }
   ],
   "source": [
    "iss.get_data()"
   ]
  },
  {
   "cell_type": "code",
   "execution_count": null,
   "id": "80a5a638-a554-411c-99be-cc3ec340073f",
   "metadata": {},
   "outputs": [],
   "source": []
  }
 ],
 "metadata": {
  "kernelspec": {
   "display_name": "Python 3 (ipykernel)",
   "language": "python",
   "name": "python3"
  },
  "language_info": {
   "codemirror_mode": {
    "name": "ipython",
    "version": 3
   },
   "file_extension": ".py",
   "mimetype": "text/x-python",
   "name": "python",
   "nbconvert_exporter": "python",
   "pygments_lexer": "ipython3",
   "version": "3.9.7"
  }
 },
 "nbformat": 4,
 "nbformat_minor": 5
}
