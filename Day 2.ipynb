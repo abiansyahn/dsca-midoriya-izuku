{
 "cells": [
  {
   "cell_type": "markdown",
   "id": "52d1d6ca-0ec2-43be-84db-f206f8288e94",
   "metadata": {},
   "source": [
    "LIST"
   ]
  },
  {
   "cell_type": "code",
   "execution_count": 1,
   "id": "eaf985d3-131f-4219-8835-451ce7e16b91",
   "metadata": {},
   "outputs": [
    {
     "name": "stdout",
     "output_type": "stream",
     "text": [
      "[] <class 'list'>\n",
      "[2016, 2017, 2018, 2019, 2020] <class 'list'>\n",
      "[100, 2.14, 'bitlabs', True, -9, (7+2j)] <class 'list'>\n"
     ]
    }
   ],
   "source": [
    "empty_list = []\n",
    "first_quarter_of_the_months = ['January', 'February', 'March']\n",
    "last_5_years = [2016, 2017, 2018, 2019, 2020]\n",
    "list_mix = [100, 2.14, \"bitlabs\", True, -9, 7+2j]\n",
    "\n",
    "print([], type([]))\n",
    "print(last_5_years, type(last_5_years))\n",
    "print(list_mix, type(list_mix))"
   ]
  },
  {
   "cell_type": "code",
   "execution_count": 2,
   "id": "fd2ad53c-2d23-40f8-9c26-aa2a0f11ff1a",
   "metadata": {
    "tags": []
   },
   "outputs": [
    {
     "name": "stdout",
     "output_type": "stream",
     "text": [
      "length of last_5_years: 5\n",
      "length of empty_list: 0\n",
      "length of random_numbers: 20\n",
      "length of list_mix: 6\n",
      "[1, 1, 1, 1, 2, 3, 3, 3, 4, 4, 4, 4, 4, 5, 6, 6, 7, 7, 8, 8]\n",
      "[8, 8, 7, 7, 6, 6, 5, 4, 4, 4, 4, 4, 3, 3, 3, 2, 1, 1, 1, 1]\n"
     ]
    }
   ],
   "source": [
    "#len is for knowing how many element in that list, use len(variable)\n",
    "\n",
    "random_numbers = [1, 5, 4, 4, 8, 6, 4, 4, 7, 8, 3, 4, 7, 6, 2, 1, 1, 1, 3, 3]\n",
    "\n",
    "print(\"length of last_5_years:\", len(last_5_years))\n",
    "print(\"length of empty_list:\", len(empty_list))\n",
    "print(\"length of random_numbers:\", len(random_numbers))\n",
    "print(\"length of list_mix:\", len(list_mix))\n",
    "\n",
    "print(sorted(random_numbers))\n",
    "print(sorted(random_numbers, reverse=True))"
   ]
  },
  {
   "cell_type": "code",
   "execution_count": 3,
   "id": "140b2a34-464e-41b1-91bc-dbdac02324d9",
   "metadata": {
    "tags": []
   },
   "outputs": [
    {
     "name": "stdout",
     "output_type": "stream",
     "text": [
      "['b', 'i', 't', 'l', 'a', 'b', 's']\n",
      "[2016, 2017, 2018, 2019, 2020] this data has type of: <class 'list'> and has length of: 5\n",
      "[2022, 2023, 2024, 2025, 2026]\n"
     ]
    }
   ],
   "source": [
    "words_in_bitlabs = list(\"bitlabs\")\n",
    "print(words_in_bitlabs)\n",
    "\n",
    "list(last_5_years)\n",
    "print(last_5_years, \"this data has type of:\", type(last_5_years), \"and has length of:\", len(last_5_years))\n",
    "print(list([2022, 2023, 2024, 2025, 2026]))"
   ]
  },
  {
   "cell_type": "code",
   "execution_count": 4,
   "id": "6d1b514b-f75d-4797-a9cb-030a93b4accf",
   "metadata": {},
   "outputs": [
    {
     "name": "stdout",
     "output_type": "stream",
     "text": [
      "number less than ten: [0, 1, 2, 3, 4, 5, 6, 7, 8, 9]\n",
      "Decending order: [9, 8, 7, 6, 5, 4, 3, 2, 1, 0]\n"
     ]
    }
   ],
   "source": [
    "less_than_ten = [0, 1, 2, 3, 4, 5, 6, 7, 8, 9]\n",
    "print(\"number less than ten:\", less_than_ten)\n",
    "\n",
    "reverse_less_than_ten = sorted(less_than_ten, reverse=True)\n",
    "print(\"Decending order:\", reverse_less_than_ten)"
   ]
  },
  {
   "cell_type": "code",
   "execution_count": 5,
   "id": "0245f9c8-e5b7-4d82-a649-65f3156de884",
   "metadata": {},
   "outputs": [
    {
     "name": "stdout",
     "output_type": "stream",
     "text": [
      "number less than ten: ['0', '1', '2', '3', '4', '5', '6', '7', '8', '9']\n",
      "Decending order less than ten: ['9', '8', '7', '6', '5', '4', '3', '2', '1', '0']\n",
      "0 bit 1 bit 2 bit 3 bit 4 bit 5 bit 6 bit 7 bit 8 bit 9\n",
      "\n",
      "number less than 10 ['0', '1', '2', '3', '4', '5', '6', '7', '8', '9']\n",
      "Decending number less than ten ['9', '8', '7', '6', '5', '4', '3', '2', '1', '0']\n",
      "0 bit 1 bit 2 bit 3 bit 4 bit 5 bit 6 bit 7 bit 8 bit 9\n"
     ]
    }
   ],
   "source": [
    "less_than_ten_string = [\"0\", \"1\", \"2\", \"3\", \"4\", \"5\", \"6\", \"7\", \"8\", \"9\"]\n",
    "print('number less than ten:', less_than_ten_string)\n",
    "\n",
    "reverse_less_than_ten_str = sorted(less_than_ten_string, reverse=True)\n",
    "print(\"Decending order less than ten:\", reverse_less_than_ten_str)\n",
    "\n",
    "text_bit = \" bit \"\n",
    "text_bit_ten = text_bit.join(less_than_ten_string)\n",
    "print(text_bit_ten)\n",
    "print()\n",
    "#iseng\n",
    "less_than_10_str = list(\"0123456789\")\n",
    "print('number less than 10', less_than_10_str)\n",
    "\n",
    "reverse_less_than_10_str = sorted(less_than_10_str, reverse=True)\n",
    "print('Decending number less than ten', reverse_less_than_10_str)\n",
    "\n",
    "text_bit_iseng = text_bit.join(less_than_10_str)\n",
    "print(text_bit_iseng)"
   ]
  },
  {
   "cell_type": "code",
   "execution_count": 6,
   "id": "b104abc3-4b33-4dfe-aefd-069e22dacb79",
   "metadata": {},
   "outputs": [
    {
     "name": "stdout",
     "output_type": "stream",
     "text": [
      "0\n",
      "9\n",
      "2016\n",
      "2020\n",
      "1\n",
      "8\n",
      "a\n",
      "t\n"
     ]
    }
   ],
   "source": [
    "print(min(less_than_10_str))\n",
    "print(max(less_than_10_str))\n",
    "print(min(last_5_years))\n",
    "print(max(last_5_years))\n",
    "print(min(random_numbers))\n",
    "print(max(random_numbers))\n",
    "print(min('bitlabs'))\n",
    "print(max('bitlabs'))"
   ]
  },
  {
   "cell_type": "code",
   "execution_count": 7,
   "id": "da515d9a-a942-46cf-9a66-d6b21f08388c",
   "metadata": {},
   "outputs": [
    {
     "name": "stdout",
     "output_type": "stream",
     "text": [
      "['January', 'February', 'March']\n",
      "['January', 'February', 'March', 'April']\n"
     ]
    }
   ],
   "source": [
    "print(first_quarter_of_the_months)\n",
    "\n",
    "first_quarter_of_the_months.append('April')\n",
    "print(first_quarter_of_the_months)\n"
   ]
  },
  {
   "cell_type": "code",
   "execution_count": 8,
   "id": "4b1d2f7a-d624-4945-85c4-dd77ac8a9b43",
   "metadata": {},
   "outputs": [
    {
     "name": "stdout",
     "output_type": "stream",
     "text": [
      "KUIS\n",
      "Tanggal dengan Tahun Genap: ['December 4, 2002', 'March 29, 2004', 'July 22, 2006', 'November 13, 2008', 'March 9, 2010']\n",
      "Tanggal dengan Tahun Ganjil: ['June 21, 2001', 'August 23, 2003', 'August 1, 2005', 'July 11, 2007', 'March 20, 2009']\n"
     ]
    }
   ],
   "source": [
    "print('KUIS')\n",
    "random_dates = ['June 21, 2001', 'December 4, 2002', 'August 23, 2003', \n",
    "                'March 29, 2004', 'August 1, 2005', 'July 22, 2006',\n",
    "                'July 11, 2007', 'November 13, 2008', 'March 20, 2009',\n",
    "                'March 9, 2010']\n",
    "print(\"Tanggal dengan Tahun Genap:\", list(random_dates[1::2]))\n",
    "print(\"Tanggal dengan Tahun Ganjil:\", list(random_dates[0::2]))"
   ]
  },
  {
   "cell_type": "markdown",
   "id": "2a91c214-b934-4660-ba97-45270a0f28f6",
   "metadata": {},
   "source": [
    "SET"
   ]
  },
  {
   "cell_type": "code",
   "execution_count": 9,
   "id": "502c52ce-19be-4f6f-bf53-f74b3bb2f01b",
   "metadata": {},
   "outputs": [
    {
     "name": "stdout",
     "output_type": "stream",
     "text": [
      "{1, 2, 3, 4, 5, 6, 7, 8} <class 'set'>\n",
      "{'Monica Geller', 'Bob', 'Ross Geller', 'Chandler', 'Ross', 'Edna', 'bob', 'Monica'} <class 'set'>\n",
      "[1, 2, 3, 4, 5, 6, 7, 8]\n"
     ]
    }
   ],
   "source": [
    "set_is_unique = {1, 4, 5, 6, 4, 2, 6, 7, 4, 8, 4, 2, 3, 4, 5, 1}\n",
    "string_in_set = {'Bob', 'Edna', 'Ross', 'Monica', 'Chandler', 'Monica', 'Bob', 'Ross Geller', \n",
    "                 'Monica Geller', 'bob'}\n",
    "\n",
    "print(set_is_unique, type(set_is_unique))\n",
    "print(string_in_set, type(string_in_set))\n",
    "print(sorted(set_is_unique))"
   ]
  },
  {
   "cell_type": "code",
   "execution_count": 10,
   "id": "16801465-a6a1-40a7-a836-859cdc1e63d7",
   "metadata": {},
   "outputs": [
    {
     "name": "stdout",
     "output_type": "stream",
     "text": [
      "1. Female_names: {'Sue', 'Kate', 'Mary', 'Lee'} it has 4 elements\n",
      "Male_names: {'Adam', 'Lee', 'Tom', 'Eric'} it has 4 elements\n",
      "\n",
      "2.all names: {'Kate', 'Lee', 'Mary', 'Adam', 'Sue', 'Tom', 'Eric'}\n",
      "\n",
      "3. female and males names: {'Lee'}\n",
      "\n",
      "4. only female names: {'Sue', 'Kate', 'Mary'}\n",
      "only males names: {'Adam', 'Tom', 'Eric'}\n",
      "\n",
      "True <class 'bool'>\n",
      "False\n",
      "False\n",
      "True\n",
      "True\n",
      "False\n"
     ]
    }
   ],
   "source": [
    "female_names = {'Sue', 'Mary', 'Kate', 'Lee'}\n",
    "male_names = {'Eric', 'Lee', 'Tom', 'Adam'}\n",
    "print('1.', 'Female_names:', female_names, 'it has', len(female_names), 'elements')\n",
    "print('Male_names:', male_names, 'it has', len(male_names), 'elements')\n",
    "print()\n",
    "\n",
    "all_names = female_names | male_names\n",
    "print('2.' 'all names:', all_names)\n",
    "print()\n",
    "\n",
    "female_male_names = female_names & male_names\n",
    "print('3.', 'female and males names:', female_male_names)\n",
    "print()\n",
    "\n",
    "only_females = female_names - male_names\n",
    "only_males = male_names - female_names\n",
    "print('4.', 'only female names:', only_females)\n",
    "print('only males names:', only_males)\n",
    "print()\n",
    "\n",
    "print('Lee' in female_names, type('Lee' in female_names))\n",
    "print('Lee' not in male_names)\n",
    "print(male_names <= female_names)\n",
    "print(female_male_names <= male_names)\n",
    "print(female_male_names < male_names)\n",
    "print(female_male_names >= female_names)"
   ]
  },
  {
   "cell_type": "code",
   "execution_count": 11,
   "id": "eb7076b1-a891-496e-81f0-4d6aa4cce1f0",
   "metadata": {},
   "outputs": [
    {
     "name": "stdout",
     "output_type": "stream",
     "text": [
      "{'superman', 'captain america', 'iron man', 'batman', 'robin'}\n"
     ]
    }
   ],
   "source": [
    "purchased_history = [\"batman\", \"robin\", \"iron man\", \"robin\", \"captain america\",\n",
    "                     \"iron man\", \"iron man\", \"superman\", \"batman\", \"superman\"]\n",
    "unique_purchased = set(purchased_history)\n",
    "print(unique_purchased)"
   ]
  },
  {
   "cell_type": "markdown",
   "id": "2f9b22b5-d485-4310-8d5b-fb552b654bda",
   "metadata": {},
   "source": [
    "TUPPLE"
   ]
  },
  {
   "cell_type": "code",
   "execution_count": 12,
   "id": "a865b143-6e17-4950-a030-f5278a1bc315",
   "metadata": {},
   "outputs": [
    {
     "name": "stdout",
     "output_type": "stream",
     "text": [
      "('mark', 'elon') <class 'tuple'>\n",
      "('mark', 'elon') <class 'tuple'>\n",
      "('',) <class 'tuple'>\n",
      "bitlabs <class 'str'>\n",
      "False\n"
     ]
    }
   ],
   "source": [
    "ceo = ('mark','elon')\n",
    "print(ceo, type(ceo))\n",
    "\n",
    "same_ceo = 'mark', 'elon'\n",
    "print(same_ceo, type(same_ceo))\n",
    "       \n",
    "bootcamp = '',\n",
    "print(bootcamp, type(bootcamp))\n",
    "       \n",
    "str_bootcamp = 'bitlabs'\n",
    "print(str_bootcamp, type(str_bootcamp))\n",
    "print(str_bootcamp == bootcamp)"
   ]
  },
  {
   "cell_type": "code",
   "execution_count": 13,
   "id": "731f584e-b111-4ff3-962a-bc6f99a729e4",
   "metadata": {},
   "outputs": [
    {
     "name": "stdout",
     "output_type": "stream",
     "text": [
      "mark elon\n",
      "\n",
      "mark\n",
      "elon\n"
     ]
    }
   ],
   "source": [
    "first_ceo = ceo[0]\n",
    "second_ceo = ceo[1]\n",
    "\n",
    "first_ceo, second_ceo = ceo\n",
    "print(first_ceo, second_ceo)\n",
    "print()\n",
    "print(first_ceo)\n",
    "print(second_ceo)"
   ]
  },
  {
   "cell_type": "code",
   "execution_count": 14,
   "id": "6b434cc6-a85c-4a84-bf17-f534424005f8",
   "metadata": {},
   "outputs": [
    {
     "name": "stdout",
     "output_type": "stream",
     "text": [
      "kuis\n",
      "(-6.91589099562453, 107.62285836361218)\n"
     ]
    }
   ],
   "source": [
    "print('kuis')\n",
    "location = -6.91589099562453, 107.62285836361218\n",
    "print(location)"
   ]
  },
  {
   "cell_type": "code",
   "execution_count": 15,
   "id": "f334ef03-ba42-48d3-9e4d-fbe68a24c310",
   "metadata": {},
   "outputs": [
    {
     "name": "stdout",
     "output_type": "stream",
     "text": [
      "['January', 'February', 'March'] <class 'list'>\n",
      "('January', 'February', 'March') <class 'tuple'>\n",
      "()\n",
      "('b', 'i', 't', 'l', 'a', 'b', 's')\n"
     ]
    }
   ],
   "source": [
    "first_quarter_of_the_months = ['January', 'February', 'March']\n",
    "\n",
    "print(first_quarter_of_the_months, type(first_quarter_of_the_months))\n",
    "print(tuple(first_quarter_of_the_months), type(tuple(first_quarter_of_the_months)))\n",
    "print(tuple())\n",
    "print(tuple('bitlabs'))"
   ]
  },
  {
   "cell_type": "code",
   "execution_count": 16,
   "id": "d040b3f4-87ee-4926-866a-dc0bbfb5536d",
   "metadata": {},
   "outputs": [
    {
     "name": "stdout",
     "output_type": "stream",
     "text": [
      "kuis\n",
      "True\n",
      "[]\n",
      "0.0\n"
     ]
    }
   ],
   "source": [
    "print('kuis')\n",
    "tuple_x = list(), str(), int(), float()\n",
    "tuple_y = (list(), str(), int(), float())\n",
    "\n",
    "print(tuple_x == tuple_y)\n",
    "print(tuple_y[0])\n",
    "print(tuple_x[3])"
   ]
  },
  {
   "cell_type": "markdown",
   "id": "f7f5848d-ab3d-4f9c-b996-b29bc159d740",
   "metadata": {},
   "source": [
    "DICTIONARY"
   ]
  },
  {
   "cell_type": "code",
   "execution_count": null,
   "id": "4179975e-ae47-415a-9e40-a31ea26475d3",
   "metadata": {},
   "outputs": [],
   "source": [
    "height = {\"john\": 166, \"stuart\": 169, \"kevin\": 171}\n",
    "#pertanyaan: apakah utk value, dia adalah apapun dibelakang titik dua, hingga ke koma?\n",
    "\n",
    "print(height, type(height))"
   ]
  },
  {
   "cell_type": "code",
   "execution_count": null,
   "id": "718f93bd-d442-4460-986d-a52d68e51d42",
   "metadata": {},
   "outputs": [],
   "source": [
    "print(height['john'])\n",
    "print(height[\"stuart\"])\n",
    "print(height[\"kevin\"])\n",
    "print(height['kevin'])"
   ]
  },
  {
   "cell_type": "code",
   "execution_count": null,
   "id": "f7c0ae54-d2c1-4fab-92aa-d937fabe1791",
   "metadata": {},
   "outputs": [],
   "source": [
    "#pertanyaan: jika suatu variabel sudah terdefinisikan, apa yg terjadi jika kita menggunakan definisi yg berbeda?\n",
    "height = {\"john\": 166, \"stuart\": 169, \"kevin\": 171, \"john\": 190, \"Kevin\": 170}\n",
    "\n",
    "print(height)\n",
    "#bila ada key yg sama, maka yang akan disimpan adalah yg terakhir"
   ]
  },
  {
   "cell_type": "code",
   "execution_count": 20,
   "id": "0e39702e-86e9-46de-97de-703bbbd1b51e",
   "metadata": {
    "tags": []
   },
   "outputs": [
    {
     "name": "stdout",
     "output_type": "stream",
     "text": [
      "{'john': 190, 'stuart': 169, 'kevin': 180, 'Kevin': 167}\n"
     ]
    }
   ],
   "source": [
    "height['kevin'] = 180\n",
    "height['Kevin'] = 167\n",
    "\n",
    "print(height)"
   ]
  },
  {
   "cell_type": "code",
   "execution_count": 21,
   "id": "7c1b71f0-9903-4a51-8d5c-a4a71301cb4f",
   "metadata": {},
   "outputs": [
    {
     "name": "stdout",
     "output_type": "stream",
     "text": [
      "kuis\n",
      "{'Jakarta': 20.8, 'Surabaya': 18.2, 'Bandung': 15.1, 'Semarang': 12.3} <class 'dict'>\n",
      "\n",
      "{'Jakarta': 20.8, 'Surabaya': 18.2, 'Bandung': 15.1, 'Semarang': 12.3} <class 'dict'>\n"
     ]
    }
   ],
   "source": [
    "print('kuis')\n",
    "#cara 1\n",
    "functional_population = dict(Jakarta=20.8, Surabaya=18.2, Bandung=15.1, Semarang=12.3)\n",
    "print(functional_population, type(functional_population))\n",
    "print()\n",
    "#cara 2\n",
    "sequental_population = dict()\n",
    "sequental_population['Jakarta'] = 20.8\n",
    "sequental_population['Surabaya'] = 18.2\n",
    "sequental_population['Bandung'] = 15.1\n",
    "sequental_population['Semarang'] = 12.3\n",
    "print(sequental_population, type(sequental_population))"
   ]
  },
  {
   "cell_type": "code",
   "execution_count": 22,
   "id": "6dc0c7a6-0294-481b-87a7-0dd11ded6e5c",
   "metadata": {},
   "outputs": [
    {
     "name": "stdout",
     "output_type": "stream",
     "text": [
      "dict_keys(['john', 'stuart', 'kevin', 'Kevin'])\n",
      "dict_values([190, 169, 180, 167])\n",
      "dict_items([('john', 190), ('stuart', 169), ('kevin', 180), ('Kevin', 167)])\n",
      "180\n",
      "None\n",
      "oops, we dont have that name\n",
      "\n",
      "{'john': 190, 'stuart': 169, 'kevin': 180, 'Kevin': 167}\n",
      "{'john': 190, 'stuart': 169, 'kevin': 180, 'Kevin': 167, 'jhon': 188}\n",
      "{'john': 190, 'stuart': 169, 'kevin': 181, 'Kevin': 167, 'jhon': 188}\n"
     ]
    }
   ],
   "source": [
    "print(height.keys())\n",
    "print(height.values())\n",
    "print(height.items())\n",
    "print(height.get('kevin'))\n",
    "print(height.get('jhon'))\n",
    "print(height.get('jhon', 'oops, we dont have that name'))\n",
    "print()\n",
    "print(height)\n",
    "height.update({'jhon': 188})\n",
    "print(height)\n",
    "height.update({'kevin': 181})\n",
    "print(height)"
   ]
  },
  {
   "cell_type": "markdown",
   "id": "bab2fede-f22c-4aa7-8ab3-58859476c274",
   "metadata": {},
   "source": [
    "CONDITIONAL STATEMENT"
   ]
  },
  {
   "cell_type": "code",
   "execution_count": 23,
   "id": "5458c986-37a0-4047-a842-c211dbd3cef5",
   "metadata": {},
   "outputs": [
    {
     "name": "stdout",
     "output_type": "stream",
     "text": [
      "saddddd\n"
     ]
    }
   ],
   "source": [
    "money = 5000\n",
    "\n",
    "if (money >= 20000) and (money < 75000):\n",
    "    print (\"buy comis\")\n",
    "elif (money >= 75000) and (money < 100000):\n",
    "    print(\"buy novel\")\n",
    "elif (money >= 100000):\n",
    "    print('buy mag')\n",
    "else:\n",
    "    print('saddddd')"
   ]
  },
  {
   "cell_type": "code",
   "execution_count": 24,
   "id": "a55d41fb-a3b0-4d8b-9ef7-1dd8e5c3dccb",
   "metadata": {
    "tags": []
   },
   "outputs": [
    {
     "name": "stdout",
     "output_type": "stream",
     "text": [
      "we don't have enough money, let's just buy ice cream\n"
     ]
    }
   ],
   "source": [
    "money = 2000\n",
    "\n",
    "if (money >= 100000):\n",
    "    print(\"let's buy magazine\")\n",
    "elif (money >= 75000) and (money < 100000):\n",
    "    print(\"let's just buy novel\")\n",
    "elif (money >= 20000) and (money < 75000 ):\n",
    "    print(\"let's just buy this comic\")\n",
    "else: print(\"we don't have enough money, let's just buy ice cream\")"
   ]
  },
  {
   "cell_type": "code",
   "execution_count": 25,
   "id": "a4ee73cf-c4d2-4b67-983f-eddabe4c79c6",
   "metadata": {},
   "outputs": [
    {
     "name": "stdout",
     "output_type": "stream",
     "text": [
      "kuis\n",
      "1.\n",
      "NO PRIZE, better luck next time\n",
      "\n",
      "2.\n",
      "Numbers: [0, 1, 2, 3, 4, 5, 6, 8, 9]\n",
      "Checking membership of 9...\n",
      "untung ada elemennya! di indeks: 8\n"
     ]
    }
   ],
   "source": [
    "print ('kuis')\n",
    "print('1.')\n",
    "points = 99\n",
    "\n",
    "if (points >= 1) and (points < 51):\n",
    "    print(\"you've just got WOODEN RABBIT\")\n",
    "elif (points >= 51) and (points < 151):\n",
    "    print(\"NO PRIZE, better luck next time\")\n",
    "elif (points >= 151) and (points < 181):\n",
    "    print(\"yeiyy.. you win WAFER-THIN MINT\")\n",
    "elif (points >= 181) and (points < 201):\n",
    "    print(\"congratulations, you just win a big PENGUIN\")\n",
    "\n",
    "print()\n",
    "print('2.')\n",
    "numbers = [0, 1, 2, 3, 4, 5, 6, 8, 9]\n",
    "number = 9\n",
    "print('Numbers:', numbers)\n",
    "\n",
    "print('Checking membership of {}...'.format(number))\n",
    "if number in numbers:\n",
    "    print(\"untung ada elemennya! di indeks:\", numbers.index(number))\n",
    "else:\n",
    "    print(\"sayang sekali, {} tidak ditemukan. Tambahkan {} ke dalam list tersebut!\". format(\n",
    "        number, number))\n",
    "    numbers.append(number)\n",
    "    print('New Numbers:', numbers)"
   ]
  },
  {
   "cell_type": "code",
   "execution_count": 26,
   "id": "2e73bed8-ada8-4a1e-a9ca-e2cb39500489",
   "metadata": {},
   "outputs": [
    {
     "data": {
      "text/plain": [
       "False"
      ]
     },
     "execution_count": 26,
     "metadata": {},
     "output_type": "execute_result"
    }
   ],
   "source": [
    "len(empty_list) == 1"
   ]
  },
  {
   "cell_type": "markdown",
   "id": "64c86141-23ea-4713-8531-cd9f76a2c4e4",
   "metadata": {},
   "source": [
    "WHILE LOOP"
   ]
  },
  {
   "cell_type": "code",
   "execution_count": 27,
   "id": "02cc868b-c04f-444b-9b5e-80e3bf355df9",
   "metadata": {},
   "outputs": [],
   "source": [
    "names = [\"brown\", \"james\", \"jackson\", \"lee\"]"
   ]
  },
  {
   "cell_type": "code",
   "execution_count": 28,
   "id": "a65a09c2-1b32-4378-9e17-111337848a40",
   "metadata": {},
   "outputs": [
    {
     "name": "stdout",
     "output_type": "stream",
     "text": [
      "4\n",
      "brown\n",
      "james\n",
      "jackson\n",
      "lee\n"
     ]
    }
   ],
   "source": [
    "num_names = len(names)\n",
    "print(len(names))\n",
    "idx = 0\n",
    "\n",
    "while idx < num_names:\n",
    "    print(names[idx])\n",
    "    idx += 1"
   ]
  },
  {
   "cell_type": "code",
   "execution_count": 29,
   "id": "e7c6c19d-30e7-479e-92b9-26903f5f12ee",
   "metadata": {},
   "outputs": [
    {
     "name": "stdout",
     "output_type": "stream",
     "text": [
      "KUIS\n",
      "lee\n",
      "jackson\n",
      "james\n",
      "brown\n"
     ]
    }
   ],
   "source": [
    "print('KUIS')\n",
    "neg_idx = -1\n",
    "\n",
    "while neg_idx >= -len(names):\n",
    "    print(names[neg_idx])\n",
    "    neg_idx -= 1"
   ]
  },
  {
   "cell_type": "code",
   "execution_count": 30,
   "id": "69d4da9d-561d-4168-a62e-fbc563eeb614",
   "metadata": {},
   "outputs": [
    {
     "name": "stdout",
     "output_type": "stream",
     "text": [
      "brown\n",
      "james\n",
      "jackson\n"
     ]
    }
   ],
   "source": [
    "idx = 0\n",
    "\n",
    "while idx < len(names):\n",
    "    if len(names[idx]) < 5:\n",
    "        break\n",
    "    print(names[idx])\n",
    "    idx += 1"
   ]
  },
  {
   "cell_type": "code",
   "execution_count": 31,
   "id": "cb6770f3-57c6-45ac-8bc6-ca8d9785bba8",
   "metadata": {},
   "outputs": [
    {
     "name": "stdout",
     "output_type": "stream",
     "text": [
      "['brown', 'james', 'jackson', 'lee', 'jack', 'herald']\n",
      "brown\n",
      "james\n",
      "jackson\n",
      "herald\n"
     ]
    }
   ],
   "source": [
    "names.append(\"jack\")\n",
    "names.append(\"herald\")\n",
    "names\n",
    "print(names)\n",
    "idx = 0\n",
    "while idx < len(names):\n",
    "    if len(names[idx]) < 5:\n",
    "        idx += 1\n",
    "        continue\n",
    "    print(names[idx])\n",
    "    idx += 1"
   ]
  },
  {
   "cell_type": "code",
   "execution_count": 32,
   "id": "d14b7a81-f6f0-4ff6-b77c-f2428146992a",
   "metadata": {},
   "outputs": [
    {
     "name": "stdout",
     "output_type": "stream",
     "text": [
      "KUIS\n",
      "Pemprov DKI Perpanjang PPKM Mikro hingga 14 Juni Manchester City Dekati Sergio Ramos 8 Juta Dosis Vaksin Sinovac Tiba di Tanah Air 10 Potret Kece Tatj\n"
     ]
    }
   ],
   "source": [
    "print('KUIS')\n",
    "char_limit = 150\n",
    "headlines = [\"Pemprov DKI Perpanjang PPKM Mikro hingga 14 Juni\",\n",
    "             \"Manchester City Dekati Sergio Ramos\",\n",
    "             \"8 Juta Dosis Vaksin Sinovac Tiba di Tanah Air\",\n",
    "             \"10 Potret Kece Tatjana Saphira Berkacamata, Stylish Banget!\",]\n",
    "\n",
    "long_headlines = \" \".join(headlines)[:char_limit]\n",
    "print(long_headlines)\n",
    "\n",
    "indeks = 0\n",
    "#new_long_headlines = "
   ]
  },
  {
   "cell_type": "markdown",
   "id": "bfe156a2-b76e-49bd-be4d-d634ebb62f8f",
   "metadata": {},
   "source": [
    "FOOR LOOP"
   ]
  },
  {
   "cell_type": "code",
   "execution_count": 33,
   "id": "951fe352-3bd3-4c8a-a5f1-00e3cb637d3c",
   "metadata": {},
   "outputs": [
    {
     "name": "stdout",
     "output_type": "stream",
     "text": [
      "brown\n",
      "james\n",
      "jackson\n",
      "lee\n",
      "johnson\n",
      "michael\n",
      "stephany\n"
     ]
    }
   ],
   "source": [
    "names = [\"brown\", \"james\", \"jackson\", \"lee\", \"johnson\", \"michael\", \"stephany\"]\n",
    "\n",
    "for name in names:\n",
    "    print(name)"
   ]
  },
  {
   "cell_type": "code",
   "execution_count": 34,
   "id": "97a5ce23-3766-4b6f-9f12-54a1b9a376ee",
   "metadata": {},
   "outputs": [],
   "source": [
    "manifesto = [\n",
    "    (\"bananas\", 15), \n",
    "    (\"mattresses\", 24), \n",
    "    (\"dog kernels\", 42), \n",
    "    (\"computer\", 120), \n",
    "    (\"cheeses\", 5)\n",
    "]\n",
    "cargo = []\n",
    "total_weight = 0\n",
    "max_capacity = 100"
   ]
  },
  {
   "cell_type": "code",
   "execution_count": 35,
   "id": "c6db6cac-cd34-4086-bc6f-409d3a35ece9",
   "metadata": {},
   "outputs": [
    {
     "name": "stdout",
     "output_type": "stream",
     "text": [
      "item: bananas\n",
      "weight: 15\n",
      "\n",
      "item: mattresses\n",
      "weight: 24\n",
      "\n",
      "item: dog kernels\n",
      "weight: 42\n",
      "\n",
      "item: computer\n",
      "weight: 120\n",
      "\n",
      "item: cheeses\n",
      "weight: 5\n",
      "\n"
     ]
    }
   ],
   "source": [
    "for item, weight in manifesto:\n",
    "    print(\"item:\", item)\n",
    "    print(\"weight:\", weight)\n",
    "    print()"
   ]
  },
  {
   "cell_type": "code",
   "execution_count": 36,
   "id": "831d886f-c36f-4f9e-bd2d-385b512f2755",
   "metadata": {},
   "outputs": [
    {
     "name": "stdout",
     "output_type": "stream",
     "text": [
      "current_weight: 0\n",
      "+ Adding bananas to cargo (weight: 15)\n",
      "current_weight: 15\n",
      "+ Adding mattresses to cargo (weight: 24)\n",
      "current_weight: 39\n",
      "+ Adding dog kernels to cargo (weight: 42)\n",
      "current_weight: 81\n",
      "-- Skipping computer (weight: 120)\n",
      "current_weight: 81\n",
      "+ Adding cheeses to cargo (weight: 5)\n",
      "\n",
      "Final weight: 86\n",
      "Items in cargo: ['bananas', 'mattresses', 'dog kernels', 'cheeses']\n"
     ]
    }
   ],
   "source": [
    "for cargo_names, cargo_weight in manifesto:\n",
    "    print(\"current_weight:\", total_weight)\n",
    "    if total_weight >= max_capacity:\n",
    "        print(\"Stop Loading. Total weight:\", total_weight)\n",
    "        break\n",
    "    \n",
    "    if cargo_weight + total_weight > 100:\n",
    "        print(\"-- Skipping {} (weight: {})\".format(cargo_names, cargo_weight))\n",
    "        continue\n",
    "        \n",
    "    print(\"+ Adding {} to cargo (weight: {})\".format(cargo_names, cargo_weight))\n",
    "    cargo.append(cargo_names)\n",
    "    total_weight += cargo_weight\n",
    "\n",
    "print(\"\\nFinal weight:\", total_weight)\n",
    "print(\"Items in cargo:\", cargo)"
   ]
  },
  {
   "cell_type": "code",
   "execution_count": 37,
   "id": "3335cf89-9396-47f8-ba11-64bef8ca9fe9",
   "metadata": {},
   "outputs": [
    {
     "name": "stdout",
     "output_type": "stream",
     "text": [
      "range(5, 10) <class 'range'>\n",
      "range(0, 10) <class 'range'>\n",
      "range(0, 10, 2) <class 'range'>\n"
     ]
    }
   ],
   "source": [
    "five_to_nine = range(5, 10)\n",
    "to_ten = range(10)\n",
    "to_ten_with_two = range(0 , 10, 2)\n",
    "\n",
    "print(five_to_nine, type(five_to_nine))\n",
    "print(to_ten, type(to_ten))\n",
    "print(to_ten_with_two, type(to_ten_with_two))"
   ]
  },
  {
   "cell_type": "code",
   "execution_count": 38,
   "id": "2057ee2b-228f-4594-b138-e586559e7c6a",
   "metadata": {},
   "outputs": [
    {
     "name": "stdout",
     "output_type": "stream",
     "text": [
      "[5, 6, 7, 8, 9] (5, 6, 7, 8, 9)\n",
      "[0, 1, 2, 3, 4, 5, 6, 7, 8, 9] (0, 1, 2, 3, 4, 5, 6, 7, 8, 9)\n",
      "[0, 2, 4, 6, 8] (0, 2, 4, 6, 8)\n"
     ]
    }
   ],
   "source": [
    "print(list(five_to_nine), tuple(five_to_nine))\n",
    "print(list(to_ten), tuple(to_ten))\n",
    "print(list(to_ten_with_two), tuple(to_ten_with_two))"
   ]
  },
  {
   "cell_type": "code",
   "execution_count": 39,
   "id": "92454274-b78a-4595-8668-4e82fbc9ab8c",
   "metadata": {},
   "outputs": [
    {
     "name": "stdout",
     "output_type": "stream",
     "text": [
      "[0, 1, 2, 3, 4, 5, 6, 7, 8, 9, 10, 11, 12, 13, 14, 15, 16, 17, 18, 19, 20, 21, 22, 23, 24, 25, 26, 27, 28, 29, 30, 31, 32, 33, 34, 35, 36, 37, 38, 39, 40, 41, 42, 43, 44, 45, 46, 47, 48, 49, 50, 51, 52, 53, 54, 55, 56, 57, 58, 59, 60, 61, 62, 63, 64, 65, 66, 67, 68, 69, 70, 71, 72, 73, 74, 75, 76, 77, 78, 79, 80, 81, 82, 83, 84, 85, 86, 87, 88, 89, 90, 91, 92, 93, 94, 95, 96, 97, 98, 99] <class 'list'>\n"
     ]
    }
   ],
   "source": [
    "long_list_numbers = list(range(100))\n",
    "print(long_list_numbers, type(long_list_numbers))"
   ]
  },
  {
   "cell_type": "code",
   "execution_count": 40,
   "id": "a6e25ba3-486e-43df-ad95-0d5de16b1a52",
   "metadata": {},
   "outputs": [
    {
     "name": "stdout",
     "output_type": "stream",
     "text": [
      "5\n",
      "6\n",
      "7\n",
      "8\n",
      "9\n",
      "\n",
      "0\n",
      "1\n",
      "2\n",
      "3\n",
      "4\n",
      "5\n",
      "6\n",
      "7\n",
      "8\n",
      "9\n",
      "\n",
      "0\n",
      "2\n",
      "4\n",
      "6\n",
      "8\n"
     ]
    }
   ],
   "source": [
    "for x in five_to_nine:\n",
    "    print(x)\n",
    "print()\n",
    "\n",
    "for x in to_ten:\n",
    "    print(x)\n",
    "print()\n",
    "\n",
    "for x in to_ten_with_two:\n",
    "    print(x)"
   ]
  },
  {
   "cell_type": "code",
   "execution_count": 41,
   "id": "c4ff5452-3714-4fa4-8be7-42eb76a05bb2",
   "metadata": {},
   "outputs": [
    {
     "data": {
      "text/plain": [
       "(7, range(0, 7), range(0, 7))"
      ]
     },
     "execution_count": 41,
     "metadata": {},
     "output_type": "execute_result"
    }
   ],
   "source": [
    "len(names), range(7), range(len(names))"
   ]
  },
  {
   "cell_type": "code",
   "execution_count": 42,
   "id": "ead2a3e1-c8a9-4c3e-9f0e-cdb54039a2e6",
   "metadata": {},
   "outputs": [
    {
     "name": "stdout",
     "output_type": "stream",
     "text": [
      "brown\n",
      "james\n",
      "jackson\n",
      "lee\n",
      "johnson\n",
      "michael\n",
      "stephany\n"
     ]
    }
   ],
   "source": [
    "for i in range(len(names)):\n",
    "    print(names[i])"
   ]
  },
  {
   "cell_type": "code",
   "execution_count": 43,
   "id": "6940bbb4-9590-4450-8158-cbf729606bf1",
   "metadata": {},
   "outputs": [
    {
     "name": "stdout",
     "output_type": "stream",
     "text": [
      "brown\n",
      "james\n",
      "jackson\n",
      "lee\n",
      "johnson\n",
      "michael\n",
      "stephany\n"
     ]
    }
   ],
   "source": [
    "for name in names:\n",
    "    print(name)"
   ]
  },
  {
   "cell_type": "code",
   "execution_count": 44,
   "id": "95a14279-df99-4dcf-8d57-70dc90d816ae",
   "metadata": {},
   "outputs": [
    {
     "name": "stdout",
     "output_type": "stream",
     "text": [
      "kuis\n",
      "{'bananas': 15, 'mattresses': 24, 'dog kernels': 42, 'computer': 120, 'cheeses': 5}\n",
      "bananas: 15\n",
      "mattresses: 24\n",
      "dog kernels: 42\n",
      "computer: 120\n",
      "cheeses: 5\n"
     ]
    }
   ],
   "source": [
    "print(\"kuis\")\n",
    "dict_manifesto = dict(manifesto)\n",
    "print(dict_manifesto)\n",
    "\n",
    "for key, value in dict_manifesto.items():\n",
    "    print(\"{}: {}\".format(key, value))"
   ]
  },
  {
   "cell_type": "code",
   "execution_count": 56,
   "id": "d5d34b9b-5e3e-4221-b69e-910d712ca4b3",
   "metadata": {},
   "outputs": [
    {
     "name": "stdout",
     "output_type": "stream",
     "text": [
      "{'computer': 360, 'cheeses': 50, 'dog kennels': 210, 'bananas': 300} <class 'dict'>\n",
      "current_weight: 0\n",
      "+ Adding computer to cargo (weight: 360)\n",
      "current_weight: 360\n",
      "+ Adding cheeses to cargo (weight: 50)\n",
      "current_weight: 410\n",
      "+ Adding dog kennels to cargo (weight: 210)\n",
      "current_weight: 620\n",
      "+ Adding bananas to cargo (weight: 300)\n",
      "\n",
      "Final weight: 920\n"
     ]
    }
   ],
   "source": [
    "purchased_product = {\"computer\": 3, \"cheeses\": 10, \"dog kennels\": 5, \"bananas\": 20}\n",
    "weight_purchased = {\"computer\": 360, \"cheeses\": 50, \"dog kennels\": 210, \"bananas\": 300}\n",
    "print(weight_purchased, type(weight_purchased))\n",
    "total_weight = 0\n",
    "max_capacity = 1000\n",
    "cargo_send = []\n",
    "\n",
    "for cargo_name, cargo_weight in weight_purchased.items():\n",
    "    print(\"current_weight:\", total_weight)\n",
    "    if total_weight >= max_capacity:\n",
    "        print(\"Stop Loading. Total weight:\", total_weight)\n",
    "        break\n",
    "    \n",
    "    if cargo_weight + total_weight > 1000:\n",
    "        print(\"-- Skipping {} (weight: {})\".format(cargo_name, cargo_weight))\n",
    "        continue\n",
    "    \n",
    "    print(\"+ Adding {} to cargo (weight: {})\".format(cargo_name, cargo_weight))\n",
    "    cargo_send.append(cargo_name)\n",
    "    total_weight += cargo_weight\n",
    "\n",
    "print(\"\\nFinal weight:\", total_weight)"
   ]
  },
  {
   "cell_type": "code",
   "execution_count": 51,
   "id": "98a18aa5-987b-420f-9486-80b122d4c07a",
   "metadata": {},
   "outputs": [
    {
     "name": "stdout",
     "output_type": "stream",
     "text": [
      "1.\n",
      "['bananas', 'mattresses', 'dog kernels', 'computer', 'cheeses']\n",
      "\n",
      "2.\n"
     ]
    }
   ],
   "source": [
    "new_names = [\"joko\", \"abdul\", \"toni\", \"marcus\", \"james\"]\n",
    "\n",
    "print(\"1.\")\n",
    "list_product = []\n",
    "for product, _ in manifesto:\n",
    "    list_product.append(product)\n",
    "    \n",
    "print(list_product)\n",
    "print()\n",
    "print(\"2.\")\n",
    "unique_names = [names + new_names]\n",
    "#ini maksudnya gimana ya?"
   ]
  },
  {
   "cell_type": "code",
   "execution_count": null,
   "id": "9b2d4c6d-ba8c-4933-b6c8-56475e256988",
   "metadata": {},
   "outputs": [],
   "source": []
  },
  {
   "cell_type": "code",
   "execution_count": 47,
   "id": "4443dbce-55c5-409a-864a-1b2a04a78386",
   "metadata": {},
   "outputs": [
    {
     "name": "stdout",
     "output_type": "stream",
     "text": [
      "[2, 4, 6, 8, 10]\n"
     ]
    }
   ],
   "source": [
    "numbers = [1, 2, 3, 4, 5]\n",
    "doubled_numbers = [number*2 for number in numbers]\n",
    "\n",
    "print(doubled_numbers)"
   ]
  },
  {
   "cell_type": "code",
   "execution_count": 48,
   "id": "27b5a9ce-5f26-4ca0-baea-21230646e471",
   "metadata": {},
   "outputs": [
    {
     "name": "stdout",
     "output_type": "stream",
     "text": [
      "{'bananas': 5000, 'mattresses': 100000, 'dog kennels': 250000, 'computer': 1000000, 'cheeses': 10000, 'drugs': 50000}\n",
      "\n",
      "{'james': {'drugs': 2}, 'brown': {'bananas': 10, 'drugs': 5}, 'toni': {'dog kennels': 2, 'drugs': 2}, 'jackson': {'computer': 1, 'matresses': 2}, 'lee': {'cheeses': 5, 'bananas': 5}, 'johnson': {'computer': 2}, 'michael': {'drugs': 1, 'bananas': 1, 'mattresses': 2}, 'stephany': {'drugs': 10}, 'joko': {'computer': 2, 'mattresses': 3}, 'abdul': {'mattresses': 5, 'drugs': 1, 'computer': 1, 'dog kennels': 2}, 'marcus': {'cheeses': 10}}\n",
      "\n",
      "{'james': 100000, 'brown': 300000, 'toni': 600000, 'jackson': 1000000, 'lee': 75000, 'johnson': 2000000, 'michael': 255000, 'stephany': 500000, 'joko': 2300000, 'abdul': 2050000, 'marcus': 100000}\n"
     ]
    }
   ],
   "source": [
    "product_to_price = {\n",
    "    \"bananas\": 5000,\n",
    "    \"mattresses\": 100000,\n",
    "    \"dog kennels\": 250000,\n",
    "    \"computer\": 1000000,\n",
    "    \"cheeses\": 10000,\n",
    "    \"drugs\": 50000\n",
    "}\n",
    "print(product_to_price)\n",
    "print()\n",
    "\n",
    "purchase_history = {\n",
    "    \"james\": {\"drugs\": 2},\n",
    "    \"brown\": {\"bananas\": 10, \"drugs\": 5},\n",
    "    \"toni\": {\"dog kennels\": 2, \"drugs\": 2} ,\n",
    "    \"jackson\": {\"computer\": 1, \"matresses\": 2},\n",
    "    \"lee\": {\"cheeses\": 5, \"bananas\": 5},\n",
    "    \"johnson\": {\"computer\": 2},\n",
    "    \"michael\": {\"drugs\": 1, \"bananas\": 1, \"mattresses\": 2},\n",
    "    \"stephany\": {\"drugs\": 10},\n",
    "    \"joko\": {\"computer\": 2, \"mattresses\": 3},\n",
    "    \"abdul\": {\"mattresses\": 5, \"drugs\": 1, \"computer\": 1, \"dog kennels\": 2},\n",
    "    \"marcus\": {\"cheeses\": 10}\n",
    "}\n",
    "print(purchase_history)\n",
    "print()\n",
    "\n",
    "users_spending = {\n",
    "    user: sum([quantity*product_to_price.get(product_name, 0) for product_name, quantity in dict_products.items()])\n",
    "    for user, dict_products in purchase_history.items()\n",
    "}\n",
    "print(users_spending)"
   ]
  },
  {
   "cell_type": "code",
   "execution_count": 49,
   "id": "55572bce-9269-42b6-a8df-33e84ac6fad9",
   "metadata": {},
   "outputs": [
    {
     "name": "stdout",
     "output_type": "stream",
     "text": [
      "{'james': 100000, 'brown': 300000, 'toni': 600000, 'jackson': 1000000, 'lee': 75000, 'johnson': 2000000, 'michael': 255000, 'stephany': 500000, 'joko': 2300000, 'abdul': 2050000, 'marcus': 100000}\n"
     ]
    }
   ],
   "source": [
    "dict_spending = {}\n",
    "for user, dict_products in purchase_history.items():\n",
    "    total_spending = 0\n",
    "    for product_name, quantity in dict_products.items():\n",
    "        total_spending += quantity * product_to_price.get(product_name, 0)\n",
    "    dict_spending[user] = total_spending\n",
    "print(dict_spending)"
   ]
  },
  {
   "cell_type": "code",
   "execution_count": null,
   "id": "02a263e3-1bc8-433a-8971-474238e1159a",
   "metadata": {},
   "outputs": [],
   "source": []
  },
  {
   "cell_type": "code",
   "execution_count": null,
   "id": "8ea5970f-6704-49ce-baef-281faa5d4a00",
   "metadata": {},
   "outputs": [],
   "source": []
  }
 ],
 "metadata": {
  "kernelspec": {
   "display_name": "Python 3 (ipykernel)",
   "language": "python",
   "name": "python3"
  },
  "language_info": {
   "codemirror_mode": {
    "name": "ipython",
    "version": 3
   },
   "file_extension": ".py",
   "mimetype": "text/x-python",
   "name": "python",
   "nbconvert_exporter": "python",
   "pygments_lexer": "ipython3",
   "version": "3.9.7"
  }
 },
 "nbformat": 4,
 "nbformat_minor": 5
}
