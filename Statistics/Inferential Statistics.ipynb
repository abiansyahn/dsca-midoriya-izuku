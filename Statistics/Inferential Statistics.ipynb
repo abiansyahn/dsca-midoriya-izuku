{
 "cells": [
  {
   "cell_type": "code",
   "execution_count": 1,
   "id": "f968229a-2abf-4c8d-98ee-6a2301904420",
   "metadata": {},
   "outputs": [],
   "source": [
    "import matplotlib.pyplot as plt\n",
    "from ipywidgets import interact\n",
    "\n",
    "plt.style.use(\"seaborn-dark\")"
   ]
  },
  {
   "cell_type": "code",
   "execution_count": 2,
   "id": "44de8e82-e17f-4ce5-b37a-8ac16eecbe19",
   "metadata": {},
   "outputs": [
    {
     "name": "stdout",
     "output_type": "stream",
     "text": [
      "group_size: [2, 4, 6, 2, 2, 2, 3, 2, 4, 2]\n",
      "value counts: {2: 6, 3: 1, 4: 2, 6: 1}\n",
      "probability distribution: {2: 0.6, 3: 0.1, 4: 0.2, 6: 0.1}\n",
      "Sum of distribution: 0.9999999999999999\n"
     ]
    }
   ],
   "source": [
    "import csv\n",
    "\n",
    "#Load data\n",
    "with open(\"restaurants.csv\") as f:\n",
    "    csv_reader = csv.DictReader(f)\n",
    "    restaurant_groups = [row for row in csv_reader]\n",
    "    \n",
    "#store each group size\n",
    "sizes = [int(row.get(\"group_size\")) for row in restaurant_groups]\n",
    "print(\"group_size:\", sizes)\n",
    "\n",
    "#count frequency of each value\n",
    "value_counts = {\n",
    "    value: sizes.count(value)\n",
    "    for value in set(sizes)\n",
    "}\n",
    "print(\"value counts:\", value_counts)\n",
    "\n",
    "#calculate probability distribution\n",
    "prob_dist = {\n",
    "    value: count / sum(value_counts.values())\n",
    "    for value, count in value_counts.items()\n",
    "}\n",
    "print(\"probability distribution:\", prob_dist)\n",
    "print(\"Sum of distribution:\", sum(prob_dist.values()))"
   ]
  },
  {
   "cell_type": "code",
   "execution_count": 3,
   "id": "4c91a2e5-dd63-4a62-8d57-1562c8c68db1",
   "metadata": {},
   "outputs": [],
   "source": [
    "import scipy.stats"
   ]
  },
  {
   "cell_type": "code",
   "execution_count": 4,
   "id": "205f1f02-32af-4158-8829-5981f6694870",
   "metadata": {},
   "outputs": [],
   "source": [
    "import numpy as np"
   ]
  },
  {
   "cell_type": "markdown",
   "id": "c9ba2028-8894-4e1e-8459-e1bbcb3d1494",
   "metadata": {},
   "source": [
    "KUIS"
   ]
  },
  {
   "cell_type": "code",
   "execution_count": 5,
   "id": "4f98feb2-1c28-46f2-947e-d10369a73fb3",
   "metadata": {},
   "outputs": [],
   "source": [
    "uneven_dice = np.array([1, 3, 3, 4, 5, 6])"
   ]
  },
  {
   "cell_type": "code",
   "execution_count": 6,
   "id": "d2784a77-ac67-495b-a53c-19f300a2b1c5",
   "metadata": {},
   "outputs": [
    {
     "data": {
      "text/plain": [
       "0.6666666666666666"
      ]
     },
     "execution_count": 6,
     "metadata": {},
     "output_type": "execute_result"
    }
   ],
   "source": [
    "scipy.stats.uniform.cdf(4, loc=0, scale=6)"
   ]
  },
  {
   "cell_type": "markdown",
   "id": "d9377be9-5852-4abf-b339-8fe4e4a52d24",
   "metadata": {},
   "source": [
    "KUIS"
   ]
  },
  {
   "cell_type": "code",
   "execution_count": 7,
   "id": "ea1b2819-1ef7-4419-bd9f-cc1326812e09",
   "metadata": {},
   "outputs": [
    {
     "name": "stdout",
     "output_type": "stream",
     "text": [
      "0.9885275899325153\n"
     ]
    }
   ],
   "source": [
    "kemungkinan_berhasil = scipy.stats.binom.cdf(10, n=100, p=.05)\n",
    "print(kemungkinan_berhasil)"
   ]
  },
  {
   "cell_type": "code",
   "execution_count": 8,
   "id": "68601ef3-145e-4093-b606-a5e89bd10c61",
   "metadata": {},
   "outputs": [
    {
     "name": "stdout",
     "output_type": "stream",
     "text": [
      "0.011472410067484673\n"
     ]
    }
   ],
   "source": [
    "kemungkinan_gagal = 1 - kemungkinan_berhasil\n",
    "print(kemungkinan_gagal)"
   ]
  },
  {
   "cell_type": "code",
   "execution_count": 9,
   "id": "6ba935ba-d234-490f-9216-301a2b0fe82b",
   "metadata": {},
   "outputs": [
    {
     "data": {
      "text/plain": [
       "8.42090524034109e-105"
      ]
     },
     "execution_count": 9,
     "metadata": {},
     "output_type": "execute_result"
    }
   ],
   "source": [
    "scipy.stats.binom.cdf(10, n=100, p=.95)"
   ]
  },
  {
   "cell_type": "code",
   "execution_count": 10,
   "id": "9b579ffd-795e-49e5-9063-b2559327c3ba",
   "metadata": {},
   "outputs": [
    {
     "data": {
      "text/plain": [
       "0.09963240048704596"
      ]
     },
     "execution_count": 10,
     "metadata": {},
     "output_type": "execute_result"
    }
   ],
   "source": [
    "scipy.stats.poisson.cdf(4, mu=8)"
   ]
  },
  {
   "cell_type": "code",
   "execution_count": 11,
   "id": "e625fba9-504a-4ac7-9ae3-ba2cccf74627",
   "metadata": {},
   "outputs": [
    {
     "data": {
      "text/plain": [
       "0.057252288495362"
      ]
     },
     "execution_count": 11,
     "metadata": {},
     "output_type": "execute_result"
    }
   ],
   "source": [
    "scipy.stats.poisson.pmf(4, mu=8)"
   ]
  },
  {
   "cell_type": "code",
   "execution_count": 12,
   "id": "1841a70c-a3c0-4a2f-96ad-f6b43ae2e6a6",
   "metadata": {},
   "outputs": [],
   "source": [
    "mean_test = scipy.stats.poisson.rvs(8, size=100)"
   ]
  },
  {
   "cell_type": "code",
   "execution_count": 13,
   "id": "b29492fb-f176-45e6-a7c5-8ae717dd3ab3",
   "metadata": {},
   "outputs": [
    {
     "data": {
      "text/plain": [
       "8.12"
      ]
     },
     "execution_count": 13,
     "metadata": {},
     "output_type": "execute_result"
    }
   ],
   "source": [
    "np.mean(mean_test)"
   ]
  },
  {
   "cell_type": "markdown",
   "id": "e5350ce4-25df-46da-93b8-fb19fc9dbf5c",
   "metadata": {},
   "source": [
    "KUIS"
   ]
  },
  {
   "cell_type": "code",
   "execution_count": 14,
   "id": "c6fd1836-9889-40da-8e52-391a4ba1e6fe",
   "metadata": {},
   "outputs": [
    {
     "name": "stdout",
     "output_type": "stream",
     "text": [
      "[ 5.40809067  0.58425724 13.89655579 21.74801788 12.60610814 14.56281295\n",
      "  0.38342444 14.62114822 28.25419957 25.52385268 21.89893411  3.26208216\n",
      " 26.81712511 25.71462741  4.95259853 18.97002041  0.61450838  3.50211806\n",
      "  9.49101935  4.7373692  22.76938764 24.54826074 10.33873473  9.56396391\n",
      "  3.34983696  2.5185943  21.38177807 17.98630189  1.67021039 14.39391845\n",
      " 12.05029442 25.43936993 21.53547538 18.06192154 16.57151465 28.47307193\n",
      " 29.60019991 10.14162149  7.19624037 23.89307262  1.91059292 10.93846929\n",
      "  2.10068408  9.58103121  2.11147785  8.70791001 23.7030337  27.16200962\n",
      " 23.77864155 16.8545613  18.48055155 10.84450627  5.06451896 13.08722801\n",
      " 21.98476009  1.88662872  0.62198937 23.11644199  8.99856028 21.03492825\n",
      " 22.04003163 27.98713882 12.00985299 10.75313785 24.19700373 22.9347329\n",
      " 19.5784422  24.32899722 19.26644576 28.72332158 10.01623264 22.14757869\n",
      " 28.49499917 10.03092462 18.3489599  10.97010503 13.84620874  2.25005979\n",
      "  0.58030087 22.78948403 13.58277493 18.68502023 22.19854553 12.55990291\n",
      " 11.02852875  5.07086432 23.8161722  24.99112226 22.02638962 26.2588374\n",
      " 19.44169326 20.88198524  5.79054241 23.02896705 10.02248683 13.13877618\n",
      "  9.56610719 17.04869007 19.76077054 17.26675623]\n",
      "quiz 1 answer= 0.16666666666666666\n",
      "quiz 2 answer= 0.8333333333333334\n",
      "quiz 3 answer= 0.3333333333333333\n"
     ]
    }
   ],
   "source": [
    "running_models = scipy.stats.uniform.rvs(loc=0, scale=30, size=100, random_state=11)\n",
    "print(running_models)\n",
    "\n",
    "quiz1 = scipy.stats.uniform.cdf(5, loc=0, scale=30)\n",
    "print(\"quiz 1 answer=\", quiz1)\n",
    "\n",
    "quiz2 = 1 - quiz1\n",
    "print(\"quiz 2 answer=\", quiz2)\n",
    "\n",
    "less_20 = scipy.stats.uniform.cdf(20, loc=0, scale=30)\n",
    "less_10 = scipy.stats.uniform.cdf(10, loc=0, scale=30)\n",
    "quiz3 = less_20 - less_10\n",
    "print(\"quiz 3 answer=\", quiz3)"
   ]
  },
  {
   "cell_type": "code",
   "execution_count": 15,
   "id": "c95ff54e-3332-4f63-a169-eac1b4a50fa2",
   "metadata": {},
   "outputs": [
    {
     "name": "stdout",
     "output_type": "stream",
     "text": [
      "0.16666666666666663\n"
     ]
    }
   ],
   "source": [
    "less_than_20 = scipy.stats.uniform.cdf(20, loc=0, scale=30)\n",
    "less_than_10 = scipy.stats.uniform.cdf(10, loc=0, scale=20)\n",
    "print(less_than_20 - less_than_10)"
   ]
  },
  {
   "cell_type": "markdown",
   "id": "981659ac-579d-48b3-bcd0-f115eb9f1c61",
   "metadata": {},
   "source": [
    "KUIS"
   ]
  },
  {
   "cell_type": "code",
   "execution_count": 16,
   "id": "b2bd36f2-e949-4c6e-bb14-898d84523c10",
   "metadata": {},
   "outputs": [
    {
     "name": "stdout",
     "output_type": "stream",
     "text": [
      "probability of responding more than 4 hours: 0.2231301601484298\n",
      "probability of responding between 3 and 4 hours: 0.38340049956420363\n"
     ]
    }
   ],
   "source": [
    "more_than_4 = 1 - scipy.stats.expon.cdf(4, loc=2.5)\n",
    "between_3_4 = scipy.stats.expon.cdf(4, loc=2.5) - scipy.stats.expon.cdf(3, loc=2.5)\n",
    "\n",
    "print(\"probability of responding more than 4 hours:\", more_than_4)\n",
    "print(\"probability of responding between 3 and 4 hours:\", between_3_4)"
   ]
  },
  {
   "cell_type": "code",
   "execution_count": null,
   "id": "3de822c1-84bc-4a0e-86c0-610b921349bf",
   "metadata": {},
   "outputs": [],
   "source": []
  }
 ],
 "metadata": {
  "kernelspec": {
   "display_name": "Python 3 (ipykernel)",
   "language": "python",
   "name": "python3"
  },
  "language_info": {
   "codemirror_mode": {
    "name": "ipython",
    "version": 3
   },
   "file_extension": ".py",
   "mimetype": "text/x-python",
   "name": "python",
   "nbconvert_exporter": "python",
   "pygments_lexer": "ipython3",
   "version": "3.9.7"
  }
 },
 "nbformat": 4,
 "nbformat_minor": 5
}
