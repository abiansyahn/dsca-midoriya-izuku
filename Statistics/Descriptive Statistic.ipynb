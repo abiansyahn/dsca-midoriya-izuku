{
 "cells": [
  {
   "cell_type": "markdown",
   "id": "ba208654-8e30-4454-a986-8893f14dc0d9",
   "metadata": {},
   "source": [
    "**DESCRIPTIVE STATISTICS**"
   ]
  },
  {
   "cell_type": "markdown",
   "id": "b5cda0fb-1341-44fe-9575-379e749cec53",
   "metadata": {},
   "source": [
    "**Data**"
   ]
  },
  {
   "cell_type": "markdown",
   "id": "dbc8457d-96d6-41cb-adef-f98a65703c8c",
   "metadata": {},
   "source": [
    "KUIS"
   ]
  },
  {
   "cell_type": "markdown",
   "id": "0f4b42d5-ea47-4ae0-af02-1959253412d1",
   "metadata": {},
   "source": [
    "|Student Name| |Asignment| |Quiz| |Exam|\n",
    "|------------| |---------| |----| |----|\n",
    "|Student X| |70| |85| |85|"
   ]
  },
  {
   "cell_type": "markdown",
   "id": "f36ac292-0700-4116-b6fd-44068e2b6e99",
   "metadata": {},
   "source": [
    "**Jenis Data**"
   ]
  },
  {
   "cell_type": "markdown",
   "id": "b7b08c6c-90b6-4c5d-89e3-1556c02da44b",
   "metadata": {},
   "source": [
    "Kuis"
   ]
  },
  {
   "cell_type": "markdown",
   "id": "4f1e2a75-655b-4dc4-bd19-25d8f25c345b",
   "metadata": {},
   "source": [
    "variable **group, treatment, control** is *categorical* *nominal* variable. **ct** is a *numerical* *discrete* variable"
   ]
  },
  {
   "cell_type": "markdown",
   "id": "380b4224-e861-482c-a92d-b5bd492d2ac3",
   "metadata": {},
   "source": [
    "**Ukuran Pemusatan Data**"
   ]
  },
  {
   "cell_type": "markdown",
   "id": "431a82b3-0f57-4cfa-876c-f68dfef01c3f",
   "metadata": {},
   "source": [
    "**Rata-Rata (Mean)**"
   ]
  },
  {
   "cell_type": "code",
   "execution_count": 1,
   "id": "9eb8c298-c7dc-4694-b0c0-96afe6918991",
   "metadata": {},
   "outputs": [],
   "source": [
    "num_friends = [100.0, 49, 41, 40, 25, 21, 21, 19, 19, 18, 18, 16, 15, 15, 15, 15,\n",
    "               14, 14, 13, 13, 13, 13, 12, 12 , 11, 10, 10, 10, 10 ,10, 10, 10, 10,\n",
    "               10, 10, 10, 10, 10, 10, 10, 9, 9, 9, 9, 9, 9, 9, 9, 9, 9, 9, 9, 9, 9,\n",
    "               9, 9, 9, 9, 8, 8, 8, 8, 8, 8, 8, 8, 8, 8, 8, 8, 8, 7, 7, 7, 7, 7, 7, 7,\n",
    "               7, 7, 7, 7, 7, 7, 7, 7, 6, 6, 6, 6, 6, 6, 6, 6, 6, 6, 6, 6, 6, 6, 6, 6,\n",
    "               6, 6, 6, 6, 6, 6, 5, 5, 5, 5, 5, 5, 5, 5, 5, 5, 5, 5, 5, 5, 5, 5, 5, 4,\n",
    "               4, 4, 4, 4, 4, 4, 4, 4, 4, 4, 4, 4, 4, 4, 4, 4, 4, 4, 4, 3, 3, 3, 3, 3,\n",
    "               3, 3, 3, 3, 3, 3, 3, 3, 3, 3, 3, 3, 3, 3, 3, 2, 2, 2, 2, 2, 2, 2, 2, 2,\n",
    "               2, 2, 2, 2, 2, 2, 2, 2, 1, 1, 1, 1, 1, 1, 1, 1, 1, 1, 1, 1, 1, 1, 1, 1,\n",
    "               1, 1, 1, 1, 1, 1]"
   ]
  },
  {
   "cell_type": "code",
   "execution_count": 2,
   "id": "19d03650-6b99-4c83-8ed9-56656cf410cf",
   "metadata": {},
   "outputs": [
    {
     "name": "stdout",
     "output_type": "stream",
     "text": [
      "[100.0, 49, 41, 40, 25, 21, 21, 19, 19, 18, 18, 16, 15, 15, 15, 15, 14, 14, 13, 13, 13, 13, 12, 12, 11, 10, 10, 10, 10, 10, 10, 10, 10, 10, 10, 10, 10, 10, 10, 10, 9, 9, 9, 9, 9, 9, 9, 9, 9, 9, 9, 9, 9, 9, 9, 9, 9, 9, 8, 8, 8, 8, 8, 8, 8, 8, 8, 8, 8, 8, 8, 7, 7, 7, 7, 7, 7, 7, 7, 7, 7, 7, 7, 7, 7, 7, 6, 6, 6, 6, 6, 6, 6, 6, 6, 6, 6, 6, 6, 6, 6, 6, 6, 6, 6, 6, 6, 6, 5, 5, 5, 5, 5, 5, 5, 5, 5, 5, 5, 5, 5, 5, 5, 5, 5, 4, 4, 4, 4, 4, 4, 4, 4, 4, 4, 4, 4, 4, 4, 4, 4, 4, 4, 4, 4, 3, 3, 3, 3, 3, 3, 3, 3, 3, 3, 3, 3, 3, 3, 3, 3, 3, 3, 3, 3, 2, 2, 2, 2, 2, 2, 2, 2, 2, 2, 2, 2, 2, 2, 2, 2, 2, 1, 1, 1, 1, 1, 1, 1, 1, 1, 1, 1, 1, 1, 1, 1, 1, 1, 1, 1, 1, 1, 1]\n"
     ]
    }
   ],
   "source": [
    "print(num_friends)"
   ]
  },
  {
   "cell_type": "code",
   "execution_count": 3,
   "id": "93261945-29fa-44f7-adec-68017b4d4959",
   "metadata": {},
   "outputs": [],
   "source": [
    "def mean(data):\n",
    "    \"\"\"Calculate mean of data\"\"\"\n",
    "    return sum(data) / len(data)"
   ]
  },
  {
   "cell_type": "markdown",
   "id": "2804974e-b0e0-425a-9071-f1ac56bffa86",
   "metadata": {
    "tags": []
   },
   "source": [
    "KUIS"
   ]
  },
  {
   "cell_type": "code",
   "execution_count": 4,
   "id": "0070b7ab-69a3-4c86-ac59-93b705193c71",
   "metadata": {},
   "outputs": [
    {
     "name": "stdout",
     "output_type": "stream",
     "text": [
      "Mean of number of friends of users: 7.333333333333333\n"
     ]
    }
   ],
   "source": [
    "print(\"Mean of number of friends of users:\", mean(num_friends))"
   ]
  },
  {
   "cell_type": "code",
   "execution_count": 5,
   "id": "f79baa4b-11e3-4598-bb03-2d58b27f6936",
   "metadata": {},
   "outputs": [],
   "source": [
    "import numpy as np"
   ]
  },
  {
   "cell_type": "code",
   "execution_count": 6,
   "id": "826c9bf5-e7e3-42e2-aeeb-8f6661a00f73",
   "metadata": {},
   "outputs": [
    {
     "data": {
      "text/plain": [
       "7.333333333333333"
      ]
     },
     "execution_count": 6,
     "metadata": {},
     "output_type": "execute_result"
    }
   ],
   "source": [
    "np.mean(num_friends)"
   ]
  },
  {
   "cell_type": "markdown",
   "id": "25a8e2bf-f885-4552-be5a-e19a0a6ca936",
   "metadata": {},
   "source": [
    "**Nilai Tengah (Median)**"
   ]
  },
  {
   "cell_type": "code",
   "execution_count": 7,
   "id": "b9f11a4a-760d-452f-a544-8a48dfaa01e2",
   "metadata": {
    "tags": []
   },
   "outputs": [
    {
     "data": {
      "text/plain": [
       "204"
      ]
     },
     "execution_count": 7,
     "metadata": {},
     "output_type": "execute_result"
    }
   ],
   "source": [
    "len(num_friends)"
   ]
  },
  {
   "cell_type": "code",
   "execution_count": 19,
   "id": "7fa1d017-cb09-4c0d-8fa8-9960be821cc3",
   "metadata": {},
   "outputs": [],
   "source": [
    "def median(data):\n",
    "    \"\"\"Return median value of data. Return list of axis=0 if it has more than 1-D array\"\"\"\n",
    "    data = sorted(data)\n",
    "    if len(data) % 2 == 0:\n",
    "        lower_bound = len(data) // 2 - 1\n",
    "        upper_bound = len(data) // 2\n",
    "        return ((data[lower_bound]) + (data[upper_bound])) / 2\n",
    "    return data[(len(data) // 2)]"
   ]
  },
  {
   "cell_type": "code",
   "execution_count": 9,
   "id": "79707158-7b20-4eaa-86a9-6a6b2c099cca",
   "metadata": {
    "tags": []
   },
   "outputs": [
    {
     "name": "stdout",
     "output_type": "stream",
     "text": [
      "102 103\n",
      "6\n",
      "6\n",
      "6.0\n"
     ]
    }
   ],
   "source": [
    "a = int(len(num_friends) / 2)\n",
    "b = int((len(num_friends) / 2) + 1)\n",
    "print(a, b)\n",
    "print(num_friends[a+1])\n",
    "print(num_friends[b+1])\n",
    "print(((num_friends[a+1]) + (num_friends[b+1])) / 2)"
   ]
  },
  {
   "cell_type": "code",
   "execution_count": 10,
   "id": "4918688e-a6de-4dda-90cf-edeae442f4f0",
   "metadata": {},
   "outputs": [],
   "source": [
    "test = [1, 2, 3, 4]"
   ]
  },
  {
   "cell_type": "code",
   "execution_count": 11,
   "id": "c5316512-c77e-45f0-ac7b-7fecb3fff9e8",
   "metadata": {
    "tags": []
   },
   "outputs": [
    {
     "data": {
      "text/plain": [
       "2"
      ]
     },
     "execution_count": 11,
     "metadata": {},
     "output_type": "execute_result"
    }
   ],
   "source": [
    "len(test) // 2"
   ]
  },
  {
   "cell_type": "code",
   "execution_count": 20,
   "id": "8362b120-8ab4-44b4-bd24-d122d5fde053",
   "metadata": {},
   "outputs": [
    {
     "data": {
      "text/plain": [
       "2.5"
      ]
     },
     "execution_count": 20,
     "metadata": {},
     "output_type": "execute_result"
    }
   ],
   "source": [
    "median(test)"
   ]
  },
  {
   "cell_type": "code",
   "execution_count": 13,
   "id": "a996e4ca-20e2-4a48-922a-1dd283d13082",
   "metadata": {
    "tags": []
   },
   "outputs": [
    {
     "data": {
      "text/plain": [
       "6.0"
      ]
     },
     "execution_count": 13,
     "metadata": {},
     "output_type": "execute_result"
    }
   ],
   "source": [
    "median(num_friends)"
   ]
  },
  {
   "cell_type": "code",
   "execution_count": 14,
   "id": "e5b2557c-bd98-401c-b097-d20da6d5beca",
   "metadata": {},
   "outputs": [
    {
     "data": {
      "text/plain": [
       "6.0"
      ]
     },
     "execution_count": 14,
     "metadata": {},
     "output_type": "execute_result"
    }
   ],
   "source": [
    "np.median(num_friends)"
   ]
  },
  {
   "cell_type": "code",
   "execution_count": 15,
   "id": "d7ef3b0e-db56-45f0-b820-9399ed6180fd",
   "metadata": {},
   "outputs": [
    {
     "data": {
      "text/plain": [
       "True"
      ]
     },
     "execution_count": 15,
     "metadata": {},
     "output_type": "execute_result"
    }
   ],
   "source": [
    "median(num_friends) == np.median(num_friends)"
   ]
  },
  {
   "cell_type": "code",
   "execution_count": 16,
   "id": "2911aa18-3a66-41bf-8823-df0f945653e6",
   "metadata": {},
   "outputs": [],
   "source": [
    "num_friends_2 = np.array([\n",
    "    [100.0, 49, 41],\n",
    "    [14, 14, 13],\n",
    "    [10, 10, 10],\n",
    "    [9, 9, 9],\n",
    "    [7, 7, 7],\n",
    "    [6, 6, 4],\n",
    "    [4, 4, 3],\n",
    "    [3, 3, 2],\n",
    "    [2, 2, 1],\n",
    "    [2, 2, 1]\n",
    "])"
   ]
  },
  {
   "cell_type": "code",
   "execution_count": 17,
   "id": "85d46a41-0d4f-4797-996f-2a662c0d0bf7",
   "metadata": {},
   "outputs": [
    {
     "data": {
      "text/plain": [
       "array([6.5, 6.5, 5.5])"
      ]
     },
     "execution_count": 17,
     "metadata": {},
     "output_type": "execute_result"
    }
   ],
   "source": [
    "np.median(num_friends_2, axis=0)"
   ]
  },
  {
   "cell_type": "code",
   "execution_count": 21,
   "id": "7273a2d6-a6b6-480a-8be4-6ce0dd9ddd5e",
   "metadata": {},
   "outputs": [
    {
     "ename": "ValueError",
     "evalue": "The truth value of an array with more than one element is ambiguous. Use a.any() or a.all()",
     "output_type": "error",
     "traceback": [
      "\u001b[1;31m---------------------------------------------------------------------------\u001b[0m",
      "\u001b[1;31mValueError\u001b[0m                                Traceback (most recent call last)",
      "\u001b[1;32m~\\AppData\\Local\\Temp/ipykernel_10612/1023602659.py\u001b[0m in \u001b[0;36m<module>\u001b[1;34m\u001b[0m\n\u001b[1;32m----> 1\u001b[1;33m \u001b[0mmedian\u001b[0m\u001b[1;33m(\u001b[0m\u001b[0mnum_friends_2\u001b[0m\u001b[1;33m)\u001b[0m\u001b[1;33m\u001b[0m\u001b[1;33m\u001b[0m\u001b[0m\n\u001b[0m",
      "\u001b[1;32m~\\AppData\\Local\\Temp/ipykernel_10612/2978719402.py\u001b[0m in \u001b[0;36mmedian\u001b[1;34m(data)\u001b[0m\n\u001b[0;32m      1\u001b[0m \u001b[1;32mdef\u001b[0m \u001b[0mmedian\u001b[0m\u001b[1;33m(\u001b[0m\u001b[0mdata\u001b[0m\u001b[1;33m)\u001b[0m\u001b[1;33m:\u001b[0m\u001b[1;33m\u001b[0m\u001b[1;33m\u001b[0m\u001b[0m\n\u001b[0;32m      2\u001b[0m     \u001b[1;34m\"\"\"Return median value of data. Return list of axis=0 if it has more than 1-D array\"\"\"\u001b[0m\u001b[1;33m\u001b[0m\u001b[1;33m\u001b[0m\u001b[0m\n\u001b[1;32m----> 3\u001b[1;33m     \u001b[0mdata\u001b[0m \u001b[1;33m=\u001b[0m \u001b[0msorted\u001b[0m\u001b[1;33m(\u001b[0m\u001b[0mdata\u001b[0m\u001b[1;33m)\u001b[0m\u001b[1;33m\u001b[0m\u001b[1;33m\u001b[0m\u001b[0m\n\u001b[0m\u001b[0;32m      4\u001b[0m     \u001b[1;32mif\u001b[0m \u001b[0mlen\u001b[0m\u001b[1;33m(\u001b[0m\u001b[0mdata\u001b[0m\u001b[1;33m)\u001b[0m \u001b[1;33m%\u001b[0m \u001b[1;36m2\u001b[0m \u001b[1;33m==\u001b[0m \u001b[1;36m0\u001b[0m\u001b[1;33m:\u001b[0m\u001b[1;33m\u001b[0m\u001b[1;33m\u001b[0m\u001b[0m\n\u001b[0;32m      5\u001b[0m         \u001b[0mlower_bound\u001b[0m \u001b[1;33m=\u001b[0m \u001b[0mlen\u001b[0m\u001b[1;33m(\u001b[0m\u001b[0mdata\u001b[0m\u001b[1;33m)\u001b[0m \u001b[1;33m//\u001b[0m \u001b[1;36m2\u001b[0m \u001b[1;33m-\u001b[0m \u001b[1;36m1\u001b[0m\u001b[1;33m\u001b[0m\u001b[1;33m\u001b[0m\u001b[0m\n",
      "\u001b[1;31mValueError\u001b[0m: The truth value of an array with more than one element is ambiguous. Use a.any() or a.all()"
     ]
    }
   ],
   "source": [
    "median(num_friends_2)"
   ]
  },
  {
   "cell_type": "code",
   "execution_count": 22,
   "id": "032f4bda-25fc-4ccf-a4f0-8235954fd600",
   "metadata": {
    "tags": []
   },
   "outputs": [
    {
     "name": "stdout",
     "output_type": "stream",
     "text": [
      "5 6\n",
      "[6. 6. 4.]\n",
      "[4. 4. 3.]\n"
     ]
    }
   ],
   "source": [
    "a = int(len(num_friends_2) / 2)\n",
    "b = int((len(num_friends_2) / 2) + 1)\n",
    "print(a, b)\n",
    "((num_friends_2[a+1]) + (num_friends_2[b])) / 2\n",
    "print(num_friends_2[a])\n",
    "print(num_friends_2[b])"
   ]
  },
  {
   "cell_type": "markdown",
   "id": "88207320-8a3e-4b2c-9874-463c049057aa",
   "metadata": {},
   "source": [
    "**Modus (Mode)**"
   ]
  },
  {
   "cell_type": "code",
   "execution_count": 23,
   "id": "821b309b-a9b3-49b7-8349-5504b745552b",
   "metadata": {},
   "outputs": [],
   "source": [
    "def mode(x):\n",
    "    \"\"\"Return a list of most-frequent values in x, might be more than one.\"\"\"\n",
    "    counts = {\n",
    "        value: x.count(value)\n",
    "        for value in set(x)\n",
    "    }\n",
    "    max_count = max(counts.values())\n",
    "    return [\n",
    "        (v, c) for v, c in counts.items()\n",
    "        if c == max_count\n",
    "    ]"
   ]
  },
  {
   "cell_type": "code",
   "execution_count": 24,
   "id": "e6ff6e9d-9209-44a1-b54e-3fe18f908dfd",
   "metadata": {},
   "outputs": [
    {
     "name": "stdout",
     "output_type": "stream",
     "text": [
      "[100.0, 49, 41, 40, 25, 21, 21, 19, 19, 18, 18, 16, 15, 15, 15, 15, 14, 14, 13, 13, 13, 13, 12, 12, 11, 10, 10, 10, 10, 10, 10, 10, 10, 10, 10, 10, 10, 10, 10, 10, 9, 9, 9, 9, 9, 9, 9, 9, 9, 9, 9, 9, 9, 9, 9, 9, 9, 9, 8, 8, 8, 8, 8, 8, 8, 8, 8, 8, 8, 8, 8, 7, 7, 7, 7, 7, 7, 7, 7, 7, 7, 7, 7, 7, 7, 7, 6, 6, 6, 6, 6, 6, 6, 6, 6, 6, 6, 6, 6, 6, 6, 6, 6, 6, 6, 6, 6, 6, 5, 5, 5, 5, 5, 5, 5, 5, 5, 5, 5, 5, 5, 5, 5, 5, 5, 4, 4, 4, 4, 4, 4, 4, 4, 4, 4, 4, 4, 4, 4, 4, 4, 4, 4, 4, 4, 3, 3, 3, 3, 3, 3, 3, 3, 3, 3, 3, 3, 3, 3, 3, 3, 3, 3, 3, 3, 2, 2, 2, 2, 2, 2, 2, 2, 2, 2, 2, 2, 2, 2, 2, 2, 2, 1, 1, 1, 1, 1, 1, 1, 1, 1, 1, 1, 1, 1, 1, 1, 1, 1, 1, 1, 1, 1, 1]\n"
     ]
    }
   ],
   "source": [
    "print(num_friends)"
   ]
  },
  {
   "cell_type": "code",
   "execution_count": 25,
   "id": "cb9ed55f-c26e-4e8e-86cd-61d77d0b8eb5",
   "metadata": {},
   "outputs": [
    {
     "data": {
      "text/plain": [
       "[(1, 22), (6, 22)]"
      ]
     },
     "execution_count": 25,
     "metadata": {},
     "output_type": "execute_result"
    }
   ],
   "source": [
    "mode(num_friends)"
   ]
  },
  {
   "cell_type": "code",
   "execution_count": 26,
   "id": "b11d5674-5f13-4a7b-b1ce-c1f7b5b94ac4",
   "metadata": {},
   "outputs": [],
   "source": [
    "import scipy.stats"
   ]
  },
  {
   "cell_type": "code",
   "execution_count": 27,
   "id": "a0d1917f-cda5-41d1-8091-160a4f370e1e",
   "metadata": {},
   "outputs": [
    {
     "name": "stdout",
     "output_type": "stream",
     "text": [
      "[[100.  49.  41.]\n",
      " [ 14.  14.  13.]\n",
      " [ 10.  10.  10.]\n",
      " [  9.   9.   9.]\n",
      " [  7.   7.   7.]\n",
      " [  6.   6.   4.]\n",
      " [  4.   4.   3.]\n",
      " [  3.   3.   2.]\n",
      " [  2.   2.   1.]\n",
      " [  2.   2.   1.]]\n"
     ]
    }
   ],
   "source": [
    "print(num_friends_2)"
   ]
  },
  {
   "cell_type": "code",
   "execution_count": 28,
   "id": "1498b29f-1b21-4aa6-a728-4d82fd0ef379",
   "metadata": {},
   "outputs": [
    {
     "name": "stdout",
     "output_type": "stream",
     "text": [
      "ModeResult(mode=array([1.]), count=array([22]))\n",
      "ModeResult(mode=array([[2., 2., 1.]]), count=array([[2, 2, 2]]))\n",
      "[1.] [22]\n",
      "[[2. 2. 1.]] [[2 2 2]]\n"
     ]
    }
   ],
   "source": [
    "mode_num_friends = scipy.stats.mode(num_friends)\n",
    "mode_num_friends2 = scipy.stats.mode(num_friends_2)\n",
    "print(mode_num_friends)\n",
    "print(mode_num_friends2)\n",
    "print(mode_num_friends.mode, mode_num_friends.count)\n",
    "print(mode_num_friends2.mode, mode_num_friends2.count)"
   ]
  },
  {
   "cell_type": "code",
   "execution_count": 29,
   "id": "5e09bef4-6bb7-4e7c-8ef3-f87e71d22532",
   "metadata": {},
   "outputs": [],
   "source": [
    "#pertanyaan: itu kan modenya harusnya ada 1 dan 6, tp yg muncul hanya 1. apakah itu akan berpengaruh nantinya? bagaimana cara agar yg muncul 2?"
   ]
  },
  {
   "cell_type": "code",
   "execution_count": 30,
   "id": "56a2a9c7-0c17-4c25-8d1a-bb26bb33a5e1",
   "metadata": {},
   "outputs": [
    {
     "name": "stdout",
     "output_type": "stream",
     "text": [
      "ModeResult(mode=array([[41.],\n",
      "       [14.],\n",
      "       [10.],\n",
      "       [ 9.],\n",
      "       [ 7.],\n",
      "       [ 6.],\n",
      "       [ 4.],\n",
      "       [ 3.],\n",
      "       [ 2.],\n",
      "       [ 2.]]), count=array([[1],\n",
      "       [2],\n",
      "       [3],\n",
      "       [3],\n",
      "       [3],\n",
      "       [2],\n",
      "       [2],\n",
      "       [2],\n",
      "       [2],\n",
      "       [2]]))\n",
      "\n",
      "[[41.]\n",
      " [14.]\n",
      " [10.]\n",
      " [ 9.]\n",
      " [ 7.]\n",
      " [ 6.]\n",
      " [ 4.]\n",
      " [ 3.]\n",
      " [ 2.]\n",
      " [ 2.]] [[1]\n",
      " [2]\n",
      " [3]\n",
      " [3]\n",
      " [3]\n",
      " [2]\n",
      " [2]\n",
      " [2]\n",
      " [2]\n",
      " [2]]\n"
     ]
    }
   ],
   "source": [
    "mode_num_friends2 = scipy.stats.mode(num_friends_2, axis=1)\n",
    "print(mode_num_friends2)\n",
    "print()\n",
    "print(mode_num_friends2.mode, mode_num_friends2.count)"
   ]
  },
  {
   "cell_type": "markdown",
   "id": "f1826ec6-8430-4765-bd45-613ac65f698a",
   "metadata": {},
   "source": [
    "**Ukuran Persebaran Data**"
   ]
  },
  {
   "cell_type": "markdown",
   "id": "c58ea80c-4515-4de2-ae68-7acbd5aa8f1b",
   "metadata": {},
   "source": [
    "**Kuantil (Quantile)**"
   ]
  },
  {
   "cell_type": "code",
   "execution_count": 31,
   "id": "cbf79e2a-3b75-428d-afef-9adcefae1920",
   "metadata": {},
   "outputs": [
    {
     "name": "stdout",
     "output_type": "stream",
     "text": [
      "[100.0, 49, 41, 40, 25, 21, 21, 19, 19, 18, 18, 16, 15, 15, 15, 15, 14, 14, 13, 13, 13, 13, 12, 12, 11, 10, 10, 10, 10, 10, 10, 10, 10, 10, 10, 10, 10, 10, 10, 10, 9, 9, 9, 9, 9, 9, 9, 9, 9, 9, 9, 9, 9, 9, 9, 9, 9, 9, 8, 8, 8, 8, 8, 8, 8, 8, 8, 8, 8, 8, 8, 7, 7, 7, 7, 7, 7, 7, 7, 7, 7, 7, 7, 7, 7, 7, 6, 6, 6, 6, 6, 6, 6, 6, 6, 6, 6, 6, 6, 6, 6, 6, 6, 6, 6, 6, 6, 6, 5, 5, 5, 5, 5, 5, 5, 5, 5, 5, 5, 5, 5, 5, 5, 5, 5, 4, 4, 4, 4, 4, 4, 4, 4, 4, 4, 4, 4, 4, 4, 4, 4, 4, 4, 4, 4, 3, 3, 3, 3, 3, 3, 3, 3, 3, 3, 3, 3, 3, 3, 3, 3, 3, 3, 3, 3, 2, 2, 2, 2, 2, 2, 2, 2, 2, 2, 2, 2, 2, 2, 2, 2, 2, 1, 1, 1, 1, 1, 1, 1, 1, 1, 1, 1, 1, 1, 1, 1, 1, 1, 1, 1, 1, 1, 1]\n"
     ]
    }
   ],
   "source": [
    "print(num_friends)"
   ]
  },
  {
   "cell_type": "code",
   "execution_count": 32,
   "id": "4f2ea842-2c1b-4e00-8866-67d765d7b740",
   "metadata": {},
   "outputs": [
    {
     "data": {
      "text/plain": [
       "True"
      ]
     },
     "execution_count": 32,
     "metadata": {},
     "output_type": "execute_result"
    }
   ],
   "source": [
    "np.quantile(num_friends, .5) == np.median(num_friends)"
   ]
  },
  {
   "cell_type": "code",
   "execution_count": 33,
   "id": "43b6edfd-2a27-4bc3-a198-660ca1a522b8",
   "metadata": {},
   "outputs": [
    {
     "name": "stdout",
     "output_type": "stream",
     "text": [
      "6.0\n",
      "6.0\n"
     ]
    }
   ],
   "source": [
    "print(np.quantile(num_friends, .5))\n",
    "print(np.median(num_friends))"
   ]
  },
  {
   "cell_type": "code",
   "execution_count": 34,
   "id": "c115625b-2dfd-46da-9b72-00934fbae0ed",
   "metadata": {},
   "outputs": [
    {
     "name": "stdout",
     "output_type": "stream",
     "text": [
      "3.0\n",
      "3.0\n"
     ]
    }
   ],
   "source": [
    "print(np.quantile(num_friends, .25))\n",
    "print(np.percentile(num_friends, 25))"
   ]
  },
  {
   "cell_type": "code",
   "execution_count": 35,
   "id": "82aad750-2868-4406-8163-9c4e469f98e1",
   "metadata": {},
   "outputs": [
    {
     "name": "stdout",
     "output_type": "stream",
     "text": [
      "[3. 6. 9.]\n",
      "[3. 6. 9.]\n"
     ]
    }
   ],
   "source": [
    "print(np.quantile(num_friends, [.25, .5, .75]))\n",
    "print(np.percentile(num_friends, [25, 50, 75]))"
   ]
  },
  {
   "cell_type": "code",
   "execution_count": 36,
   "id": "957d16b2-45c4-4eb6-91d8-920ab5fbbd07",
   "metadata": {
    "tags": []
   },
   "outputs": [],
   "source": [
    "test = [1, 2, 3, 4, 5, 6, 7, 8, 9, 10, 11, 12, 13, 14, 15, 16, 17, 18, 19]"
   ]
  },
  {
   "cell_type": "code",
   "execution_count": 37,
   "id": "60ed800e-e933-401e-ad2e-627b7ff9688e",
   "metadata": {},
   "outputs": [
    {
     "name": "stdout",
     "output_type": "stream",
     "text": [
      "[ 1.   2.8  5.5  8.2 10.  14.5 19. ]\n"
     ]
    }
   ],
   "source": [
    "print(np.quantile(test, [0., .1, .25, .4, .5, .75, 1.]))"
   ]
  },
  {
   "cell_type": "code",
   "execution_count": 38,
   "id": "dd1ca90c-0a4a-46fe-b9e5-06f5c6a725d5",
   "metadata": {},
   "outputs": [],
   "source": [
    "test2 = [1, 2, 3, 4, 5, 6, 7, 8, 9, 10, 11, 12, 13, 14, 15, 16, 17, 18]"
   ]
  },
  {
   "cell_type": "code",
   "execution_count": 39,
   "id": "72bce9d7-30d9-42ca-8534-da20036343ee",
   "metadata": {},
   "outputs": [
    {
     "name": "stdout",
     "output_type": "stream",
     "text": [
      "[ 1.    2.7   5.25  7.8   9.5  13.75 18.  ]\n"
     ]
    }
   ],
   "source": [
    "print(np.quantile(test2, [0, .1, .25, .4, .5, .75, 1]))"
   ]
  },
  {
   "cell_type": "code",
   "execution_count": 40,
   "id": "f9752f43-cd6f-4ddc-b5fb-4d5a7bff802c",
   "metadata": {},
   "outputs": [],
   "source": [
    "def quantile(data, q):\n",
    "    \"\"\"Return q-th quantile of the data.\n",
    "    data = array like object\n",
    "    q = quantile to compute, between 0 and 1 inclusive\"\"\"\n",
    "    data = sorted(data)\n",
    "    if q < 0 or q > 1: #check if q is between 0 and 1\n",
    "        return \"ValueError. q must be between 0 and 1 inclusive\"\n",
    "    ith_observation = q * (len(data) + 1)\n",
    "    if type(ith_observation) == int: #if ith_observation integer number\n",
    "        return [data[ith_observation]]\n",
    "    if type(ith_observation) == float: #if ith_observation folat number\n",
    "        value_1 = data[int(ith_observation - 1)]\n",
    "        value_2 = data[int(ith_observation)]\n",
    "        if value_1 == value_2:\n",
    "            return [value_1]\n",
    "        return [value_1 + (value_2 - value_1) * (ith_observation - int(ith_observation))]"
   ]
  },
  {
   "cell_type": "code",
   "execution_count": 41,
   "id": "3728d0b6-bc8e-42c7-b731-e8aceb30f76f",
   "metadata": {
    "tags": []
   },
   "outputs": [
    {
     "data": {
      "text/plain": [
       "[4.75]"
      ]
     },
     "execution_count": 41,
     "metadata": {},
     "output_type": "execute_result"
    }
   ],
   "source": [
    "quantile(test2, .25)"
   ]
  },
  {
   "cell_type": "markdown",
   "id": "41d6f3de-8f67-4c6f-bd9d-91ff9007b2cf",
   "metadata": {},
   "source": [
    "**Jangkauan (Range)**"
   ]
  },
  {
   "cell_type": "code",
   "execution_count": 42,
   "id": "fc559fe4-e496-44dc-84dd-123849c9df29",
   "metadata": {},
   "outputs": [],
   "source": [
    "def data_range(x):\n",
    "    return max(x) - min(x)"
   ]
  },
  {
   "cell_type": "code",
   "execution_count": 43,
   "id": "1aed3917-016d-4b0f-9b5b-17bdf8dad113",
   "metadata": {},
   "outputs": [
    {
     "data": {
      "text/plain": [
       "99.0"
      ]
     },
     "execution_count": 43,
     "metadata": {},
     "output_type": "execute_result"
    }
   ],
   "source": [
    "data_range(num_friends)"
   ]
  },
  {
   "cell_type": "code",
   "execution_count": 44,
   "id": "658397bc-371c-43b7-a52a-c896af491589",
   "metadata": {},
   "outputs": [
    {
     "data": {
      "text/plain": [
       "99.0"
      ]
     },
     "execution_count": 44,
     "metadata": {},
     "output_type": "execute_result"
    }
   ],
   "source": [
    "np.ptp(num_friends)"
   ]
  },
  {
   "cell_type": "markdown",
   "id": "238aae03-f1a3-44c3-8588-740b7f7ad055",
   "metadata": {},
   "source": [
    "**Varian (Variance)**"
   ]
  },
  {
   "cell_type": "code",
   "execution_count": 45,
   "id": "ac2ed5e5-0445-462d-87af-ce6f3812c243",
   "metadata": {},
   "outputs": [
    {
     "name": "stdout",
     "output_type": "stream",
     "text": [
      "[100.0, 49, 41, 40, 25, 21, 21, 19, 19, 18, 18, 16, 15, 15, 15, 15, 14, 14, 13, 13, 13, 13, 12, 12, 11, 10, 10, 10, 10, 10, 10, 10, 10, 10, 10, 10, 10, 10, 10, 10, 9, 9, 9, 9, 9, 9, 9, 9, 9, 9, 9, 9, 9, 9, 9, 9, 9, 9, 8, 8, 8, 8, 8, 8, 8, 8, 8, 8, 8, 8, 8, 7, 7, 7, 7, 7, 7, 7, 7, 7, 7, 7, 7, 7, 7, 7, 6, 6, 6, 6, 6, 6, 6, 6, 6, 6, 6, 6, 6, 6, 6, 6, 6, 6, 6, 6, 6, 6, 5, 5, 5, 5, 5, 5, 5, 5, 5, 5, 5, 5, 5, 5, 5, 5, 5, 4, 4, 4, 4, 4, 4, 4, 4, 4, 4, 4, 4, 4, 4, 4, 4, 4, 4, 4, 4, 3, 3, 3, 3, 3, 3, 3, 3, 3, 3, 3, 3, 3, 3, 3, 3, 3, 3, 3, 3, 2, 2, 2, 2, 2, 2, 2, 2, 2, 2, 2, 2, 2, 2, 2, 2, 2, 1, 1, 1, 1, 1, 1, 1, 1, 1, 1, 1, 1, 1, 1, 1, 1, 1, 1, 1, 1, 1, 1]\n"
     ]
    }
   ],
   "source": [
    "print(num_friends)"
   ]
  },
  {
   "cell_type": "code",
   "execution_count": 46,
   "id": "cfe35501-2541-411c-ba82-b2ad48f15d66",
   "metadata": {},
   "outputs": [
    {
     "data": {
      "text/plain": [
       "81.54351395730707"
      ]
     },
     "execution_count": 46,
     "metadata": {},
     "output_type": "execute_result"
    }
   ],
   "source": [
    "np.var(num_friends, ddof=1)"
   ]
  },
  {
   "cell_type": "markdown",
   "id": "8dc79bea-9edf-4d0a-a99e-37d921a5db8c",
   "metadata": {},
   "source": [
    "KUIS"
   ]
  },
  {
   "cell_type": "code",
   "execution_count": 47,
   "id": "7d59f60e-377c-4b3c-9a47-803efdc09698",
   "metadata": {},
   "outputs": [],
   "source": [
    "def sum_of_squares(x):\n",
    "    return sum([item**2 for item in x])\n",
    "\n",
    "def deviation_mean(x):\n",
    "    mean = sum(x) / len(x)\n",
    "    return [item - mean for item in x]\n",
    "\n",
    "def variance(x):\n",
    "    return sum_of_squares(deviation_mean(x)) / (len(x) - 1)"
   ]
  },
  {
   "cell_type": "code",
   "execution_count": 48,
   "id": "eddb4be5-1422-4662-871e-90a80b4c122a",
   "metadata": {},
   "outputs": [],
   "source": [
    "test_var = [1, 2, 3, 4]"
   ]
  },
  {
   "cell_type": "code",
   "execution_count": 49,
   "id": "aaa7919d-445b-4e65-956d-b5bdc299981d",
   "metadata": {},
   "outputs": [
    {
     "data": {
      "text/plain": [
       "30"
      ]
     },
     "execution_count": 49,
     "metadata": {},
     "output_type": "execute_result"
    }
   ],
   "source": [
    "sum_of_squares(test_var)"
   ]
  },
  {
   "cell_type": "code",
   "execution_count": 50,
   "id": "86fbb29e-6502-410f-bfc8-e803a6562812",
   "metadata": {},
   "outputs": [
    {
     "name": "stdout",
     "output_type": "stream",
     "text": [
      "30\n"
     ]
    },
    {
     "data": {
      "text/plain": [
       "[-1.5, -0.5, 0.5, 1.5]"
      ]
     },
     "execution_count": 50,
     "metadata": {},
     "output_type": "execute_result"
    }
   ],
   "source": [
    "print(sum_of_squares(test_var))\n",
    "deviation_mean(test_var)"
   ]
  },
  {
   "cell_type": "code",
   "execution_count": 51,
   "id": "8a8a98ba-410e-4085-a4f9-d4eb332de167",
   "metadata": {},
   "outputs": [
    {
     "data": {
      "text/plain": [
       "1.6666666666666667"
      ]
     },
     "execution_count": 51,
     "metadata": {},
     "output_type": "execute_result"
    }
   ],
   "source": [
    "variance(test_var)"
   ]
  },
  {
   "cell_type": "code",
   "execution_count": 52,
   "id": "c1c9c0a9-eed0-4662-9b8c-7c0ca45d7ed0",
   "metadata": {},
   "outputs": [
    {
     "data": {
      "text/plain": [
       "1.6666666666666667"
      ]
     },
     "execution_count": 52,
     "metadata": {},
     "output_type": "execute_result"
    }
   ],
   "source": [
    "np.var(test_var, ddof=1)"
   ]
  },
  {
   "cell_type": "code",
   "execution_count": 53,
   "id": "fcc10f8c-dea4-4e8a-baf2-26dc785d6fea",
   "metadata": {},
   "outputs": [
    {
     "name": "stdout",
     "output_type": "stream",
     "text": [
      "81.54351395730716\n",
      "81.54351395730707\n"
     ]
    }
   ],
   "source": [
    "print(variance(np.array(num_friends)))\n",
    "print(np.var(num_friends, ddof=1))"
   ]
  },
  {
   "cell_type": "code",
   "execution_count": 54,
   "id": "79aea286-8648-4162-a054-a74abb357ba4",
   "metadata": {},
   "outputs": [],
   "source": [
    "#pertanyaan: gimana caranya biar bisa pake list?"
   ]
  },
  {
   "cell_type": "markdown",
   "id": "d6480a76-32eb-4d54-af74-a8133142eb56",
   "metadata": {},
   "source": [
    "**Standar Deviasi (Standard Deviation)**"
   ]
  },
  {
   "cell_type": "code",
   "execution_count": 55,
   "id": "6b97bf44-5ffc-4c05-a75f-bccb7a6479be",
   "metadata": {},
   "outputs": [],
   "source": [
    "def standard_deviation(x):\n",
    "    return variance(x)**(1/2)"
   ]
  },
  {
   "cell_type": "code",
   "execution_count": 56,
   "id": "42ddeae2-a612-43ab-826b-ef8222717896",
   "metadata": {},
   "outputs": [
    {
     "data": {
      "text/plain": [
       "9.030144736232474"
      ]
     },
     "execution_count": 56,
     "metadata": {},
     "output_type": "execute_result"
    }
   ],
   "source": [
    "np.std(num_friends, ddof=1)"
   ]
  },
  {
   "cell_type": "code",
   "execution_count": 57,
   "id": "7a04679d-99c6-4d87-90dc-be282b7735df",
   "metadata": {},
   "outputs": [
    {
     "data": {
      "text/plain": [
       "9.03014473623248"
      ]
     },
     "execution_count": 57,
     "metadata": {},
     "output_type": "execute_result"
    }
   ],
   "source": [
    "standard_deviation(np.array(num_friends))"
   ]
  },
  {
   "cell_type": "markdown",
   "id": "14194ca3-5f29-4340-8729-7afe18f70ccd",
   "metadata": {},
   "source": [
    "Jangkauan Interkuartil (interquartile Range)"
   ]
  },
  {
   "cell_type": "code",
   "execution_count": 58,
   "id": "37e136f7-02dc-4b6c-bfb0-96e50681d9db",
   "metadata": {},
   "outputs": [
    {
     "name": "stdout",
     "output_type": "stream",
     "text": [
      "3.0\n",
      "9.0\n",
      "6.0\n"
     ]
    }
   ],
   "source": [
    "q1, q3 = np.quantile(num_friends, [.25, .75])\n",
    "IQR = q3 - q1\n",
    "\n",
    "print(q1)\n",
    "print(q3)\n",
    "print(IQR)"
   ]
  },
  {
   "cell_type": "markdown",
   "id": "ba4df1d9-3819-4642-8dd4-d11f192c2a01",
   "metadata": {},
   "source": [
    "**Kovariansi (Covariance) dan Korelasi (Correlation)**"
   ]
  },
  {
   "cell_type": "code",
   "execution_count": 59,
   "id": "d2f124cc-d5aa-4230-9b13-93d1a037269e",
   "metadata": {},
   "outputs": [
    {
     "name": "stdout",
     "output_type": "stream",
     "text": [
      "[100.0, 49, 41, 40, 25, 21, 21, 19, 19, 18, 18, 16, 15, 15, 15, 15, 14, 14, 13, 13, 13, 13, 12, 12, 11, 10, 10, 10, 10, 10, 10, 10, 10, 10, 10, 10, 10, 10, 10, 10, 9, 9, 9, 9, 9, 9, 9, 9, 9, 9, 9, 9, 9, 9, 9, 9, 9, 9, 8, 8, 8, 8, 8, 8, 8, 8, 8, 8, 8, 8, 8, 7, 7, 7, 7, 7, 7, 7, 7, 7, 7, 7, 7, 7, 7, 7, 6, 6, 6, 6, 6, 6, 6, 6, 6, 6, 6, 6, 6, 6, 6, 6, 6, 6, 6, 6, 6, 6, 5, 5, 5, 5, 5, 5, 5, 5, 5, 5, 5, 5, 5, 5, 5, 5, 5, 4, 4, 4, 4, 4, 4, 4, 4, 4, 4, 4, 4, 4, 4, 4, 4, 4, 4, 4, 4, 3, 3, 3, 3, 3, 3, 3, 3, 3, 3, 3, 3, 3, 3, 3, 3, 3, 3, 3, 3, 2, 2, 2, 2, 2, 2, 2, 2, 2, 2, 2, 2, 2, 2, 2, 2, 2, 1, 1, 1, 1, 1, 1, 1, 1, 1, 1, 1, 1, 1, 1, 1, 1, 1, 1, 1, 1, 1, 1]\n",
      "[1, 1, 1, 1, 1, 1, 1, 1, 1, 1, 1, 1, 1, 1, 1, 1, 1, 1, 1, 1, 1, 1, 2, 2, 2, 2, 2, 2, 2, 2, 2, 2, 2, 2, 2, 2, 2, 2, 2, 3, 3, 3, 3, 3, 3, 3, 3, 3, 3, 3, 3, 3, 3, 3, 3, 3, 3, 3, 3, 4, 4, 4, 4, 4, 4, 4, 4, 4, 4, 4, 4, 4, 4, 4, 4, 4, 4, 4, 4, 5, 5, 5, 5, 5, 5, 5, 5, 5, 5, 5, 5, 5, 5, 5, 5, 5, 6, 6, 6, 6, 6, 6, 6, 6, 6, 6, 6, 6, 6, 6, 6, 6, 6, 6, 6, 6, 6, 6, 7, 7, 7, 7, 7, 7, 7, 7, 7, 7, 7, 7, 7, 7, 7, 8, 8, 8, 8, 8, 8, 8, 8, 8, 8, 8, 8, 8, 9, 9, 9, 9, 9, 9, 9, 9, 9, 9, 9, 9, 9, 9, 9, 9, 9, 9, 10, 10, 10, 10, 10, 10, 10, 10, 10, 10, 10, 10, 10, 10, 10, 11, 12, 12, 13, 13, 13, 13, 14, 14, 15, 15, 15, 15, 16, 18, 18, 19, 19, 21, 21, 25, 40, 41, 49, 100.0]\n"
     ]
    }
   ],
   "source": [
    "some_friends = num_friends[::-1]\n",
    "print(num_friends)\n",
    "print(some_friends)"
   ]
  },
  {
   "cell_type": "code",
   "execution_count": 60,
   "id": "209ee17e-ceb0-467f-9832-69f8355655cd",
   "metadata": {
    "tags": []
   },
   "outputs": [
    {
     "data": {
      "text/plain": [
       "array([[ 81.54351396, -26.59441708],\n",
       "       [-26.59441708,  81.54351396]])"
      ]
     },
     "execution_count": 60,
     "metadata": {},
     "output_type": "execute_result"
    }
   ],
   "source": [
    "np.cov(num_friends, some_friends, ddof=1)"
   ]
  },
  {
   "cell_type": "markdown",
   "id": "2e427c1e-10df-4a30-9a1e-7344696de9a6",
   "metadata": {},
   "source": [
    "KUIS"
   ]
  },
  {
   "cell_type": "code",
   "execution_count": 61,
   "id": "1abf709c-2859-4e1b-b01e-b308fe4bcbe4",
   "metadata": {},
   "outputs": [],
   "source": [
    "def covariance(data1, data2):\n",
    "    return sum((data1 - (sum(data1) / len(data1))) * (data2 - (sum(data2) / len(data2)))) / (len(data1) - 1)"
   ]
  },
  {
   "cell_type": "code",
   "execution_count": 62,
   "id": "d33ce512-236e-4325-9184-d8158ee1f107",
   "metadata": {},
   "outputs": [
    {
     "data": {
      "text/plain": [
       "-26.594417077175624"
      ]
     },
     "execution_count": 62,
     "metadata": {},
     "output_type": "execute_result"
    }
   ],
   "source": [
    "covariance(np.array(num_friends), np.array(some_friends))"
   ]
  },
  {
   "cell_type": "code",
   "execution_count": 63,
   "id": "06f9ca2a-e170-408e-8743-f34010332070",
   "metadata": {},
   "outputs": [],
   "source": [
    "#apakah benar?"
   ]
  },
  {
   "cell_type": "code",
   "execution_count": 64,
   "id": "2abcfaf9-d76d-456a-8db4-c35d176569a7",
   "metadata": {},
   "outputs": [
    {
     "data": {
      "text/plain": [
       "array([[ 1.        , -0.32613774],\n",
       "       [-0.32613774,  1.        ]])"
      ]
     },
     "execution_count": 64,
     "metadata": {},
     "output_type": "execute_result"
    }
   ],
   "source": [
    "np.corrcoef(num_friends, some_friends)"
   ]
  },
  {
   "cell_type": "code",
   "execution_count": 65,
   "id": "205d33ac-31e1-4651-a7f5-a0a16295d56a",
   "metadata": {},
   "outputs": [],
   "source": [
    "def correlation(data1, data2):\n",
    "    return covariance(data1, data2) / (standard_deviation(data1) * standard_deviation(data2))"
   ]
  },
  {
   "cell_type": "code",
   "execution_count": 66,
   "id": "f32ce7c8-64b7-47ed-8267-f496fea55399",
   "metadata": {},
   "outputs": [
    {
     "data": {
      "text/plain": [
       "-0.32613773660893963"
      ]
     },
     "execution_count": 66,
     "metadata": {},
     "output_type": "execute_result"
    }
   ],
   "source": [
    "correlation(np.array(num_friends), np.array(some_friends))"
   ]
  },
  {
   "cell_type": "code",
   "execution_count": null,
   "id": "c2f3f545-1a05-4cc8-97ae-967c76e179bf",
   "metadata": {},
   "outputs": [],
   "source": []
  }
 ],
 "metadata": {
  "kernelspec": {
   "display_name": "Python 3 (ipykernel)",
   "language": "python",
   "name": "python3"
  },
  "language_info": {
   "codemirror_mode": {
    "name": "ipython",
    "version": 3
   },
   "file_extension": ".py",
   "mimetype": "text/x-python",
   "name": "python",
   "nbconvert_exporter": "python",
   "pygments_lexer": "ipython3",
   "version": "3.9.7"
  }
 },
 "nbformat": 4,
 "nbformat_minor": 5
}
