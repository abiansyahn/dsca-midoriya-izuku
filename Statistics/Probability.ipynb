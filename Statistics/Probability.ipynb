{
 "cells": [
  {
   "cell_type": "markdown",
   "id": "8cc7768c-cec0-482e-9e33-aa6b687d0626",
   "metadata": {},
   "source": [
    "**PROBABILITY**"
   ]
  },
  {
   "cell_type": "code",
   "execution_count": 1,
   "id": "75c622e9-7cae-47c2-8460-d43060d92dbb",
   "metadata": {},
   "outputs": [
    {
     "name": "stdout",
     "output_type": "stream",
     "text": [
      "probability of getting angka: 0.5\n"
     ]
    }
   ],
   "source": [
    "coin_sample_space = [\"H\", \"A\"]\n",
    "\n",
    "num_all_possible = len(coin_sample_space)\n",
    "num_meet_condition = coin_sample_space.count(\"A\")\n",
    "\n",
    "P_A = num_meet_condition / num_all_possible\n",
    "print(\"probability of getting angka:\", P_A)"
   ]
  },
  {
   "cell_type": "code",
   "execution_count": 2,
   "id": "ed035dce-90f9-4bb5-83c7-c417a2be2277",
   "metadata": {},
   "outputs": [
    {
     "name": "stdout",
     "output_type": "stream",
     "text": [
      "probability of getting 3: 0.16666666666666666\n"
     ]
    }
   ],
   "source": [
    "dice_sample_space = list(range(1, 7))\n",
    "\n",
    "num_all_possible = len(dice_sample_space)\n",
    "num_meet_condition = dice_sample_space.count(3)\n",
    "\n",
    "P_3 = num_meet_condition / num_all_possible\n",
    "print(\"probability of getting 3:\", P_3)"
   ]
  },
  {
   "cell_type": "markdown",
   "id": "30366750-5c59-42c9-b1cc-c9a0dcd81a5e",
   "metadata": {},
   "source": [
    "KUIS"
   ]
  },
  {
   "cell_type": "code",
   "execution_count": 10,
   "id": "fa793eba-6708-409b-8760-187092c7df49",
   "metadata": {},
   "outputs": [
    {
     "name": "stdout",
     "output_type": "stream",
     "text": [
      "0.25\n"
     ]
    }
   ],
   "source": [
    "#1.\n",
    "num_all_possible = len(coin_sample_space) ** 2\n",
    "num_meet_condition = coin_sample_space.count(\"A\")\n",
    "\n",
    "P_AA = num_meet_condition / num_all_possible\n",
    "print(P_AA)"
   ]
  },
  {
   "cell_type": "code",
   "execution_count": 23,
   "id": "8b2e149b-5b35-4187-a025-59df7c741f6f",
   "metadata": {},
   "outputs": [
    {
     "name": "stdout",
     "output_type": "stream",
     "text": [
      "0.1388888888888889\n",
      "[(1, 5), (2, 4), (3, 3), (4, 2), (5, 1)]\n"
     ]
    }
   ],
   "source": [
    "#2\n",
    "dice_sample_space_A = list(range(1, 7))\n",
    "dice_sample_space_B = list(range(1, 7))\n",
    "total_dice_sample_space = [(i, j) for i in dice_sample_space_A for j in dice_sample_space_B]\n",
    "total_6 = [(i, j) for i in dice_sample_space_A for j in dice_sample_space_B if i + j == 6]\n",
    "\n",
    "num_all_possible = len(total_dice_sample_space)\n",
    "num_meet_condition = len(total_6)\n",
    "\n",
    "P_66 = num_meet_condition / num_all_possible\n",
    "print(P_66)\n",
    "print(total_6)"
   ]
  },
  {
   "cell_type": "code",
   "execution_count": 5,
   "id": "f3021a87-8d27-4682-9d0f-413326e6b36f",
   "metadata": {},
   "outputs": [
    {
     "name": "stdout",
     "output_type": "stream",
     "text": [
      "0.5833333333333334\n",
      "0.6666666666666666\n",
      "1.0\n"
     ]
    }
   ],
   "source": [
    "#3\n",
    "num_red_marble = 4\n",
    "num_yellow_marble = 3\n",
    "num_blue_marble = 5\n",
    "num_marble_sample_space = 12\n",
    "\n",
    "p_not_blue = (num_red_marble + num_yellow_marble) / num_marble_sample_space\n",
    "p_not_red = (num_yellow_marble + num_blue_marble) / num_marble_sample_space\n",
    "p_yellow = num_yellow_marble / num_marble_sample_space\n",
    "\n",
    "p_not_blue_or_red = p_not_blue + p_not_red - p_yellow\n",
    "\n",
    "print(p_not_blue)\n",
    "print(p_not_red)\n",
    "print(p_not_blue_or_red)"
   ]
  },
  {
   "cell_type": "code",
   "execution_count": 11,
   "id": "c97a0b51-598e-4870-a7ee-68a3165eefff",
   "metadata": {},
   "outputs": [
    {
     "name": "stdout",
     "output_type": "stream",
     "text": [
      "P(As & heart) =  0.019230769230769232\n"
     ]
    }
   ],
   "source": [
    "cards_sample_space = {\"heart\": list(range(1, 14)), \"diamond\": list(range(1, 14)),\n",
    "                      \"spades\": list(range(1, 14)), \"clubs\": list(range(1, 14))}\n",
    "total_cards = sum(len(cards_sample_space[suit]) for suit in cards_sample_space.keys())\n",
    "P_As_heart = 1 / total_cards\n",
    "print(\"P(As & heart) = \", P_As_heart)"
   ]
  },
  {
   "cell_type": "code",
   "execution_count": 12,
   "id": "3effb422-9381-4d4d-947d-6fc0423d2213",
   "metadata": {},
   "outputs": [],
   "source": [
    "import random\n",
    "\n",
    "random.seed(11)\n",
    "\n",
    "salesteam = [\"Brian\", \"Paul\", \"Martha\", \"Agnes\"]"
   ]
  },
  {
   "cell_type": "code",
   "execution_count": 13,
   "id": "9eb70576-1955-4913-91c4-099c8dee190c",
   "metadata": {},
   "outputs": [
    {
     "data": {
      "text/plain": [
       "'Agnes'"
      ]
     },
     "execution_count": 13,
     "metadata": {},
     "output_type": "execute_result"
    }
   ],
   "source": [
    "random.choice(salesteam)"
   ]
  },
  {
   "cell_type": "code",
   "execution_count": 14,
   "id": "6832e10f-829a-4130-ad16-94271d4531ad",
   "metadata": {},
   "outputs": [
    {
     "name": "stdout",
     "output_type": "stream",
     "text": [
      "['Agnes', 'Martha', 'Paul']\n"
     ]
    }
   ],
   "source": [
    "random.seed(11)\n",
    "print(random.sample(salesteam, k=3))"
   ]
  },
  {
   "cell_type": "code",
   "execution_count": 15,
   "id": "426f3046-057a-47f8-8de9-28cd7e18a9f1",
   "metadata": {},
   "outputs": [
    {
     "data": {
      "text/plain": [
       "['Brian', 'Agnes', 'Agnes']"
      ]
     },
     "execution_count": 15,
     "metadata": {},
     "output_type": "execute_result"
    }
   ],
   "source": [
    "random.seed(1)\n",
    "random.choices(salesteam, k=3)"
   ]
  },
  {
   "cell_type": "code",
   "execution_count": 16,
   "id": "4e721f69-1ed1-44a0-8ecc-c7236a0bc4dd",
   "metadata": {},
   "outputs": [
    {
     "name": "stdout",
     "output_type": "stream",
     "text": [
      "sample space:\n",
      " [(1, 1), (1, 2), (1, 3), (1, 4), (1, 5), (1, 6), (2, 1), (2, 2), (2, 3), (2, 4), (2, 5), (2, 6), (3, 1), (3, 2), (3, 3), (3, 4), (3, 5), (3, 6), (4, 1), (4, 2), (4, 3), (4, 4), (4, 5), (4, 6), (5, 1), (5, 2), (5, 3), (5, 4), (5, 5), (5, 6), (6, 1), (6, 2), (6, 3), (6, 4), (6, 5), (6, 6)]\n",
      "length of total sample space: 36\n"
     ]
    }
   ],
   "source": [
    "first_dice_sample_space = list(range(1, 7))\n",
    "second_dice_sample_space = list(range(1, 7))\n",
    "total_dice_sample_space = [(i, j) for i in first_dice_sample_space for j in second_dice_sample_space]\n",
    "print(\"sample space:\\n\", total_dice_sample_space)\n",
    "print(\"length of total sample space:\", len(total_dice_sample_space))"
   ]
  },
  {
   "cell_type": "code",
   "execution_count": 17,
   "id": "e016c20f-a016-4559-ab6e-0341c06696bb",
   "metadata": {},
   "outputs": [
    {
     "name": "stdout",
     "output_type": "stream",
     "text": [
      "P(A) =  0.16666666666666666\n",
      "P(B) =  0.16666666666666666\n",
      "P(A, B) =  0.027777777777777776\n"
     ]
    }
   ],
   "source": [
    "num_first_roll = 1\n",
    "num_second_roll = 1\n",
    "\n",
    "p_first = num_first_roll / len(first_dice_sample_space)\n",
    "p_second = num_second_roll / len(second_dice_sample_space)\n",
    "p_first_second = p_first * p_second\n",
    "print(\"P(A) = \", p_first)\n",
    "print(\"P(B) = \", p_second)\n",
    "print(\"P(A, B) = \", p_first_second)"
   ]
  },
  {
   "cell_type": "code",
   "execution_count": 18,
   "id": "48c1aecc-085b-44ae-8f86-683d6f36bd52",
   "metadata": {},
   "outputs": [
    {
     "name": "stdout",
     "output_type": "stream",
     "text": [
      "P(B) =  0.7142857142857143\n"
     ]
    }
   ],
   "source": [
    "num_green_marble = 3\n",
    "num_blue_marble = 5\n",
    "num_marble_sample_space = 8\n",
    "\n",
    "# first draw happen\n",
    "num_marble_sample_space -= 1\n",
    "\n",
    "p_second = num_blue_marble / num_marble_sample_space\n",
    "print(\"P(B) = \", p_second)"
   ]
  },
  {
   "cell_type": "markdown",
   "id": "b587ffc9-9b60-4c41-89f0-af90113f3ae1",
   "metadata": {},
   "source": []
  }
 ],
 "metadata": {
  "kernelspec": {
   "display_name": "Python 3 (ipykernel)",
   "language": "python",
   "name": "python3"
  },
  "language_info": {
   "codemirror_mode": {
    "name": "ipython",
    "version": 3
   },
   "file_extension": ".py",
   "mimetype": "text/x-python",
   "name": "python",
   "nbconvert_exporter": "python",
   "pygments_lexer": "ipython3",
   "version": "3.9.7"
  }
 },
 "nbformat": 4,
 "nbformat_minor": 5
}
