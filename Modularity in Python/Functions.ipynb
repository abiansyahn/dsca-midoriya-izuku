{
 "cells": [
  {
   "cell_type": "markdown",
   "id": "1f2c83ee-f80d-4481-88f4-974dc709be0a",
   "metadata": {},
   "source": [
    "**FUNCTIONS**"
   ]
  },
  {
   "cell_type": "markdown",
   "id": "9dadbde4-794a-4835-88d2-f6cb796f3857",
   "metadata": {},
   "source": [
    "**Fungi dengan Parameter Masukan**"
   ]
  },
  {
   "cell_type": "markdown",
   "id": "cf18ae44-e62f-4daf-aff7-8767e4b22742",
   "metadata": {},
   "source": [
    "KUIS"
   ]
  },
  {
   "cell_type": "code",
   "execution_count": 1,
   "id": "1ba1fef7-cf94-472d-b0dd-37582f9c6914",
   "metadata": {},
   "outputs": [],
   "source": [
    "def commentary(color):\n",
    "    if color == \"red\":\n",
    "        return \"It's a tomato\"\n",
    "    if color == \"green\":\n",
    "        return \"It's a green pepper\"\n",
    "    if color == \"bees\":\n",
    "        return \"i don't know what it is, but looks like a bee\"\n",
    "    return \"I've never heard of color \" + color + \" before\""
   ]
  },
  {
   "cell_type": "code",
   "execution_count": 2,
   "id": "5a6eb0e6-5bfb-465b-bc33-85373df5a4a6",
   "metadata": {},
   "outputs": [
    {
     "data": {
      "text/plain": [
       "\"I've never heard of color blue before\""
      ]
     },
     "execution_count": 2,
     "metadata": {},
     "output_type": "execute_result"
    }
   ],
   "source": [
    "commentary(\"blue\")"
   ]
  },
  {
   "cell_type": "markdown",
   "id": "627f92cd-1db4-4772-92eb-45ccce7b6ae1",
   "metadata": {},
   "source": [
    "**Argumen dan Parameter**"
   ]
  },
  {
   "cell_type": "markdown",
   "id": "86642056-f7ba-4d79-855f-e488677fc2b1",
   "metadata": {},
   "source": [
    "KUIS"
   ]
  },
  {
   "cell_type": "code",
   "execution_count": 3,
   "id": "67d485fb-478a-46a7-b68e-896b45ecc7d7",
   "metadata": {},
   "outputs": [],
   "source": [
    "def readable_timedelta(days):\n",
    "    number_of_weeks = days // 7\n",
    "    remainder_days = days % 7\n",
    "    \n",
    "    if days < 7:\n",
    "        return \"{} day(s)\".format(remainder_days)\n",
    "    if remainder_days == 0:\n",
    "        return \"{} week(s))\".format(number_of_weeks)\n",
    "    return \"{} week(s) and {} day(s)\".format(number_of_weeks, remainder_days)"
   ]
  },
  {
   "cell_type": "code",
   "execution_count": 4,
   "id": "0b25108b-ae86-4a6b-bca2-d76115fd0939",
   "metadata": {},
   "outputs": [
    {
     "data": {
      "text/plain": [
       "'1 week(s) and 3 day(s)'"
      ]
     },
     "execution_count": 4,
     "metadata": {},
     "output_type": "execute_result"
    }
   ],
   "source": [
    "readable_timedelta(10)"
   ]
  },
  {
   "cell_type": "markdown",
   "id": "d7f0d313-f109-4d5a-a2ef-fe61b30506a3",
   "metadata": {},
   "source": [
    "**Variable-length Positional Argument**"
   ]
  },
  {
   "cell_type": "code",
   "execution_count": 5,
   "id": "6e98ca6d-96b4-4c49-9aa9-bcb7050c6961",
   "metadata": {},
   "outputs": [],
   "source": [
    "def func(*args):\n",
    "    return args"
   ]
  },
  {
   "cell_type": "code",
   "execution_count": 6,
   "id": "6e86e94d-08f1-4c22-8f29-9b4d54445ea6",
   "metadata": {},
   "outputs": [
    {
     "data": {
      "text/plain": [
       "(1, 2, 3, 4, 'ini argumen', 'ini juga argumen')"
      ]
     },
     "execution_count": 6,
     "metadata": {},
     "output_type": "execute_result"
    }
   ],
   "source": [
    "func(1, 2, 3, 4, 'ini argumen', 'ini juga argumen')"
   ]
  },
  {
   "cell_type": "code",
   "execution_count": 7,
   "id": "9d62fc44-b7f2-4efe-8134-4194a2bf97a5",
   "metadata": {},
   "outputs": [],
   "source": [
    "def do_mean(prefix, *data, suffix):\n",
    "    print('prefix:', prefix)\n",
    "    print('suffix:', suffix)\n",
    "    \n",
    "    if len(data):\n",
    "        return sum(data) / len(data)\n",
    "    return \"no data provided\""
   ]
  },
  {
   "cell_type": "code",
   "execution_count": 8,
   "id": "9d710478-bbf9-4a01-8895-fd264913c59c",
   "metadata": {},
   "outputs": [
    {
     "name": "stdout",
     "output_type": "stream",
     "text": [
      "prefix: 50\n",
      "suffix: 100\n"
     ]
    },
    {
     "data": {
      "text/plain": [
       "4.0"
      ]
     },
     "execution_count": 8,
     "metadata": {},
     "output_type": "execute_result"
    }
   ],
   "source": [
    "do_mean(50, 1, 2, 3, 4, 5, 6, 7, suffix=100)"
   ]
  },
  {
   "cell_type": "markdown",
   "id": "493c9fe3-821f-4c35-81cc-9c5de3f39de6",
   "metadata": {},
   "source": [
    "**Variable-length Keyword Argument**"
   ]
  },
  {
   "cell_type": "code",
   "execution_count": 9,
   "id": "09fbbc09-bb1b-4660-88f8-309de6a8aa99",
   "metadata": {},
   "outputs": [],
   "source": [
    "def func(**kwargs):\n",
    "    return kwargs"
   ]
  },
  {
   "cell_type": "code",
   "execution_count": 10,
   "id": "460346a6-12af-45db-ad11-fd60ff34b14b",
   "metadata": {},
   "outputs": [
    {
     "data": {
      "text/plain": [
       "{'name': 'bitlabs',\n",
       " 'rank': 1,\n",
       " 'another': 'another',\n",
       " 'whatever': 'whatever',\n",
       " 'params': 'params'}"
      ]
     },
     "execution_count": 10,
     "metadata": {},
     "output_type": "execute_result"
    }
   ],
   "source": [
    "func(name=\"bitlabs\", rank=1, another=\"another\", whatever=\"whatever\", params=\"params\")"
   ]
  },
  {
   "cell_type": "code",
   "execution_count": 11,
   "id": "90a58db9-09ca-4693-9e69-5d1390811984",
   "metadata": {},
   "outputs": [
    {
     "data": {
      "text/plain": [
       "{}"
      ]
     },
     "execution_count": 11,
     "metadata": {},
     "output_type": "execute_result"
    }
   ],
   "source": [
    "func()"
   ]
  },
  {
   "cell_type": "code",
   "execution_count": 12,
   "id": "9219eefa-569d-446a-a09d-dd8ff8188989",
   "metadata": {},
   "outputs": [],
   "source": [
    "def func(x, y, *args, **kwargs):\n",
    "    print(\"x:\", x)\n",
    "    print(\"y:\", y)\n",
    "    print(\"args:\", args)\n",
    "    print(\"kwargs:\", kwargs)"
   ]
  },
  {
   "cell_type": "code",
   "execution_count": 13,
   "id": "947b9be4-f38d-4fb5-afda-db454003c294",
   "metadata": {},
   "outputs": [
    {
     "name": "stdout",
     "output_type": "stream",
     "text": [
      "x: 5\n",
      "y: 3\n",
      "args: (7, 'Hello')\n",
      "kwargs: {'welcome': 'to the junggle', 'year': 2021}\n"
     ]
    }
   ],
   "source": [
    "func(5, 3, 7, 'Hello', welcome=\"to the junggle\", year=2021 )"
   ]
  },
  {
   "cell_type": "code",
   "execution_count": null,
   "id": "4ddf51f2-c0b8-423e-8abd-461c2d160e4b",
   "metadata": {},
   "outputs": [],
   "source": []
  }
 ],
 "metadata": {
  "kernelspec": {
   "display_name": "Python 3 (ipykernel)",
   "language": "python",
   "name": "python3"
  },
  "language_info": {
   "codemirror_mode": {
    "name": "ipython",
    "version": 3
   },
   "file_extension": ".py",
   "mimetype": "text/x-python",
   "name": "python",
   "nbconvert_exporter": "python",
   "pygments_lexer": "ipython3",
   "version": "3.9.7"
  }
 },
 "nbformat": 4,
 "nbformat_minor": 5
}
