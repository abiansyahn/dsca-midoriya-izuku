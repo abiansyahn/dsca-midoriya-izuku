{
 "cells": [
  {
   "cell_type": "markdown",
   "id": "7af63d1a-ee1e-4f64-9f43-a1588a79020f",
   "metadata": {},
   "source": [
    "**NUMPY COMPUTATION**"
   ]
  },
  {
   "cell_type": "code",
   "execution_count": 62,
   "id": "a72aae96-4eb6-4bc6-92b1-736f6a98cd1a",
   "metadata": {},
   "outputs": [],
   "source": [
    "import numpy as np"
   ]
  },
  {
   "cell_type": "markdown",
   "id": "228a846a-53ae-4df6-873d-65398c1014d0",
   "metadata": {},
   "source": [
    "**manipulasi array**"
   ]
  },
  {
   "cell_type": "code",
   "execution_count": 63,
   "id": "7e1124c0-099d-4897-aad1-32498476e935",
   "metadata": {},
   "outputs": [
    {
     "name": "stdout",
     "output_type": "stream",
     "text": [
      "[[ 1  2  4]\n",
      " [ 2  4  8]\n",
      " [ 3  6 18]\n",
      " [ 4 16 32]]\n",
      "[[[0.1 0.4]\n",
      "  [0.2 0.5]\n",
      "  [0.3 0.6]]\n",
      "\n",
      " [[0.7 1. ]\n",
      "  [0.8 1.1]\n",
      "  [0.9 1.2]]]\n"
     ]
    }
   ],
   "source": [
    "array2d = np.array([[1, 2, 4], [2, 4, 8], [3, 6, 18], [4, 16, 32]])\n",
    "array3d = np.array([[[.1, .4], [.2, .5], [.3, .6]], [[.7, 1.], [.8, 1.1], [.9, 1.2]]])\n",
    "\n",
    "print(array2d)\n",
    "print(array3d)"
   ]
  },
  {
   "cell_type": "markdown",
   "id": "4721c1b6-c920-422b-a148-69d99cd92cdf",
   "metadata": {},
   "source": [
    "**mengubah dimensi array**"
   ]
  },
  {
   "cell_type": "code",
   "execution_count": 64,
   "id": "eefe45ca-7c89-44e6-8164-caa8c692a215",
   "metadata": {},
   "outputs": [
    {
     "name": "stdout",
     "output_type": "stream",
     "text": [
      "old shape: (4, 3)\n",
      "[[ 1  2  4]\n",
      " [ 2  4  8]\n",
      " [ 3  6 18]\n",
      " [ 4 16 32]]\n",
      "new shape: (2, 6)\n",
      "[[ 1  2  4  2  4  8]\n",
      " [ 3  6 18  4 16 32]]\n"
     ]
    }
   ],
   "source": [
    "print(\"old shape:\", array2d.shape)\n",
    "print(array2d)\n",
    "array2d_new = np.reshape(array2d, (2,6))\n",
    "print(\"new shape:\", array2d_new.shape)\n",
    "print(array2d_new)"
   ]
  },
  {
   "cell_type": "code",
   "execution_count": 65,
   "id": "c16e5239-76ea-4d91-a20d-d299b07b5f50",
   "metadata": {},
   "outputs": [
    {
     "name": "stdout",
     "output_type": "stream",
     "text": [
      "[[[ 1  2]\n",
      "  [ 4  2]]\n",
      "\n",
      " [[ 4  8]\n",
      "  [ 3  6]]\n",
      "\n",
      " [[18  4]\n",
      "  [16 32]]] (3, 2, 2)\n"
     ]
    }
   ],
   "source": [
    "array2d_new2 = np.reshape(array2d, (3, 2, 2))\n",
    "print(array2d_new2, array2d_new2.shape)"
   ]
  },
  {
   "cell_type": "code",
   "execution_count": 66,
   "id": "ad06a8cf-35b1-490e-bef5-dd1b1b1c87fb",
   "metadata": {},
   "outputs": [
    {
     "name": "stdout",
     "output_type": "stream",
     "text": [
      "old shape: (2, 3, 2)\n",
      "[[[0.1 0.4]\n",
      "  [0.2 0.5]\n",
      "  [0.3 0.6]]\n",
      "\n",
      " [[0.7 1. ]\n",
      "  [0.8 1.1]\n",
      "  [0.9 1.2]]]\n",
      "new shape: (4, 3)\n",
      "[[0.1 0.4 0.2]\n",
      " [0.5 0.3 0.6]\n",
      " [0.7 1.  0.8]\n",
      " [1.1 0.9 1.2]]\n"
     ]
    }
   ],
   "source": [
    "print(\"old shape:\", array3d.shape)\n",
    "print(array3d)\n",
    "array3d_new = np.reshape(array3d, (4, 3))\n",
    "print(\"new shape:\", array3d_new.shape)\n",
    "print(array3d_new)"
   ]
  },
  {
   "cell_type": "code",
   "execution_count": 67,
   "id": "def994dd-c418-44d1-9b7c-ff4003b871ad",
   "metadata": {},
   "outputs": [
    {
     "data": {
      "text/plain": [
       "array([[ 1,  2,  3,  4],\n",
       "       [ 2,  4,  6, 16],\n",
       "       [ 4,  8, 18, 32]])"
      ]
     },
     "execution_count": 67,
     "metadata": {},
     "output_type": "execute_result"
    }
   ],
   "source": [
    "np.transpose(array2d)"
   ]
  },
  {
   "cell_type": "code",
   "execution_count": 68,
   "id": "d308234a-a988-4f01-9348-b7baed827f14",
   "metadata": {
    "tags": []
   },
   "outputs": [
    {
     "data": {
      "text/plain": [
       "array([[ 1,  2,  3,  4],\n",
       "       [ 2,  4,  6, 16],\n",
       "       [ 4,  8, 18, 32]])"
      ]
     },
     "execution_count": 68,
     "metadata": {},
     "output_type": "execute_result"
    }
   ],
   "source": [
    "np.transpose(array2d, axes=(1, 0))"
   ]
  },
  {
   "cell_type": "code",
   "execution_count": 69,
   "id": "4ddce0ca-ca83-4b21-aa11-c6632b8cce88",
   "metadata": {},
   "outputs": [
    {
     "data": {
      "text/plain": [
       "array([[[0.1, 0.7],\n",
       "        [0.2, 0.8],\n",
       "        [0.3, 0.9]],\n",
       "\n",
       "       [[0.4, 1. ],\n",
       "        [0.5, 1.1],\n",
       "        [0.6, 1.2]]])"
      ]
     },
     "execution_count": 69,
     "metadata": {},
     "output_type": "execute_result"
    }
   ],
   "source": [
    "np.transpose(array3d)"
   ]
  },
  {
   "cell_type": "code",
   "execution_count": 70,
   "id": "534c7ce2-effc-42d0-b383-13c43a6190c3",
   "metadata": {},
   "outputs": [
    {
     "name": "stdout",
     "output_type": "stream",
     "text": [
      "[[[0.1 0.4]\n",
      "  [0.2 0.5]\n",
      "  [0.3 0.6]]\n",
      "\n",
      " [[0.7 1. ]\n",
      "  [0.8 1.1]\n",
      "  [0.9 1.2]]] (2, 3, 2)\n"
     ]
    }
   ],
   "source": [
    "print(array3d, array3d.shape)"
   ]
  },
  {
   "cell_type": "code",
   "execution_count": 71,
   "id": "e10784e8-e363-4743-8aa8-16db4e6330e8",
   "metadata": {},
   "outputs": [],
   "source": [
    "test = np.transpose(array3d, axes=(2, 0, 1))"
   ]
  },
  {
   "cell_type": "code",
   "execution_count": 72,
   "id": "b4b3bece-bf5c-46cd-9077-f7e2b68aa5ba",
   "metadata": {
    "tags": []
   },
   "outputs": [
    {
     "name": "stdout",
     "output_type": "stream",
     "text": [
      "[[[0.1 0.2 0.3]\n",
      "  [0.7 0.8 0.9]]\n",
      "\n",
      " [[0.4 0.5 0.6]\n",
      "  [1.  1.1 1.2]]]\n",
      "(2, 2, 3)\n"
     ]
    }
   ],
   "source": [
    "print(test)\n",
    "print(test.shape)"
   ]
  },
  {
   "cell_type": "code",
   "execution_count": 73,
   "id": "2e738f12-a3f5-41c7-8408-9f219ecf7c14",
   "metadata": {},
   "outputs": [
    {
     "data": {
      "text/plain": [
       "array([[ 1,  2,  3,  4],\n",
       "       [ 2,  4,  6, 16],\n",
       "       [ 4,  8, 18, 32]])"
      ]
     },
     "execution_count": 73,
     "metadata": {},
     "output_type": "execute_result"
    }
   ],
   "source": [
    "array2d.transpose()"
   ]
  },
  {
   "cell_type": "code",
   "execution_count": 74,
   "id": "bc8b393f-d705-4450-8cd6-8905af2ffa17",
   "metadata": {
    "tags": []
   },
   "outputs": [
    {
     "data": {
      "text/plain": [
       "array([[[0.1, 0.7],\n",
       "        [0.2, 0.8],\n",
       "        [0.3, 0.9]],\n",
       "\n",
       "       [[0.4, 1. ],\n",
       "        [0.5, 1.1],\n",
       "        [0.6, 1.2]]])"
      ]
     },
     "execution_count": 74,
     "metadata": {},
     "output_type": "execute_result"
    }
   ],
   "source": [
    "array3d.transpose()"
   ]
  },
  {
   "cell_type": "code",
   "execution_count": 75,
   "id": "25720a51-fe04-4fc3-b24a-34502bcfd47d",
   "metadata": {},
   "outputs": [
    {
     "data": {
      "text/plain": [
       "array([[[0.1, 0.7],\n",
       "        [0.4, 1. ]],\n",
       "\n",
       "       [[0.2, 0.8],\n",
       "        [0.5, 1.1]],\n",
       "\n",
       "       [[0.3, 0.9],\n",
       "        [0.6, 1.2]]])"
      ]
     },
     "execution_count": 75,
     "metadata": {},
     "output_type": "execute_result"
    }
   ],
   "source": [
    "array3d.transpose(1, 2, 0)"
   ]
  },
  {
   "cell_type": "code",
   "execution_count": 76,
   "id": "fff65d17-da32-4e2f-b41b-d61087d2c603",
   "metadata": {
    "tags": []
   },
   "outputs": [
    {
     "name": "stdout",
     "output_type": "stream",
     "text": [
      "[[[1]\n",
      "  [1]\n",
      "  [7]]] (1, 3, 1)\n",
      "[[[1 2]]\n",
      "\n",
      " [[1 2]]] (2, 1, 2)\n",
      "[[10]] (1, 1)\n"
     ]
    }
   ],
   "source": [
    "rng = np.random.default_rng(11)\n",
    "\n",
    "array_131 = rng.integers(10, size=(1, 3, 1))\n",
    "array_212 = np.array([[[1, 2]], [[1, 2]]])\n",
    "array_11 = np.array([[10]])\n",
    "print(array_131, array_131.shape)\n",
    "print(array_212, array_212.shape)\n",
    "print(array_11, array_11.shape)"
   ]
  },
  {
   "cell_type": "code",
   "execution_count": 77,
   "id": "4318810e-953b-4f7b-b9c0-c465e618280c",
   "metadata": {},
   "outputs": [
    {
     "name": "stdout",
     "output_type": "stream",
     "text": [
      "[1 1 7] (3,)\n",
      "[[1 1 7]] (1, 3)\n"
     ]
    }
   ],
   "source": [
    "array_3 = np.squeeze(array_131)\n",
    "print(array_3, array_3.shape)\n",
    "\n",
    "array_13 = np.squeeze(array_131, axis=-1)\n",
    "print(array_13, array_13.shape)"
   ]
  },
  {
   "cell_type": "code",
   "execution_count": 78,
   "id": "6ce9e773-9636-4076-9a64-50f7411fa2fa",
   "metadata": {},
   "outputs": [
    {
     "name": "stdout",
     "output_type": "stream",
     "text": [
      "[[1 2]\n",
      " [1 2]] (2, 2)\n"
     ]
    }
   ],
   "source": [
    "array_22 = np.squeeze(array_212)\n",
    "print(array_22, array_22.shape)"
   ]
  },
  {
   "cell_type": "code",
   "execution_count": 79,
   "id": "ef5335f5-cfa0-4e22-a1d1-44a0828e94a8",
   "metadata": {},
   "outputs": [
    {
     "data": {
      "text/plain": [
       "array([[[ 1,  2,  4]],\n",
       "\n",
       "       [[ 2,  4,  8]],\n",
       "\n",
       "       [[ 3,  6, 18]],\n",
       "\n",
       "       [[ 4, 16, 32]]])"
      ]
     },
     "execution_count": 79,
     "metadata": {},
     "output_type": "execute_result"
    }
   ],
   "source": [
    "np.expand_dims(array2d, axis=1)"
   ]
  },
  {
   "cell_type": "code",
   "execution_count": 80,
   "id": "c041b710-4f73-4c8f-a76e-2e9a02db24f0",
   "metadata": {},
   "outputs": [
    {
     "data": {
      "text/plain": [
       "array([[[[ 1],\n",
       "         [ 2],\n",
       "         [ 4]]],\n",
       "\n",
       "\n",
       "       [[[ 2],\n",
       "         [ 4],\n",
       "         [ 8]]],\n",
       "\n",
       "\n",
       "       [[[ 3],\n",
       "         [ 6],\n",
       "         [18]]],\n",
       "\n",
       "\n",
       "       [[[ 4],\n",
       "         [16],\n",
       "         [32]]]])"
      ]
     },
     "execution_count": 80,
     "metadata": {},
     "output_type": "execute_result"
    }
   ],
   "source": [
    "np.expand_dims(array2d, axis=(1, -1))"
   ]
  },
  {
   "cell_type": "code",
   "execution_count": 81,
   "id": "f3bc1ce7-51b8-4630-b3c5-59ec69761cc6",
   "metadata": {},
   "outputs": [
    {
     "data": {
      "text/plain": [
       "array([[[ 1,  2,  4],\n",
       "        [ 2,  4,  8],\n",
       "        [ 3,  6, 18],\n",
       "        [ 4, 16, 32]]])"
      ]
     },
     "execution_count": 81,
     "metadata": {},
     "output_type": "execute_result"
    }
   ],
   "source": [
    "array2d[None, :]"
   ]
  },
  {
   "cell_type": "code",
   "execution_count": 82,
   "id": "d7a6dc03-6b0e-4b31-9e5d-f337bea4131d",
   "metadata": {},
   "outputs": [
    {
     "data": {
      "text/plain": [
       "array([[[[ 1],\n",
       "         [ 2],\n",
       "         [ 4]]],\n",
       "\n",
       "\n",
       "       [[[ 2],\n",
       "         [ 4],\n",
       "         [ 8]]],\n",
       "\n",
       "\n",
       "       [[[ 3],\n",
       "         [ 6],\n",
       "         [18]]],\n",
       "\n",
       "\n",
       "       [[[ 4],\n",
       "         [16],\n",
       "         [32]]]])"
      ]
     },
     "execution_count": 82,
     "metadata": {},
     "output_type": "execute_result"
    }
   ],
   "source": [
    "array2d[:, None, :, None]"
   ]
  },
  {
   "cell_type": "code",
   "execution_count": 83,
   "id": "594d3f83-1264-4dac-a465-9fc68441add7",
   "metadata": {},
   "outputs": [
    {
     "data": {
      "text/plain": [
       "array([1, 2, 1, 2])"
      ]
     },
     "execution_count": 83,
     "metadata": {},
     "output_type": "execute_result"
    }
   ],
   "source": [
    "fl = array_212.flat\n",
    "fl[0:4]"
   ]
  },
  {
   "cell_type": "code",
   "execution_count": 84,
   "id": "4570516e-77b1-433b-b8c8-4b1bbe9c22b3",
   "metadata": {},
   "outputs": [
    {
     "name": "stdout",
     "output_type": "stream",
     "text": [
      "12\n"
     ]
    },
    {
     "data": {
      "text/plain": [
       "array([ 1,  2,  4,  2,  4,  8,  3,  6, 18,  4, 16, 32])"
      ]
     },
     "execution_count": 84,
     "metadata": {},
     "output_type": "execute_result"
    }
   ],
   "source": [
    "print(array2d.size)\n",
    "fl2 = array2d.flat\n",
    "fl2[0:13]"
   ]
  },
  {
   "cell_type": "code",
   "execution_count": 85,
   "id": "c41a0326-fc46-46e7-9a5d-630fb5ce6486",
   "metadata": {},
   "outputs": [
    {
     "name": "stdout",
     "output_type": "stream",
     "text": [
      "[1 2 1 2]\n",
      "[1 1 2 2]\n",
      "[1 2 1 2]\n",
      "[1 2 1 2]\n"
     ]
    }
   ],
   "source": [
    "print(array_212.flatten())\n",
    "print(array_212.flatten('F'))\n",
    "print(array_212.flatten('A'))\n",
    "print(array_212.flatten('K'))"
   ]
  },
  {
   "cell_type": "code",
   "execution_count": 86,
   "id": "394e8956-5663-4e36-9bc9-e4c6a68e83dc",
   "metadata": {},
   "outputs": [
    {
     "data": {
      "text/plain": [
       "array([1, 2, 1, 2])"
      ]
     },
     "execution_count": 86,
     "metadata": {},
     "output_type": "execute_result"
    }
   ],
   "source": [
    "np.ravel(array_212)"
   ]
  },
  {
   "cell_type": "markdown",
   "id": "87cfc6b5-5f50-4f53-b806-0875da2de941",
   "metadata": {
    "tags": []
   },
   "source": [
    "**penggabungan array**"
   ]
  },
  {
   "cell_type": "code",
   "execution_count": 87,
   "id": "dfe3c31e-344a-4c03-93a3-bb010522fc53",
   "metadata": {},
   "outputs": [
    {
     "name": "stdout",
     "output_type": "stream",
     "text": [
      "[[4 5 6 7 0]\n",
      " [4 1 4 9 5]] (2, 5)\n",
      "[[10 15 11 17 19]\n",
      " [19 16 18 13 11]\n",
      " [15 14 16 19 12]] (3, 5)\n",
      "[[28 21 23]\n",
      " [27 22 26]\n",
      " [24 25 29]] (3, 3)\n"
     ]
    }
   ],
   "source": [
    "x = rng.integers(10, size=(2, 5))\n",
    "y = rng.integers(10, 20, size=(3, 5))\n",
    "z = rng.integers(20, 30, size=(3, 3))\n",
    "\n",
    "print(x, x.shape)\n",
    "print(y, y.shape)\n",
    "print(z, z.shape)"
   ]
  },
  {
   "cell_type": "code",
   "execution_count": 88,
   "id": "cbd3d594-e14a-4246-829f-1a22b98974c7",
   "metadata": {},
   "outputs": [
    {
     "data": {
      "text/plain": [
       "array([[ 4,  5,  6,  7,  0],\n",
       "       [ 4,  1,  4,  9,  5],\n",
       "       [10, 15, 11, 17, 19],\n",
       "       [19, 16, 18, 13, 11],\n",
       "       [15, 14, 16, 19, 12]], dtype=int64)"
      ]
     },
     "execution_count": 88,
     "metadata": {},
     "output_type": "execute_result"
    }
   ],
   "source": [
    "np.concatenate([x, y])"
   ]
  },
  {
   "cell_type": "code",
   "execution_count": 89,
   "id": "39e0e126-a128-443d-ab48-eb70151a7714",
   "metadata": {},
   "outputs": [
    {
     "data": {
      "text/plain": [
       "array([[10, 15, 11, 17, 19, 28, 21, 23, 10, 15, 11, 17, 19],\n",
       "       [19, 16, 18, 13, 11, 27, 22, 26, 19, 16, 18, 13, 11],\n",
       "       [15, 14, 16, 19, 12, 24, 25, 29, 15, 14, 16, 19, 12]], dtype=int64)"
      ]
     },
     "execution_count": 89,
     "metadata": {},
     "output_type": "execute_result"
    }
   ],
   "source": [
    "np.concatenate([y, z, y], axis=-1)"
   ]
  },
  {
   "cell_type": "code",
   "execution_count": 90,
   "id": "540c99f6-307c-495b-8d44-b536e410e976",
   "metadata": {},
   "outputs": [
    {
     "data": {
      "text/plain": [
       "array([[ 4,  5,  6],\n",
       "       [ 7,  0,  4],\n",
       "       [ 1,  4,  9],\n",
       "       [ 5,  4,  5],\n",
       "       [ 6,  7,  0],\n",
       "       [28, 21, 23],\n",
       "       [27, 22, 26],\n",
       "       [24, 25, 29]], dtype=int64)"
      ]
     },
     "execution_count": 90,
     "metadata": {},
     "output_type": "execute_result"
    }
   ],
   "source": [
    "np.concatenate([np.resize(x, (5,3)), z])"
   ]
  },
  {
   "cell_type": "code",
   "execution_count": 91,
   "id": "ec5fbceb-3d2c-42c0-a828-82e146b2fb5c",
   "metadata": {},
   "outputs": [
    {
     "data": {
      "text/plain": [
       "array([[10, 15, 11, 17, 19],\n",
       "       [19, 16, 18, 13, 11],\n",
       "       [15, 14, 16, 19, 12],\n",
       "       [ 1,  2,  3,  4,  5],\n",
       "       [ 1,  2,  3,  4,  5]], dtype=int64)"
      ]
     },
     "execution_count": 91,
     "metadata": {},
     "output_type": "execute_result"
    }
   ],
   "source": [
    "np.append(y, ([[1, 2, 3, 4, 5], [1, 2, 3, 4, 5]]), axis=0)"
   ]
  },
  {
   "cell_type": "code",
   "execution_count": 92,
   "id": "a3f8041d-953c-4303-b5d7-cf70c0e245ce",
   "metadata": {},
   "outputs": [],
   "source": [
    "a_try = np.array([[1, 2, 3, 4, 5], [6, 7, 8, 9, 10]])\n",
    "b_try = np.array([[11, 12, 13, 14, 15], [16, 17, 18, 19, 20]])"
   ]
  },
  {
   "cell_type": "code",
   "execution_count": 93,
   "id": "a55d2c5c-1fa5-4405-9476-3e7b1fd1300b",
   "metadata": {},
   "outputs": [
    {
     "data": {
      "text/plain": [
       "array([[ 1,  2,  3,  4,  5, 11, 12, 13, 14, 15],\n",
       "       [ 6,  7,  8,  9, 10, 16, 17, 18, 19, 20]])"
      ]
     },
     "execution_count": 93,
     "metadata": {},
     "output_type": "execute_result"
    }
   ],
   "source": [
    "np.hstack((a_try, b_try))"
   ]
  },
  {
   "cell_type": "code",
   "execution_count": 94,
   "id": "a6f51efe-775e-4885-9cea-8b0a95b03ce7",
   "metadata": {},
   "outputs": [
    {
     "name": "stdout",
     "output_type": "stream",
     "text": [
      "[[[1]\n",
      "  [2]\n",
      "  [3]]\n",
      "\n",
      " [[4]\n",
      "  [5]\n",
      "  [6]]]\n",
      "[[[ 7]\n",
      "  [ 8]\n",
      "  [ 9]]\n",
      "\n",
      " [[10]\n",
      "  [11]\n",
      "  [12]]]\n"
     ]
    }
   ],
   "source": [
    "c_try = np.array([[[1], [2], [3]], [[4], [5], [6]]])\n",
    "d_try = np.array([[[7], [8], [9]], [[10], [11], [12]]])\n",
    "print(c_try)\n",
    "print(d_try)"
   ]
  },
  {
   "cell_type": "code",
   "execution_count": 95,
   "id": "8f36122f-9060-4529-b66f-382acbbce977",
   "metadata": {},
   "outputs": [
    {
     "data": {
      "text/plain": [
       "array([[[ 7],\n",
       "        [ 8],\n",
       "        [ 9],\n",
       "        [ 1],\n",
       "        [ 2],\n",
       "        [ 3]],\n",
       "\n",
       "       [[10],\n",
       "        [11],\n",
       "        [12],\n",
       "        [ 4],\n",
       "        [ 5],\n",
       "        [ 6]]])"
      ]
     },
     "execution_count": 95,
     "metadata": {},
     "output_type": "execute_result"
    }
   ],
   "source": [
    "np.hstack((d_try, c_try))"
   ]
  },
  {
   "cell_type": "code",
   "execution_count": 96,
   "id": "f2990665-dcc2-4810-b244-d8337dacff3c",
   "metadata": {
    "tags": []
   },
   "outputs": [
    {
     "data": {
      "text/plain": [
       "array([[ 1,  2,  3,  4,  5],\n",
       "       [ 6,  7,  8,  9, 10],\n",
       "       [11, 12, 13, 14, 15],\n",
       "       [16, 17, 18, 19, 20]])"
      ]
     },
     "execution_count": 96,
     "metadata": {},
     "output_type": "execute_result"
    }
   ],
   "source": [
    "np.vstack((a_try, b_try))"
   ]
  },
  {
   "cell_type": "code",
   "execution_count": 97,
   "id": "d5f82166-c6e9-47be-a74e-062aca44c5e4",
   "metadata": {},
   "outputs": [
    {
     "data": {
      "text/plain": [
       "array([[[ 7],\n",
       "        [ 8],\n",
       "        [ 9]],\n",
       "\n",
       "       [[10],\n",
       "        [11],\n",
       "        [12]],\n",
       "\n",
       "       [[ 1],\n",
       "        [ 2],\n",
       "        [ 3]],\n",
       "\n",
       "       [[ 4],\n",
       "        [ 5],\n",
       "        [ 6]]])"
      ]
     },
     "execution_count": 97,
     "metadata": {},
     "output_type": "execute_result"
    }
   ],
   "source": [
    "np.vstack((d_try, c_try))"
   ]
  },
  {
   "cell_type": "markdown",
   "id": "51e5dbb7-7ccf-47b3-8269-44bd45cebe96",
   "metadata": {},
   "source": [
    "Tugas Eksplorasi"
   ]
  },
  {
   "cell_type": "markdown",
   "id": "4002faf7-d808-4156-a039-874c11db8e54",
   "metadata": {},
   "source": [
    "1. Perbedaan np.append, np.hstack, np.vstack\n",
    "\n",
    "jika *np.append*, menambahkan array baru pada array yg dituju, bila axis tidak diisi maka defaultnya adalah axis 0. sehingga, penambahan array akan dilakukan ke axis 0 (baris baru). pada append, size array harus sama pada axis antara yg akan ditambahkan dan yg akan dituju. dimensi juga harus sama.\n",
    "\n",
    "jika *np.hstack*, menggabungkan array baru pada array yg dituju secara horizontal (kolom baru). dimensi harus sama. size baris jg harus sama.\n",
    "\n",
    "jika *np.vstack*, menggabungkan array baru pada array yg dituju secara vertikal (baris baru). dimensi harus sama. size kolom harus sama\n",
    "\n",
    "2. Perbedaan np.hstack, np.vstack, np.concatenate\n",
    "\n",
    "*np.concatenate* = Join a sequence of arrays along an existing axis\n",
    "\n",
    "*np.hstack* = Stack arrays in sequence horizontally (column wise)\n",
    "\n",
    "*np.vstack* = Stack arrays in sequence vertically (row wise)"
   ]
  },
  {
   "cell_type": "code",
   "execution_count": 98,
   "id": "c0c5f66b-5d01-4dff-84ed-786dbeb53e1d",
   "metadata": {},
   "outputs": [
    {
     "name": "stdout",
     "output_type": "stream",
     "text": [
      "[[4 5 6 7 0]\n",
      " [4 1 4 9 5]]\n",
      "[[10 15 11 17 19]\n",
      " [19 16 18 13 11]\n",
      " [15 14 16 19 12]]\n",
      "[[28 21 23]\n",
      " [27 22 26]\n",
      " [24 25 29]]\n"
     ]
    },
    {
     "data": {
      "text/plain": [
       "array([ 4,  5,  6,  7,  0,  4,  1,  4,  9,  5, 10, 15, 11, 17, 19, 19, 16,\n",
       "       18, 13, 11, 15, 14, 16, 19, 12], dtype=int64)"
      ]
     },
     "execution_count": 98,
     "metadata": {},
     "output_type": "execute_result"
    }
   ],
   "source": [
    "print(x)\n",
    "print(y)\n",
    "print(z)\n",
    "np.append(x, y)"
   ]
  },
  {
   "cell_type": "code",
   "execution_count": 99,
   "id": "f019a79e-2635-4c34-a015-c8a206d50cf3",
   "metadata": {},
   "outputs": [
    {
     "data": {
      "text/plain": [
       "array([10, 15, 11, 17, 19, 19, 16, 18, 13, 11, 15, 14, 16, 19, 12, 28, 21,\n",
       "       23, 27, 22, 26, 24, 25, 29], dtype=int64)"
      ]
     },
     "execution_count": 99,
     "metadata": {},
     "output_type": "execute_result"
    }
   ],
   "source": [
    "np.append(y, z)"
   ]
  },
  {
   "cell_type": "code",
   "execution_count": 100,
   "id": "05038d11-f73d-4676-9955-bd81ec289adc",
   "metadata": {},
   "outputs": [
    {
     "data": {
      "text/plain": [
       "array([[10, 15, 11, 17, 19, 28, 21, 23],\n",
       "       [19, 16, 18, 13, 11, 27, 22, 26],\n",
       "       [15, 14, 16, 19, 12, 24, 25, 29]], dtype=int64)"
      ]
     },
     "execution_count": 100,
     "metadata": {},
     "output_type": "execute_result"
    }
   ],
   "source": [
    "np.append(y, z, axis=1)"
   ]
  },
  {
   "cell_type": "code",
   "execution_count": 101,
   "id": "8f78f10d-df7d-4241-a713-84e37f0a2d0d",
   "metadata": {},
   "outputs": [
    {
     "data": {
      "text/plain": [
       "array([[ 4,  5,  6,  7,  0],\n",
       "       [ 4,  1,  4,  9,  5],\n",
       "       [10, 15, 11, 17, 19],\n",
       "       [19, 16, 18, 13, 11],\n",
       "       [15, 14, 16, 19, 12]], dtype=int64)"
      ]
     },
     "execution_count": 101,
     "metadata": {},
     "output_type": "execute_result"
    }
   ],
   "source": [
    "np.append(x, y, axis=0)"
   ]
  },
  {
   "cell_type": "code",
   "execution_count": 102,
   "id": "c63fb0c5-ab6f-445e-9390-a40ed7e3a495",
   "metadata": {},
   "outputs": [
    {
     "data": {
      "text/plain": [
       "array([[10, 15, 11, 17, 19, 28, 21, 23],\n",
       "       [19, 16, 18, 13, 11, 27, 22, 26],\n",
       "       [15, 14, 16, 19, 12, 24, 25, 29]], dtype=int64)"
      ]
     },
     "execution_count": 102,
     "metadata": {},
     "output_type": "execute_result"
    }
   ],
   "source": [
    "np.hstack((y, z))"
   ]
  },
  {
   "cell_type": "code",
   "execution_count": 103,
   "id": "92604016-e7da-4f47-b2b7-6e63abf4ddec",
   "metadata": {},
   "outputs": [
    {
     "data": {
      "text/plain": [
       "array([[ 4,  5,  6,  7,  0],\n",
       "       [ 4,  1,  4,  9,  5],\n",
       "       [10, 15, 11, 17, 19],\n",
       "       [19, 16, 18, 13, 11],\n",
       "       [15, 14, 16, 19, 12]], dtype=int64)"
      ]
     },
     "execution_count": 103,
     "metadata": {},
     "output_type": "execute_result"
    }
   ],
   "source": [
    "np.vstack((x, y))"
   ]
  },
  {
   "cell_type": "markdown",
   "id": "5357ba19-a6fb-44eb-b662-e540ffc158c1",
   "metadata": {},
   "source": [
    "**Operasi aritmatika dengan numpy**"
   ]
  },
  {
   "cell_type": "code",
   "execution_count": 104,
   "id": "7289b25b-115f-49ab-a014-66b6036f0a53",
   "metadata": {},
   "outputs": [
    {
     "name": "stdout",
     "output_type": "stream",
     "text": [
      "(3,)\n",
      "(1, 3)\n",
      "(3, 1)\n"
     ]
    }
   ],
   "source": [
    "a = 2\n",
    "b = 1.5\n",
    "c = 10\n",
    "\n",
    "x = np.array([5, 10, 15])\n",
    "y = x[None, :]\n",
    "z = x[:, None]\n",
    "\n",
    "print(x.shape)\n",
    "print(y.shape)\n",
    "print(z.shape)"
   ]
  },
  {
   "cell_type": "code",
   "execution_count": 105,
   "id": "c71097cc-e5d1-4b58-8431-09fa14bba6fc",
   "metadata": {},
   "outputs": [
    {
     "name": "stdout",
     "output_type": "stream",
     "text": [
      "[ 5 10 15]\n",
      "[[ 5 10 15]]\n",
      "[[ 5]\n",
      " [10]\n",
      " [15]]\n"
     ]
    }
   ],
   "source": [
    "print(x)\n",
    "print(y)\n",
    "print(z)"
   ]
  },
  {
   "cell_type": "code",
   "execution_count": 106,
   "id": "9a08de62-f148-48e9-b59d-6b73e64030bd",
   "metadata": {},
   "outputs": [
    {
     "name": "stdout",
     "output_type": "stream",
     "text": [
      "[ 7 12 17]\n",
      "[[ 6.5 11.5 16.5]]\n",
      "[[15]\n",
      " [20]\n",
      " [25]]\n"
     ]
    }
   ],
   "source": [
    "print(x + a)\n",
    "print(y + b)\n",
    "print(z + c)"
   ]
  },
  {
   "cell_type": "code",
   "execution_count": 107,
   "id": "2cd8c2fe-1081-4049-ad35-b74ac31513d8",
   "metadata": {},
   "outputs": [
    {
     "data": {
      "text/plain": [
       "array([10, 20, 30])"
      ]
     },
     "execution_count": 107,
     "metadata": {},
     "output_type": "execute_result"
    }
   ],
   "source": [
    "x + x"
   ]
  },
  {
   "cell_type": "code",
   "execution_count": 108,
   "id": "23f4237a-2a50-4e7c-ae89-0cc4cefa87e4",
   "metadata": {},
   "outputs": [
    {
     "data": {
      "text/plain": [
       "array([[10, 20, 30]])"
      ]
     },
     "execution_count": 108,
     "metadata": {},
     "output_type": "execute_result"
    }
   ],
   "source": [
    "x + y"
   ]
  },
  {
   "cell_type": "code",
   "execution_count": 109,
   "id": "368b1a07-22b4-4c1f-8b20-01f380413a82",
   "metadata": {},
   "outputs": [
    {
     "data": {
      "text/plain": [
       "array([[10, 15, 20],\n",
       "       [15, 20, 25],\n",
       "       [20, 25, 30]])"
      ]
     },
     "execution_count": 109,
     "metadata": {},
     "output_type": "execute_result"
    }
   ],
   "source": [
    "x + z"
   ]
  },
  {
   "cell_type": "code",
   "execution_count": 110,
   "id": "5d1a730e-1fd4-40ed-be32-393e6f933a95",
   "metadata": {},
   "outputs": [
    {
     "data": {
      "text/plain": [
       "array([[10, 15, 20],\n",
       "       [15, 20, 25],\n",
       "       [20, 25, 30]])"
      ]
     },
     "execution_count": 110,
     "metadata": {},
     "output_type": "execute_result"
    }
   ],
   "source": [
    "y + z"
   ]
  },
  {
   "cell_type": "code",
   "execution_count": 111,
   "id": "9f45c9dd-c86f-4ac6-aef8-dd72b0a8f055",
   "metadata": {},
   "outputs": [
    {
     "name": "stdout",
     "output_type": "stream",
     "text": [
      "(4, 3)\n",
      "12\n",
      "[[ 5 10 15]\n",
      " [ 5 10 15]\n",
      " [ 5 10 15]\n",
      " [ 5 10 15]]\n"
     ]
    }
   ],
   "source": [
    "xx = np.resize(x, (4, x.shape[0]))\n",
    "print(xx.shape)\n",
    "print(xx.size)\n",
    "print(xx)"
   ]
  },
  {
   "cell_type": "code",
   "execution_count": 112,
   "id": "df202474-1e9c-493a-8c0b-3a5581abde41",
   "metadata": {},
   "outputs": [
    {
     "data": {
      "text/plain": [
       "array([[10, 20, 30],\n",
       "       [10, 20, 30],\n",
       "       [10, 20, 30],\n",
       "       [10, 20, 30]])"
      ]
     },
     "execution_count": 112,
     "metadata": {},
     "output_type": "execute_result"
    }
   ],
   "source": [
    "x + xx"
   ]
  },
  {
   "cell_type": "code",
   "execution_count": 113,
   "id": "e1f9c2f4-99cb-4c1f-a246-b41a14da8592",
   "metadata": {},
   "outputs": [
    {
     "data": {
      "text/plain": [
       "array([[10, 20, 30],\n",
       "       [10, 20, 30],\n",
       "       [10, 20, 30],\n",
       "       [10, 20, 30]])"
      ]
     },
     "execution_count": 113,
     "metadata": {},
     "output_type": "execute_result"
    }
   ],
   "source": [
    "xx + y"
   ]
  },
  {
   "cell_type": "code",
   "execution_count": 114,
   "id": "cfb9f8fa-0604-43fd-a491-84d0766ca057",
   "metadata": {},
   "outputs": [
    {
     "name": "stdout",
     "output_type": "stream",
     "text": [
      "[[[ 5 10 15]]\n",
      "\n",
      " [[ 5 10 15]]\n",
      "\n",
      " [[ 5 10 15]]\n",
      "\n",
      " [[ 5 10 15]]]\n",
      "(4, 1, 3)\n",
      "12\n"
     ]
    }
   ],
   "source": [
    "print(xx[:, None])\n",
    "print(xx[:, None].shape)\n",
    "print(xx[:, None].size)"
   ]
  },
  {
   "cell_type": "code",
   "execution_count": 115,
   "id": "41fe932e-fd20-422f-a11b-f644a781cc69",
   "metadata": {},
   "outputs": [
    {
     "name": "stdout",
     "output_type": "stream",
     "text": [
      "[[ 5]\n",
      " [10]\n",
      " [15]] (3, 1) 3\n"
     ]
    }
   ],
   "source": [
    "print(z, z.shape, z.size)"
   ]
  },
  {
   "cell_type": "code",
   "execution_count": 116,
   "id": "b24d5081-ff3c-4732-b838-c7294b499d4d",
   "metadata": {},
   "outputs": [
    {
     "ename": "ValueError",
     "evalue": "operands could not be broadcast together with shapes (4,3) (3,1) ",
     "output_type": "error",
     "traceback": [
      "\u001b[1;31m---------------------------------------------------------------------------\u001b[0m",
      "\u001b[1;31mValueError\u001b[0m                                Traceback (most recent call last)",
      "\u001b[1;32m~\\AppData\\Local\\Temp/ipykernel_4364/1765775124.py\u001b[0m in \u001b[0;36m<module>\u001b[1;34m\u001b[0m\n\u001b[1;32m----> 1\u001b[1;33m \u001b[0mxx\u001b[0m \u001b[1;33m+\u001b[0m \u001b[0mz\u001b[0m\u001b[1;33m\u001b[0m\u001b[1;33m\u001b[0m\u001b[0m\n\u001b[0m",
      "\u001b[1;31mValueError\u001b[0m: operands could not be broadcast together with shapes (4,3) (3,1) "
     ]
    }
   ],
   "source": [
    "xx + z"
   ]
  },
  {
   "cell_type": "code",
   "execution_count": 117,
   "id": "ee720115-bf0c-41fd-a3b9-d578f517c214",
   "metadata": {},
   "outputs": [
    {
     "data": {
      "text/plain": [
       "array([[[10, 15, 20],\n",
       "        [15, 20, 25],\n",
       "        [20, 25, 30]],\n",
       "\n",
       "       [[10, 15, 20],\n",
       "        [15, 20, 25],\n",
       "        [20, 25, 30]],\n",
       "\n",
       "       [[10, 15, 20],\n",
       "        [15, 20, 25],\n",
       "        [20, 25, 30]],\n",
       "\n",
       "       [[10, 15, 20],\n",
       "        [15, 20, 25],\n",
       "        [20, 25, 30]]])"
      ]
     },
     "execution_count": 117,
     "metadata": {},
     "output_type": "execute_result"
    }
   ],
   "source": [
    "xx[:, None] + z"
   ]
  },
  {
   "cell_type": "markdown",
   "id": "7e4c17fe-9258-45d7-acee-25500dcfdd1e",
   "metadata": {},
   "source": [
    "KUIS\n",
    "\n",
    "xx + z tidak bisa dijalankan karena vektornya ataupun matriksnya berbeda, untuk xx vektornya adalah 4 dan axis 3, sedangkan z vektor 3 dan axis 1\n",
    "sedangkan untuk xx[:, None] + z, terdapat matriks yang sama yaitu 1, 3 dengan 3, 1"
   ]
  },
  {
   "cell_type": "markdown",
   "id": "8cd23aa7-935f-471a-9544-5bd5bc1c3fc8",
   "metadata": {},
   "source": [
    "**Perkalian**"
   ]
  },
  {
   "cell_type": "code",
   "execution_count": 118,
   "id": "ff05bbd9-6b35-4bba-9631-ebdeaecb6392",
   "metadata": {},
   "outputs": [
    {
     "name": "stdout",
     "output_type": "stream",
     "text": [
      "[ 50 100 150]\n",
      "[[ 50 100 150]]\n",
      "[[ 50]\n",
      " [100]\n",
      " [150]]\n",
      "[[ 50 100 150]\n",
      " [ 50 100 150]\n",
      " [ 50 100 150]\n",
      " [ 50 100 150]]\n",
      "[[[ 1.  4.]\n",
      "  [ 2.  5.]\n",
      "  [ 3.  6.]]\n",
      "\n",
      " [[ 7. 10.]\n",
      "  [ 8. 11.]\n",
      "  [ 9. 12.]]]\n"
     ]
    }
   ],
   "source": [
    "d = 10\n",
    "print(x * d)\n",
    "print(y * d)\n",
    "print(z * d)\n",
    "print(xx * d)\n",
    "print(array3d * d)"
   ]
  },
  {
   "cell_type": "code",
   "execution_count": 119,
   "id": "bb537c68-4a3e-4be8-a7ff-9f7657460334",
   "metadata": {},
   "outputs": [
    {
     "name": "stdout",
     "output_type": "stream",
     "text": [
      "[ 50 100 150]\n",
      "[[ 50 100 150]\n",
      " [ 50 100 150]\n",
      " [ 50 100 150]\n",
      " [ 50 100 150]]\n"
     ]
    }
   ],
   "source": [
    "print(np.multiply(x, d))\n",
    "print(np.multiply(xx, d))"
   ]
  },
  {
   "cell_type": "code",
   "execution_count": 120,
   "id": "bd77f672-9d5b-4520-8023-356ab05ef845",
   "metadata": {},
   "outputs": [
    {
     "name": "stdout",
     "output_type": "stream",
     "text": [
      "[[ 25 100 225]\n",
      " [ 25 100 225]\n",
      " [ 25 100 225]\n",
      " [ 25 100 225]]\n",
      "[[ 25  50  75]\n",
      " [ 50 100 150]\n",
      " [ 75 150 225]]\n"
     ]
    }
   ],
   "source": [
    "print(np.multiply(xx, y))\n",
    "print(np.multiply(y, z))"
   ]
  },
  {
   "cell_type": "code",
   "execution_count": 121,
   "id": "7b97f013-0e2a-4b4f-8113-5dedbcaa8d91",
   "metadata": {},
   "outputs": [
    {
     "data": {
      "text/plain": [
       "array([[350, 350, 350, 350],\n",
       "       [350, 350, 350, 350],\n",
       "       [350, 350, 350, 350],\n",
       "       [350, 350, 350, 350]])"
      ]
     },
     "execution_count": 121,
     "metadata": {},
     "output_type": "execute_result"
    }
   ],
   "source": [
    "np.dot(xx, xx.T)"
   ]
  },
  {
   "cell_type": "code",
   "execution_count": 122,
   "id": "9779174a-fdcd-4433-b898-d116da45c987",
   "metadata": {},
   "outputs": [
    {
     "data": {
      "text/plain": [
       "array([[350]])"
      ]
     },
     "execution_count": 122,
     "metadata": {},
     "output_type": "execute_result"
    }
   ],
   "source": [
    "np.dot(y, z)"
   ]
  },
  {
   "cell_type": "code",
   "execution_count": 123,
   "id": "672bef24-80ec-4f54-8924-6dddc1909fd2",
   "metadata": {},
   "outputs": [
    {
     "data": {
      "text/plain": [
       "array([[ 25,  50,  75],\n",
       "       [ 50, 100, 150],\n",
       "       [ 75, 150, 225]])"
      ]
     },
     "execution_count": 123,
     "metadata": {},
     "output_type": "execute_result"
    }
   ],
   "source": [
    "np.dot(z, y)"
   ]
  }
 ],
 "metadata": {
  "kernelspec": {
   "display_name": "Python 3 (ipykernel)",
   "language": "python",
   "name": "python3"
  },
  "language_info": {
   "codemirror_mode": {
    "name": "ipython",
    "version": 3
   },
   "file_extension": ".py",
   "mimetype": "text/x-python",
   "name": "python",
   "nbconvert_exporter": "python",
   "pygments_lexer": "ipython3",
   "version": "3.9.7"
  }
 },
 "nbformat": 4,
 "nbformat_minor": 5
}
