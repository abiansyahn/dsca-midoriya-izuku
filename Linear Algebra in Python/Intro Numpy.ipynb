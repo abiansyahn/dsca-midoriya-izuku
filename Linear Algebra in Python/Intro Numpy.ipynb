{
 "cells": [
  {
   "cell_type": "markdown",
   "id": "48e7c520-a36a-41fc-923f-790b17b3af28",
   "metadata": {},
   "source": [
    "NUMPY ARRAY"
   ]
  },
  {
   "cell_type": "markdown",
   "id": "89e8de10-ef11-4d6a-ab57-3b4fe06ce474",
   "metadata": {},
   "source": [
    "**Menyiapkan NUMPY**"
   ]
  },
  {
   "cell_type": "code",
   "execution_count": 1,
   "id": "22f53798-6706-4a63-bc9d-390e287829c2",
   "metadata": {},
   "outputs": [
    {
     "name": "stdout",
     "output_type": "stream",
     "text": [
      "1.21.2\n"
     ]
    }
   ],
   "source": [
    "import numpy as np\n",
    "print(np.__version__)"
   ]
  },
  {
   "cell_type": "markdown",
   "id": "458924d1-7204-46f2-9313-03cafb948173",
   "metadata": {},
   "source": [
    "**Vektor, array 1-dimensi**"
   ]
  },
  {
   "cell_type": "code",
   "execution_count": 2,
   "id": "c35f0f19-0235-42ce-a96a-fde4d25605a2",
   "metadata": {},
   "outputs": [
    {
     "data": {
      "text/plain": [
       "array([1, 2, 3])"
      ]
     },
     "execution_count": 2,
     "metadata": {},
     "output_type": "execute_result"
    }
   ],
   "source": [
    "np.array([1, 2, 3])"
   ]
  },
  {
   "cell_type": "code",
   "execution_count": 3,
   "id": "d7dc2990-01c2-49ee-b8c8-0884900bbeaf",
   "metadata": {},
   "outputs": [],
   "source": [
    "int_array = np.array([1, 2, 3])"
   ]
  },
  {
   "cell_type": "code",
   "execution_count": 4,
   "id": "5f22dd86-aa4b-4e28-9fb7-12b01dec4695",
   "metadata": {},
   "outputs": [
    {
     "name": "stdout",
     "output_type": "stream",
     "text": [
      "[0 0 0 0 0]\n",
      "5\n"
     ]
    }
   ],
   "source": [
    "array_0 = np.array([0, 0, 0, 0, 0])\n",
    "print(array_0)\n",
    "print(array_0.size)"
   ]
  },
  {
   "cell_type": "code",
   "execution_count": 5,
   "id": "5224a100-de61-4cdc-8713-3c24826e5c0e",
   "metadata": {},
   "outputs": [
    {
     "name": "stdout",
     "output_type": "stream",
     "text": [
      "[ 2  4  6  8 10]\n",
      "5\n"
     ]
    }
   ],
   "source": [
    "array_even = np.array([2, 4, 6, 8, 10])\n",
    "print(array_even)\n",
    "print(array_even.size)"
   ]
  },
  {
   "cell_type": "markdown",
   "id": "73ff45fa-c417-4531-9892-888827a53d0a",
   "metadata": {},
   "source": [
    "**Matriks, Array 2-Dimensi**"
   ]
  },
  {
   "cell_type": "code",
   "execution_count": 6,
   "id": "bb118bb5-e820-4bc0-bc55-52b6f60b3f14",
   "metadata": {
    "tags": []
   },
   "outputs": [
    {
     "name": "stdout",
     "output_type": "stream",
     "text": [
      "[[1 2]\n",
      " [3 4]]\n",
      "[[5 5]]\n",
      "[[2]\n",
      " [4]]\n"
     ]
    }
   ],
   "source": [
    "array_2x2 = np.array([[1, 2], [3, 4]])\n",
    "array_1x2 = np.array([[5, 5]])\n",
    "array_2x1 = np.array([[2], [4]])\n",
    "\n",
    "print(array_2x2)\n",
    "print(array_1x2)\n",
    "print(array_2x1)"
   ]
  },
  {
   "cell_type": "markdown",
   "id": "717ed4a0-984b-4b69-949d-7f95f31b968d",
   "metadata": {},
   "source": [
    "**Array N-Dimensi**"
   ]
  },
  {
   "cell_type": "code",
   "execution_count": 7,
   "id": "debd53f7-7edb-4a68-8637-0b081a8f6084",
   "metadata": {},
   "outputs": [],
   "source": [
    "array_4d = np.array([[[[1, 2, 1], [3, 4, 3]], [[5, 6, 5], [7, 8, 7]]], [[[12, 13, 12], [11, 12, 11]], [[13, 14, 13], [15, 16, 15]]]])"
   ]
  },
  {
   "cell_type": "markdown",
   "id": "10caba3d-dd82-4bc2-9ee9-a46fb6a89722",
   "metadata": {},
   "source": [
    "KUIS"
   ]
  },
  {
   "cell_type": "code",
   "execution_count": 8,
   "id": "37df7a44-1a01-40dc-96e7-e461db759359",
   "metadata": {},
   "outputs": [
    {
     "name": "stdout",
     "output_type": "stream",
     "text": [
      "[[[1 2 3]\n",
      "  [1 2 3]\n",
      "  [1 2 3]]\n",
      "\n",
      " [[1 2 3]\n",
      "  [1 2 3]\n",
      "  [1 2 3]]\n",
      "\n",
      " [[1 2 3]\n",
      "  [1 2 3]\n",
      "  [1 2 3]]]\n",
      "(3, 3, 3)\n"
     ]
    }
   ],
   "source": [
    "array_quiz1 = np.array([[[1, 2, 3], [1, 2, 3], [1, 2, 3]], [[1, 2, 3], [1, 2, 3], [1, 2, 3]], [[1, 2, 3], [1, 2, 3], [1, 2, 3]]])\n",
    "print(array_quiz1)\n",
    "print(array_quiz1.shape)"
   ]
  },
  {
   "cell_type": "code",
   "execution_count": 9,
   "id": "a40a0846-8e96-4561-88e1-1954449bb03d",
   "metadata": {},
   "outputs": [
    {
     "name": "stdout",
     "output_type": "stream",
     "text": [
      "[[[4 5 6 7]]\n",
      "\n",
      " [[4 5 6 7]]]\n",
      "(2, 1, 4)\n"
     ]
    }
   ],
   "source": [
    "array_quiz2 = np.array([[[4, 5, 6, 7]], [[4, 5, 6, 7]]])\n",
    "print(array_quiz2)\n",
    "print(array_quiz2.shape)"
   ]
  },
  {
   "cell_type": "code",
   "execution_count": 10,
   "id": "b5df4304-b72e-40e0-9c6a-2b840c25842d",
   "metadata": {},
   "outputs": [
    {
     "name": "stdout",
     "output_type": "stream",
     "text": [
      "[[[[[8]\n",
      "    [9]]]\n",
      "\n",
      "\n",
      "  [[[8]\n",
      "    [9]]]]\n",
      "\n",
      "\n",
      "\n",
      " [[[[8]\n",
      "    [9]]]\n",
      "\n",
      "\n",
      "  [[[8]\n",
      "    [9]]]]]\n",
      "(2, 2, 1, 2, 1)\n"
     ]
    }
   ],
   "source": [
    "array_quiz3 = np.array([[[[[8], [9]]], [[[8], [9]]]], [[[[8], [9]]], [[[8], [9]]]]])\n",
    "print(array_quiz3)\n",
    "print(array_quiz3.shape)"
   ]
  },
  {
   "cell_type": "markdown",
   "id": "e853f1c6-bd57-40a9-b8e4-1ce277c4c78b",
   "metadata": {},
   "source": [
    "**Penciptaan Array**"
   ]
  },
  {
   "cell_type": "markdown",
   "id": "8629a824-5576-46c2-b6de-377c9672f4c6",
   "metadata": {},
   "source": [
    "**np.linspace dan np.arange**"
   ]
  },
  {
   "cell_type": "code",
   "execution_count": 11,
   "id": "42cf222c-e812-40a8-9456-7344be997d74",
   "metadata": {},
   "outputs": [
    {
     "data": {
      "text/plain": [
       "array([0, 1, 2, 3, 4, 5, 6, 7, 8, 9])"
      ]
     },
     "execution_count": 11,
     "metadata": {},
     "output_type": "execute_result"
    }
   ],
   "source": [
    "np.arange(10)"
   ]
  },
  {
   "cell_type": "code",
   "execution_count": 12,
   "id": "c15b9c54-986b-4ed0-80e5-9b7fd673118e",
   "metadata": {},
   "outputs": [
    {
     "data": {
      "text/plain": [
       "array([1., 2., 3., 4., 5., 6., 7., 8., 9.])"
      ]
     },
     "execution_count": 12,
     "metadata": {},
     "output_type": "execute_result"
    }
   ],
   "source": [
    "np.arange(1, 10, dtype=float)"
   ]
  },
  {
   "cell_type": "code",
   "execution_count": null,
   "id": "8958fe38-ce7a-457e-bc7c-e5fdfbcbd102",
   "metadata": {},
   "outputs": [],
   "source": [
    "np.arange(0, 11, 2)"
   ]
  },
  {
   "cell_type": "code",
   "execution_count": null,
   "id": "eddabf5f-175b-4abd-a8f1-017728ce0541",
   "metadata": {},
   "outputs": [],
   "source": [
    "np.arange(10, 0, -1)"
   ]
  },
  {
   "cell_type": "code",
   "execution_count": null,
   "id": "791f5153-59a1-44a6-8317-4625324b5f81",
   "metadata": {},
   "outputs": [],
   "source": [
    "np.arange(0, 10, -1)"
   ]
  },
  {
   "cell_type": "code",
   "execution_count": 16,
   "id": "b96dab12-4d3b-4cbb-abf0-17a991525586",
   "metadata": {},
   "outputs": [
    {
     "data": {
      "text/plain": [
       "array([ 1.        ,  1.47368421,  1.94736842,  2.42105263,  2.89473684,\n",
       "        3.36842105,  3.84210526,  4.31578947,  4.78947368,  5.26315789,\n",
       "        5.73684211,  6.21052632,  6.68421053,  7.15789474,  7.63157895,\n",
       "        8.10526316,  8.57894737,  9.05263158,  9.52631579, 10.        ])"
      ]
     },
     "execution_count": 16,
     "metadata": {},
     "output_type": "execute_result"
    }
   ],
   "source": [
    "np.linspace(1, 10, 20)"
   ]
  },
  {
   "cell_type": "code",
   "execution_count": 17,
   "id": "264aa046-f221-4d61-9d6b-134654057945",
   "metadata": {},
   "outputs": [
    {
     "data": {
      "text/plain": [
       "array([  0.        ,   2.04081633,   4.08163265,   6.12244898,\n",
       "         8.16326531,  10.20408163,  12.24489796,  14.28571429,\n",
       "        16.32653061,  18.36734694,  20.40816327,  22.44897959,\n",
       "        24.48979592,  26.53061224,  28.57142857,  30.6122449 ,\n",
       "        32.65306122,  34.69387755,  36.73469388,  38.7755102 ,\n",
       "        40.81632653,  42.85714286,  44.89795918,  46.93877551,\n",
       "        48.97959184,  51.02040816,  53.06122449,  55.10204082,\n",
       "        57.14285714,  59.18367347,  61.2244898 ,  63.26530612,\n",
       "        65.30612245,  67.34693878,  69.3877551 ,  71.42857143,\n",
       "        73.46938776,  75.51020408,  77.55102041,  79.59183673,\n",
       "        81.63265306,  83.67346939,  85.71428571,  87.75510204,\n",
       "        89.79591837,  91.83673469,  93.87755102,  95.91836735,\n",
       "        97.95918367, 100.        ])"
      ]
     },
     "execution_count": 17,
     "metadata": {},
     "output_type": "execute_result"
    }
   ],
   "source": [
    "np.linspace(0, 100, 50)"
   ]
  },
  {
   "cell_type": "markdown",
   "id": "1cd6d3f1-211c-4129-b62c-52dd1f94aa1d",
   "metadata": {},
   "source": [
    "**np.eye**"
   ]
  },
  {
   "cell_type": "code",
   "execution_count": 18,
   "id": "b8c7f58a-8e85-46f8-acb1-1bd0acd2d862",
   "metadata": {},
   "outputs": [
    {
     "name": "stdout",
     "output_type": "stream",
     "text": [
      "[[1. 0. 0. 0. 0.]\n",
      " [0. 1. 0. 0. 0.]\n",
      " [0. 0. 1. 0. 0.]\n",
      " [0. 0. 0. 1. 0.]\n",
      " [0. 0. 0. 0. 1.]]\n"
     ]
    }
   ],
   "source": [
    "print(np.eye(5))"
   ]
  },
  {
   "cell_type": "code",
   "execution_count": 19,
   "id": "a8ef0b57-b0ef-4970-bf27-bae9d042e71e",
   "metadata": {},
   "outputs": [
    {
     "name": "stdout",
     "output_type": "stream",
     "text": [
      "[[1. 0. 0. 0. 0. 0.]\n",
      " [0. 1. 0. 0. 0. 0.]\n",
      " [0. 0. 1. 0. 0. 0.]\n",
      " [0. 0. 0. 1. 0. 0.]]\n"
     ]
    }
   ],
   "source": [
    "print(np.eye(4, 6))"
   ]
  },
  {
   "cell_type": "code",
   "execution_count": 20,
   "id": "59d00acd-9864-4d06-9905-9ac8d4db5c52",
   "metadata": {},
   "outputs": [],
   "source": [
    "array_tril = np.array([[1, 2, 3, 4, 5], [1, 2, 3, 4, 5], [1, 2, 3, 4, 5], [1, 2, 3, 4, 5]])"
   ]
  },
  {
   "cell_type": "code",
   "execution_count": 21,
   "id": "d53201d1-96be-4d0c-b368-eb3a6d04fd94",
   "metadata": {},
   "outputs": [],
   "source": [
    "array_explore = np.tri(4, 6, 1)"
   ]
  },
  {
   "cell_type": "code",
   "execution_count": 22,
   "id": "d7100a99-07cd-416e-906f-86084e6ffe70",
   "metadata": {},
   "outputs": [
    {
     "name": "stdout",
     "output_type": "stream",
     "text": [
      "[[1 0 0 0 0]\n",
      " [1 2 0 0 0]\n",
      " [1 2 3 0 0]\n",
      " [1 2 3 4 0]]\n"
     ]
    }
   ],
   "source": [
    "print(np.tril([[1, 2, 3, 4, 5], [1, 2, 3, 4, 5], [1, 2, 3, 4, 5], [1, 2, 3, 4, 5]]))"
   ]
  },
  {
   "cell_type": "code",
   "execution_count": 23,
   "id": "3a768c11-a183-4ca5-bc33-935c39353c3b",
   "metadata": {},
   "outputs": [
    {
     "name": "stdout",
     "output_type": "stream",
     "text": [
      "[[1. 1. 0. 0. 0. 0.]\n",
      " [1. 1. 1. 0. 0. 0.]\n",
      " [1. 1. 1. 1. 0. 0.]\n",
      " [1. 1. 1. 1. 1. 0.]]\n"
     ]
    }
   ],
   "source": [
    "print(array_explore)"
   ]
  },
  {
   "cell_type": "code",
   "execution_count": 24,
   "id": "c9ed6afd-36ef-4c19-8387-b0b36f3ca41f",
   "metadata": {},
   "outputs": [
    {
     "name": "stdout",
     "output_type": "stream",
     "text": [
      "[[1. 0. 0. 0. 0. 0.]\n",
      " [1. 1. 0. 0. 0. 0.]\n",
      " [1. 1. 1. 0. 0. 0.]\n",
      " [1. 1. 1. 1. 0. 0.]]\n"
     ]
    }
   ],
   "source": [
    "print(np.tril(array_explore))"
   ]
  },
  {
   "cell_type": "code",
   "execution_count": 25,
   "id": "06a9cb40-fc77-41c7-b5e4-9e588e2c4ef3",
   "metadata": {},
   "outputs": [
    {
     "name": "stdout",
     "output_type": "stream",
     "text": [
      "[[1 2 3 4 5]\n",
      " [0 2 3 4 5]\n",
      " [0 0 3 4 5]\n",
      " [0 0 0 4 5]]\n"
     ]
    }
   ],
   "source": [
    "print(np.triu([[1, 2, 3, 4, 5], [1, 2, 3, 4, 5], [1, 2, 3, 4, 5], [1, 2, 3, 4, 5]]))"
   ]
  },
  {
   "cell_type": "markdown",
   "id": "b90ce527-2a09-454d-abb4-b959c924f294",
   "metadata": {},
   "source": [
    "**Array Nol, Satuan, Acak**"
   ]
  },
  {
   "cell_type": "code",
   "execution_count": 26,
   "id": "4834f0f5-afda-488f-afcc-10aa61ab87ea",
   "metadata": {},
   "outputs": [
    {
     "name": "stdout",
     "output_type": "stream",
     "text": [
      "[0. 0. 0. 0. 0. 0. 0. 0. 0. 0.]\n"
     ]
    }
   ],
   "source": [
    "print(np.zeros(10))"
   ]
  },
  {
   "cell_type": "code",
   "execution_count": 27,
   "id": "ac7a8a2d-32cd-480f-b8a8-8b1064a3f3bc",
   "metadata": {},
   "outputs": [
    {
     "name": "stdout",
     "output_type": "stream",
     "text": [
      "[[0. 0. 0.]\n",
      " [0. 0. 0.]\n",
      " [0. 0. 0.]]\n"
     ]
    }
   ],
   "source": [
    "print(np.zeros((3, 3)))"
   ]
  },
  {
   "cell_type": "code",
   "execution_count": 28,
   "id": "f91a1956-d726-4f75-b971-9d4f1659801d",
   "metadata": {},
   "outputs": [
    {
     "name": "stdout",
     "output_type": "stream",
     "text": [
      "[[[0.]\n",
      "  [0.]]\n",
      "\n",
      " [[0.]\n",
      "  [0.]]\n",
      "\n",
      " [[0.]\n",
      "  [0.]]]\n"
     ]
    }
   ],
   "source": [
    "print(np.zeros((3, 2, 1)))"
   ]
  },
  {
   "cell_type": "code",
   "execution_count": 29,
   "id": "6f627c6f-b9d1-4ed9-b81c-c82ab772f339",
   "metadata": {},
   "outputs": [
    {
     "name": "stdout",
     "output_type": "stream",
     "text": [
      "[[[1. 1. 1.]\n",
      "  [1. 1. 1.]\n",
      "  [1. 1. 1.]\n",
      "  [1. 1. 1.]]\n",
      "\n",
      " [[1. 1. 1.]\n",
      "  [1. 1. 1.]\n",
      "  [1. 1. 1.]\n",
      "  [1. 1. 1.]]\n",
      "\n",
      " [[1. 1. 1.]\n",
      "  [1. 1. 1.]\n",
      "  [1. 1. 1.]\n",
      "  [1. 1. 1.]]\n",
      "\n",
      " [[1. 1. 1.]\n",
      "  [1. 1. 1.]\n",
      "  [1. 1. 1.]\n",
      "  [1. 1. 1.]]\n",
      "\n",
      " [[1. 1. 1.]\n",
      "  [1. 1. 1.]\n",
      "  [1. 1. 1.]\n",
      "  [1. 1. 1.]]]\n"
     ]
    }
   ],
   "source": [
    "print(np.ones((5, 4, 3)))"
   ]
  },
  {
   "cell_type": "code",
   "execution_count": 30,
   "id": "a950c7df-1324-4596-b7f3-e01de6d71eb1",
   "metadata": {},
   "outputs": [
    {
     "name": "stdout",
     "output_type": "stream",
     "text": [
      "Generator(PCG64) <class 'numpy.random._generator.Generator'>\n"
     ]
    }
   ],
   "source": [
    "rng = np.random.default_rng()\n",
    "\n",
    "print(rng, type(rng))"
   ]
  },
  {
   "cell_type": "code",
   "execution_count": 31,
   "id": "91eb79cb-527c-4173-b576-f4f60cfc8268",
   "metadata": {},
   "outputs": [
    {
     "name": "stdout",
     "output_type": "stream",
     "text": [
      "[0.55475648 2.01378982 0.12921374 0.31151894 0.69908221]\n"
     ]
    }
   ],
   "source": [
    "print(rng.standard_normal(5))"
   ]
  },
  {
   "cell_type": "code",
   "execution_count": 32,
   "id": "85e76efb-8676-4c65-b221-ba3dad4beaec",
   "metadata": {},
   "outputs": [
    {
     "name": "stdout",
     "output_type": "stream",
     "text": [
      "[[ 0.33513133  0.44065422 -0.58175418]\n",
      " [-1.80357449 -1.05905086 -0.48752912]\n",
      " [-0.16034145  1.81492215 -0.62553774]]\n"
     ]
    }
   ],
   "source": [
    "print(rng.standard_normal(size=(3, 3)))"
   ]
  },
  {
   "cell_type": "code",
   "execution_count": 33,
   "id": "fec3615d-3139-4e7e-9883-b5f560a4aaeb",
   "metadata": {},
   "outputs": [
    {
     "name": "stdout",
     "output_type": "stream",
     "text": [
      "[5 9 8 9 8 5 6 8 9 6]\n"
     ]
    }
   ],
   "source": [
    "print(rng.integers(5, 10, size=10))"
   ]
  },
  {
   "cell_type": "code",
   "execution_count": 34,
   "id": "2e9fedd8-8c6f-4b00-89ea-61937fc766f5",
   "metadata": {},
   "outputs": [
    {
     "name": "stdout",
     "output_type": "stream",
     "text": [
      "[[0.66998541 0.91746161 0.43647626 0.86203407 0.29052047]\n",
      " [0.02074079 0.08491057 0.96934419 0.67710892 0.54359491]]\n"
     ]
    }
   ],
   "source": [
    "print(rng.uniform(size=(2, 5)))"
   ]
  },
  {
   "cell_type": "code",
   "execution_count": 35,
   "id": "f64126d9-6449-40e9-be0d-ac5fbda961ad",
   "metadata": {},
   "outputs": [
    {
     "name": "stdout",
     "output_type": "stream",
     "text": [
      "[[8.55143741 3.80309543 0.81621002 4.51096983 5.4505784  2.90602149]]\n"
     ]
    }
   ],
   "source": [
    "print(rng.uniform(0, 10, size=(1, 6)))"
   ]
  },
  {
   "cell_type": "code",
   "execution_count": 36,
   "id": "2422fedc-2b96-4a5e-b2c0-2e8d78852710",
   "metadata": {},
   "outputs": [
    {
     "name": "stdout",
     "output_type": "stream",
     "text": [
      "Generator(PCG64) <class 'numpy.random._generator.Generator'>\n"
     ]
    }
   ],
   "source": [
    "rng_with_seed = np.random.default_rng(111)\n",
    "\n",
    "print(rng_with_seed, type(rng_with_seed))"
   ]
  },
  {
   "cell_type": "code",
   "execution_count": 37,
   "id": "3cebd7b1-e5d0-43cf-bf88-dd6904f25530",
   "metadata": {},
   "outputs": [
    {
     "name": "stdout",
     "output_type": "stream",
     "text": [
      "[7 5 8 5 8 7 6 8 9 8]\n"
     ]
    }
   ],
   "source": [
    "rng_with_seed = np.random.default_rng(111)\n",
    "\n",
    "print(rng_with_seed.integers(5, 10, size=(10)))"
   ]
  },
  {
   "cell_type": "code",
   "execution_count": 38,
   "id": "02540d5c-08b7-40fb-bb96-35cd692ca7c1",
   "metadata": {},
   "outputs": [
    {
     "name": "stdout",
     "output_type": "stream",
     "text": [
      "[7 5 8 5 8 7 6 8 9 8 8 5]\n"
     ]
    }
   ],
   "source": [
    "rng_with_seed = np.random.default_rng(111)\n",
    "\n",
    "print(rng_with_seed.integers(5, 10, size=(12)))"
   ]
  },
  {
   "cell_type": "markdown",
   "id": "d003c0ab-9613-4a56-b7e7-381b489fd48f",
   "metadata": {},
   "source": [
    "**Indexing, Slicing, dan Perulangan**"
   ]
  },
  {
   "cell_type": "code",
   "execution_count": 39,
   "id": "26672b6b-8f64-4a8b-80c5-8726d767b76d",
   "metadata": {},
   "outputs": [
    {
     "name": "stdout",
     "output_type": "stream",
     "text": [
      "array: [1 2 3]\n",
      "3\n",
      "2\n",
      "[1 2]\n"
     ]
    }
   ],
   "source": [
    "print(\"array:\", int_array)\n",
    "print(int_array[2])\n",
    "print(int_array[-2])\n",
    "print(int_array[:2])"
   ]
  },
  {
   "cell_type": "code",
   "execution_count": 40,
   "id": "300cd7cc-9b81-4d9a-acc9-cab1405ae5c3",
   "metadata": {},
   "outputs": [
    {
     "name": "stdout",
     "output_type": "stream",
     "text": [
      "array 2D: [[1 2]\n",
      " [3 4]]\n",
      "2\n",
      "[1 3]\n",
      "[3 4]\n"
     ]
    }
   ],
   "source": [
    "print(\"array 2D:\", array_2x2)\n",
    "print(array_2x2[0, 1])\n",
    "print(array_2x2[:, 0])\n",
    "print(array_2x2[1])"
   ]
  },
  {
   "cell_type": "code",
   "execution_count": 41,
   "id": "44c0ad96-0adb-4aa3-a95c-bb1977e559a6",
   "metadata": {},
   "outputs": [
    {
     "name": "stdout",
     "output_type": "stream",
     "text": [
      "[[[[ 1  2  1]\n",
      "   [ 3  4  3]]\n",
      "\n",
      "  [[ 5  6  5]\n",
      "   [ 7  8  7]]]\n",
      "\n",
      "\n",
      " [[[12 13 12]\n",
      "   [11 12 11]]\n",
      "\n",
      "  [[13 14 13]\n",
      "   [15 16 15]]]] (2, 2, 2, 3)\n",
      "-------------------\n",
      "[[[1 2 1]\n",
      "  [3 4 3]]\n",
      "\n",
      " [[5 6 5]\n",
      "  [7 8 7]]]\n",
      "-------------------\n",
      "[[1 2 1]\n",
      " [3 4 3]]\n",
      "-------------------\n",
      "[[11 12 11]\n",
      " [15 16 15]]\n",
      "-------------------\n",
      "[[[ 1  3]\n",
      "  [ 5  7]]\n",
      "\n",
      " [[12 11]\n",
      "  [13 15]]]\n"
     ]
    }
   ],
   "source": [
    "print(array_4d, array_4d.shape)\n",
    "print(\"-------------------\")\n",
    "print(array_4d[0])\n",
    "print(\"-------------------\")\n",
    "print(array_4d[0, 0])\n",
    "print(\"-------------------\")\n",
    "print(array_4d[1, :, 1, :])\n",
    "print(\"-------------------\")\n",
    "print(array_4d[:, :, :, 0])"
   ]
  },
  {
   "cell_type": "code",
   "execution_count": null,
   "id": "2278608a-0f5f-4860-b93c-77a59b45789a",
   "metadata": {},
   "outputs": [],
   "source": []
  }
 ],
 "metadata": {
  "kernelspec": {
   "display_name": "Python 3 (ipykernel)",
   "language": "python",
   "name": "python3"
  },
  "language_info": {
   "codemirror_mode": {
    "name": "ipython",
    "version": 3
   },
   "file_extension": ".py",
   "mimetype": "text/x-python",
   "name": "python",
   "nbconvert_exporter": "python",
   "pygments_lexer": "ipython3",
   "version": "3.9.7"
  }
 },
 "nbformat": 4,
 "nbformat_minor": 5
}
