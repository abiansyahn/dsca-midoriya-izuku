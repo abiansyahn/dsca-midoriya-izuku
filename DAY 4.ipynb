{
 "cells": [
  {
   "cell_type": "markdown",
   "id": "1cbbc8c5-f16c-4776-afdb-8d604faac377",
   "metadata": {},
   "source": [
    "CLASS"
   ]
  },
  {
   "cell_type": "code",
   "execution_count": 1,
   "id": "9dfc758e-95ff-49a5-af02-a2ab274b4df3",
   "metadata": {},
   "outputs": [],
   "source": [
    "class Cat:\n",
    "    pass"
   ]
  },
  {
   "cell_type": "code",
   "execution_count": 2,
   "id": "c2071a04-e4cf-4186-b0c3-c83a334fed5a",
   "metadata": {},
   "outputs": [],
   "source": [
    "persian = Cat()\n",
    "scottish_fold = Cat()"
   ]
  },
  {
   "cell_type": "code",
   "execution_count": 3,
   "id": "2af1dac0-08f0-47fd-a8c4-239e38ec3d28",
   "metadata": {},
   "outputs": [
    {
     "name": "stdout",
     "output_type": "stream",
     "text": [
      "<__main__.Cat object at 0x0000015B391EE3D0> <class '__main__.Cat'>\n",
      "<__main__.Cat object at 0x0000015B391EE0A0> <class '__main__.Cat'>\n"
     ]
    }
   ],
   "source": [
    "print(persian, type(persian))\n",
    "print(scottish_fold, type(scottish_fold))"
   ]
  },
  {
   "cell_type": "code",
   "execution_count": 4,
   "id": "9e398dc1-17d0-4bbb-86ec-781712382b10",
   "metadata": {},
   "outputs": [],
   "source": [
    "persian.kind = \"persian\"\n",
    "scottish_fold.kind = \"scottish fold\""
   ]
  },
  {
   "cell_type": "code",
   "execution_count": 5,
   "id": "d36a5640-0db9-46cf-b6c6-340de7097462",
   "metadata": {},
   "outputs": [
    {
     "name": "stdout",
     "output_type": "stream",
     "text": [
      "kind of cat: persian\n",
      "kind of cat: scottish fold\n"
     ]
    }
   ],
   "source": [
    "print(\"kind of cat:\", persian.kind)\n",
    "print(\"kind of cat:\", scottish_fold.kind)"
   ]
  },
  {
   "cell_type": "code",
   "execution_count": 6,
   "id": "5d41d632-b245-496e-bbd0-16c77b7166a3",
   "metadata": {},
   "outputs": [],
   "source": [
    "class Cat:\n",
    "    num_feet = 4"
   ]
  },
  {
   "cell_type": "code",
   "execution_count": 7,
   "id": "fc41a5e1-d0d6-442e-aa5b-0f27f32838ca",
   "metadata": {},
   "outputs": [
    {
     "name": "stdout",
     "output_type": "stream",
     "text": [
      "num of feet of persian cat: 4\n",
      "num of feet of scottish fold cat: 4\n"
     ]
    }
   ],
   "source": [
    "persian = Cat()\n",
    "persian.kind = \"persian\"\n",
    "\n",
    "scottish_fold = Cat()\n",
    "scottish_fold.kind = \"scottish fold\"\n",
    "\n",
    "print(\"num of feet of persian cat:\", persian.num_feet)\n",
    "print(\"num of feet of scottish fold cat:\", scottish_fold.num_feet)"
   ]
  },
  {
   "cell_type": "code",
   "execution_count": 8,
   "id": "6d03d41a-1f5d-4022-acc3-16e76966c3ef",
   "metadata": {},
   "outputs": [],
   "source": [
    "class Cat:\n",
    "    \"\"\"Cat class.\"\"\"\n",
    "    def __init__(self, name, kind=\"persian\"):\n",
    "        self.cat_breed = kind\n",
    "        self.name = name\n",
    "    \n",
    "    def sound(self):\n",
    "        return \"meow..\""
   ]
  },
  {
   "cell_type": "code",
   "execution_count": 9,
   "id": "8ae504f3-e5d1-4eef-ba9a-c7c51e05e2a4",
   "metadata": {},
   "outputs": [
    {
     "name": "stdout",
     "output_type": "stream",
     "text": [
      "molly is a persian cat. She sounds like meow....\n",
      "ben is a bengal cat. He sound like meow....\n"
     ]
    }
   ],
   "source": [
    "persian = Cat(\"molly\")\n",
    "bengal = Cat(\"ben\", kind=\"bengal\")\n",
    "\n",
    "print(\"{} is a {} cat. She sounds like {}..\".format(persian.name, persian.cat_breed, persian.sound()))\n",
    "print(\"{} is a {} cat. He sound like {}..\".format(bengal.name, bengal.cat_breed, bengal.sound()))"
   ]
  },
  {
   "cell_type": "code",
   "execution_count": 10,
   "id": "86464a2d-30dd-4dbb-8690-82032e342273",
   "metadata": {},
   "outputs": [],
   "source": [
    "class Cat:\n",
    "    \"\"\"Define a cat.\"\"\"\n",
    "    #class atribut\n",
    "    num_foot = 4\n",
    "    can_walk = True\n",
    "    def __init__(self, name, food, kind=\"persian\", gender=\"male\"):\n",
    "        \"\"\"Initiate a cat.\n",
    "        \n",
    "        Args:\n",
    "            name: cat's name\n",
    "            food: cat's food\n",
    "            kind: cat breed. By default is persian.\n",
    "            gender: male/female. By default is male.\n",
    "        \"\"\"\n",
    "        self.name = name\n",
    "        self.food = food\n",
    "        self.cat_breed = kind\n",
    "        self.is_male = True if gender == \"male\" else False\n",
    "        \n",
    "    def sound(self):\n",
    "        return \"meow..\"\n",
    "    \n",
    "    def eat(self, food):\n",
    "        \"\"\"Eat a given food.\"\"\"\n",
    "        if food == self.food:\n",
    "            return \"Yeay! It's {}. Time to eat!\".format(food)\n",
    "        return \"Oh no, It's {}. Only {}, please.\".format(food, self.food)\n",
    "    \n",
    "    def greet_person(self, person):\n",
    "        \"\"\"Greet a given person.\"\"\"\n",
    "        return \"Hi, {}! nice to meet you\".format(person)\n",
    "    \n",
    "    def greet_cat(self, another_cat):\n",
    "        \"\"\"Greet another cat.\"\"\"\n",
    "        looks = \"handsome\" if another_cat.is_male else \"beautiful\"\n",
    "        return \"Hi, {}! You look {}\".format(another_cat.name, looks)"
   ]
  },
  {
   "cell_type": "code",
   "execution_count": 11,
   "id": "9a8e3851-d189-4743-af85-26f1584c6b9b",
   "metadata": {},
   "outputs": [
    {
     "data": {
      "text/plain": [
       "(4, True)"
      ]
     },
     "execution_count": 11,
     "metadata": {},
     "output_type": "execute_result"
    }
   ],
   "source": [
    "Cat.num_foot, Cat.can_walk"
   ]
  },
  {
   "cell_type": "code",
   "execution_count": 12,
   "id": "3cc94319-2147-40d1-ba42-7218abf6ecab",
   "metadata": {},
   "outputs": [],
   "source": [
    "molly = Cat(\"Molly\", food=\"fish\")\n",
    "ben = Cat(\"Ben\", food=\"pizza\", kind=\"bengal\", gender=\"non-binary\")"
   ]
  },
  {
   "cell_type": "code",
   "execution_count": 13,
   "id": "a80d0c25-8ece-45ca-adb3-ea2829e52598",
   "metadata": {},
   "outputs": [
    {
     "data": {
      "text/plain": [
       "(4, True)"
      ]
     },
     "execution_count": 13,
     "metadata": {},
     "output_type": "execute_result"
    }
   ],
   "source": [
    "molly.num_foot, molly.can_walk"
   ]
  },
  {
   "cell_type": "code",
   "execution_count": 14,
   "id": "8810de32-c9ad-4c40-9185-b43d1798460b",
   "metadata": {},
   "outputs": [
    {
     "name": "stdout",
     "output_type": "stream",
     "text": [
      "Name: Molly\n",
      "breed: persian\n",
      "gender: male\n",
      "favorite food: fish\n",
      "Hi, john! nice to meet you\n",
      "Hi, Ben! You look beautiful\n"
     ]
    }
   ],
   "source": [
    "print(\"Name:\", molly.name)\n",
    "print(\"breed:\", molly.cat_breed)\n",
    "print(\"gender:\", \"male\" if molly.is_male else \"female\")\n",
    "print(\"favorite food:\", molly.food)\n",
    "print(molly.greet_person(\"john\"))\n",
    "print(molly.greet_cat(ben))"
   ]
  },
  {
   "cell_type": "code",
   "execution_count": 15,
   "id": "b0416b29-6c05-4cc4-9fc7-616ed01a4a0e",
   "metadata": {},
   "outputs": [
    {
     "name": "stdout",
     "output_type": "stream",
     "text": [
      "Name: Ben\n",
      "breed: bengal\n",
      "gender: female\n",
      "favorite food: pizza\n",
      "Hi, john! nice to meet you\n",
      "Hi, Molly! You look handsome\n"
     ]
    }
   ],
   "source": [
    "print(\"Name:\", ben.name)\n",
    "print(\"breed:\", ben.cat_breed)\n",
    "print(\"gender:\", \"male\" if ben.is_male else \"female\")\n",
    "print(\"favorite food:\", ben.food)\n",
    "print(molly.greet_person(\"john\"))\n",
    "print(molly.greet_cat(molly))"
   ]
  },
  {
   "cell_type": "code",
   "execution_count": 16,
   "id": "1c3291d2-9fd0-44b3-89d4-902befb3256d",
   "metadata": {},
   "outputs": [
    {
     "name": "stdout",
     "output_type": "stream",
     "text": [
      "Oh no, It's pizza. Only fish, please.\n"
     ]
    }
   ],
   "source": [
    "print(molly.eat(\"pizza\"))"
   ]
  },
  {
   "cell_type": "code",
   "execution_count": 17,
   "id": "cc18b560-ac7a-4d9a-b86d-06e5a6f056be",
   "metadata": {},
   "outputs": [
    {
     "name": "stdout",
     "output_type": "stream",
     "text": [
      "Yeay! It's pizza. Time to eat!\n"
     ]
    }
   ],
   "source": [
    "print(ben.eat(\"pizza\"))"
   ]
  },
  {
   "cell_type": "code",
   "execution_count": 18,
   "id": "fbaa9d68-4c73-4ea2-bc57-3a7f180d01ef",
   "metadata": {},
   "outputs": [
    {
     "name": "stdout",
     "output_type": "stream",
     "text": [
      "KUIS\n"
     ]
    }
   ],
   "source": [
    "print(\"KUIS\")"
   ]
  },
  {
   "cell_type": "code",
   "execution_count": 19,
   "id": "dfcde026-5a61-4f8d-a4cd-8d12ba173970",
   "metadata": {},
   "outputs": [],
   "source": [
    "class ProductList:\n",
    "    \"\"\"Product status.\"\"\"\n",
    "    def __init__(self, product_list):\n",
    "        #check if product is a list\n",
    "        #if not an instance list, show error\n",
    "        if not isinstance(product_list, list):\n",
    "            raise TypeError(\"Product list must be a list.\")\n",
    "        self.available_product = product_list\n",
    "        self.sold_product = []\n",
    "        \n",
    "    def show_available_product(self):\n",
    "        string_product = [\"- {}\".format(product) for product in self.available_product]\n",
    "        string_product = \"\\n\".join(string_product)\n",
    "        print(\"Available product:\", string_product, sep=\"\\n\")\n",
    "        \n",
    "    def show_sold_product(self):\n",
    "        string_product = [\"- {}\".format(product) for product in self.sold_product]\n",
    "        string_product = \"\\n\".join(string_product)\n",
    "        print(\"Sold product:\", string_product, sep=\"\\n\")\n",
    "        \n",
    "    def sold(self, product_name):\n",
    "        if product_name not in self.available_product:\n",
    "            return \"{} is already not in our product listing\".format(product_name)\n",
    "        product_idx = self.available_product.index(product_name)\n",
    "        #remove sold product from available_product\n",
    "        self.available_product.pop(product_idx)\n",
    "        #add sold product to sold_product\n",
    "        self.sold_product.append(product_name)\n",
    "    \n",
    "    def add_product(self, product_name):\n",
    "        self.available_product.append(product_name)"
   ]
  },
  {
   "cell_type": "code",
   "execution_count": 20,
   "id": "c17009cd-99e3-413e-80f4-3df4d2802e07",
   "metadata": {},
   "outputs": [
    {
     "name": "stdout",
     "output_type": "stream",
     "text": [
      "Available product:\n",
      "- chetos\n",
      "- jetz\n",
      "- taro\n",
      "- nano-nano\n"
     ]
    }
   ],
   "source": [
    "products = ProductList([\"chetos\", \"jetz\", \"taro\", \"nano-nano\"])\n",
    "products.show_available_product()"
   ]
  },
  {
   "cell_type": "code",
   "execution_count": 21,
   "id": "cf880cbb-7a3d-4cb2-8235-e804c653d30c",
   "metadata": {},
   "outputs": [
    {
     "name": "stdout",
     "output_type": "stream",
     "text": [
      "Available product:\n",
      "- chetos\n",
      "- jetz\n",
      "- taro\n",
      "- nano-nano\n",
      "- chiki\n",
      "- tiniwinibiti\n",
      "- mentos\n",
      "- lays\n",
      "Sold product:\n",
      "\n"
     ]
    }
   ],
   "source": [
    "#adding new products\n",
    "list_new_products = [\"chiki\", \"tiniwinibiti\", \"mentos\", \"lays\"]\n",
    "for product in list_new_products:\n",
    "    products.add_product(product)\n",
    "\n",
    "products.show_available_product()\n",
    "products.show_sold_product()"
   ]
  },
  {
   "cell_type": "code",
   "execution_count": 22,
   "id": "48ad0b28-013a-4f1e-bce0-08eba0e305a5",
   "metadata": {},
   "outputs": [
    {
     "name": "stdout",
     "output_type": "stream",
     "text": [
      "Available product:\n",
      "- chetos\n",
      "- nano-nano\n",
      "- chiki\n",
      "- tiniwinibiti\n",
      "- mentos\n",
      "Sold product:\n",
      "- jetz\n",
      "- taro\n",
      "- lays\n"
     ]
    }
   ],
   "source": [
    "sold_products = [\"jetz\", \"taro\", \"lays\"]\n",
    "for sold_product in sold_products:\n",
    "    products.sold(sold_product)\n",
    "    \n",
    "products.show_available_product()\n",
    "products.show_sold_product()"
   ]
  },
  {
   "cell_type": "code",
   "execution_count": 23,
   "id": "3d02316e-8d45-4b8e-a90d-e8d8e46ef01f",
   "metadata": {},
   "outputs": [
    {
     "name": "stdout",
     "output_type": "stream",
     "text": [
      "Available product:\n",
      "- chetos\n",
      "- nano-nano\n",
      "- chiki\n",
      "- tiniwinibiti\n"
     ]
    }
   ],
   "source": [
    "products.sold(\"mentos\")\n",
    "products.show_available_product()"
   ]
  },
  {
   "cell_type": "code",
   "execution_count": 24,
   "id": "e1bc2a80-e912-422f-9585-272681574edb",
   "metadata": {},
   "outputs": [
    {
     "data": {
      "text/plain": [
       "['jetz', 'taro', 'lays', 'mentos']"
      ]
     },
     "execution_count": 24,
     "metadata": {},
     "output_type": "execute_result"
    }
   ],
   "source": [
    "products.sold_product"
   ]
  },
  {
   "cell_type": "markdown",
   "id": "9b7c53be-98bc-4a6e-b1d9-082408b4e1e3",
   "metadata": {},
   "source": [
    "MODUL"
   ]
  },
  {
   "cell_type": "code",
   "execution_count": 25,
   "id": "176e3353-d060-4e39-88b7-5a81be95b5bd",
   "metadata": {},
   "outputs": [
    {
     "name": "stdout",
     "output_type": "stream",
     "text": [
      "This is from fastfood.py\n",
      "['McD', 'KFC', 'Burger King', 'Wendys', 'Pizza Hut', 'CFC', 'BurgerLawe']\n",
      "Let's go to McD for lunch\n"
     ]
    }
   ],
   "source": [
    "!python lunch.py"
   ]
  },
  {
   "cell_type": "code",
   "execution_count": 26,
   "id": "01ada4d1-270f-41ce-b5e7-e86f1acc5a6d",
   "metadata": {},
   "outputs": [
    {
     "name": "stdout",
     "output_type": "stream",
     "text": [
      "This is from fastfood.py\n",
      "['McD', 'KFC', 'Burger King', 'Wendys', 'Pizza Hut', 'CFC', 'BurgerLawe']\n"
     ]
    }
   ],
   "source": [
    "!python fastfood.py"
   ]
  },
  {
   "cell_type": "code",
   "execution_count": 27,
   "id": "045b34d1-74a1-43a4-bfe4-587b1d799809",
   "metadata": {},
   "outputs": [
    {
     "data": {
      "text/plain": [
       "20.085536923187668"
      ]
     },
     "execution_count": 27,
     "metadata": {},
     "output_type": "execute_result"
    }
   ],
   "source": [
    "from math import exp\n",
    "\n",
    "exp(3)"
   ]
  },
  {
   "cell_type": "code",
   "execution_count": 28,
   "id": "d7809f4c-2ff6-4ebe-ad55-e82c327a65ea",
   "metadata": {},
   "outputs": [
    {
     "name": "stdout",
     "output_type": "stream",
     "text": [
      "Let's go to CFC for lunch!\n",
      "Should we take out? No!\n"
     ]
    }
   ],
   "source": [
    "!python question.py"
   ]
  },
  {
   "cell_type": "code",
   "execution_count": 29,
   "id": "4b9c7b64-b316-45cf-b5e6-4f3205e1ff3e",
   "metadata": {},
   "outputs": [
    {
     "name": "stdout",
     "output_type": "stream",
     "text": [
      "Let's go to Lawless for lunch!\n",
      "Should we take out? No!\n"
     ]
    }
   ],
   "source": [
    "!python question.py"
   ]
  },
  {
   "cell_type": "markdown",
   "id": "13696887-81d5-49ce-b118-5f6887fcea0f",
   "metadata": {},
   "source": [
    "KUIS"
   ]
  },
  {
   "cell_type": "code",
   "execution_count": 1,
   "id": "144a5706-928c-4b46-8974-6e41af817ece",
   "metadata": {},
   "outputs": [],
   "source": [
    "import password.random_words"
   ]
  },
  {
   "cell_type": "code",
   "execution_count": 2,
   "id": "06a6ed26-ca5c-4ada-872c-80efc7d0e6a3",
   "metadata": {},
   "outputs": [
    {
     "name": "stdout",
     "output_type": "stream",
     "text": [
      "inconversationshaving\n"
     ]
    }
   ],
   "source": [
    "pw = password.random_words.generate_password()\n",
    "print(pw)"
   ]
  },
  {
   "cell_type": "code",
   "execution_count": null,
   "id": "29286fb4-b0aa-4b44-a17c-99570013b99c",
   "metadata": {},
   "outputs": [],
   "source": []
  }
 ],
 "metadata": {
  "kernelspec": {
   "display_name": "Python 3 (ipykernel)",
   "language": "python",
   "name": "python3"
  },
  "language_info": {
   "codemirror_mode": {
    "name": "ipython",
    "version": 3
   },
   "file_extension": ".py",
   "mimetype": "text/x-python",
   "name": "python",
   "nbconvert_exporter": "python",
   "pygments_lexer": "ipython3",
   "version": "3.9.7"
  }
 },
 "nbformat": 4,
 "nbformat_minor": 5
}
