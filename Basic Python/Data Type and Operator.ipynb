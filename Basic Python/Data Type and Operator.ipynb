{
 "cells": [
  {
   "cell_type": "markdown",
   "id": "5ae012ee-7563-4203-ab26-7cf89c49b02f",
   "metadata": {},
   "source": [
    "**DATA TYPE AND OPERATOR**"
   ]
  },
  {
   "cell_type": "markdown",
   "id": "692fb805-a770-4506-a631-b46f19971b6b",
   "metadata": {},
   "source": [
    "**Python sebagai kalkulator**\n",
    "\n",
    "- (+) penjumlahan\n",
    "- (-) pengurangan\n",
    "- (*) perkalian\n",
    "- (/) pembagian\n",
    "- (**) pangkat/eksponential\n",
    "- (//) pembagian dengan pembulatan ke bawah"
   ]
  },
  {
   "cell_type": "code",
   "execution_count": 1,
   "id": "88c78092-0847-4590-8f2d-5348cfb3d553",
   "metadata": {},
   "outputs": [
    {
     "name": "stdout",
     "output_type": "stream",
     "text": [
      "KUIS\n",
      "rata-rata pendapatannya\n"
     ]
    },
    {
     "data": {
      "text/plain": [
       "766666.6666666666"
      ]
     },
     "execution_count": 1,
     "metadata": {},
     "output_type": "execute_result"
    }
   ],
   "source": [
    "print('KUIS')\n",
    "print('rata-rata pendapatannya'); (1000000 + 500000 + 800000) / 3"
   ]
  },
  {
   "cell_type": "code",
   "execution_count": 2,
   "id": "45999e27-ec14-4071-b7e5-1a619ae63d32",
   "metadata": {},
   "outputs": [
    {
     "name": "stdout",
     "output_type": "stream",
     "text": [
      "555\n",
      "6999\n",
      "180.0\n",
      "100000\n",
      "2\n"
     ]
    }
   ],
   "source": [
    "print(123 + 432)\n",
    "print(435 + 6839 - 55 * 5)\n",
    "print(720 / 4)\n",
    "print(10 ** 5)\n",
    "print(10 // 4)"
   ]
  },
  {
   "cell_type": "code",
   "execution_count": 3,
   "id": "2e2d04b0-3321-4069-a363-2d9406c71ff1",
   "metadata": {},
   "outputs": [
    {
     "name": "stdout",
     "output_type": "stream",
     "text": [
      "2021 2020\n"
     ]
    }
   ],
   "source": [
    "current_year = 2021\n",
    "last_year = 2020\n",
    "\n",
    "print(current_year, last_year)"
   ]
  },
  {
   "cell_type": "code",
   "execution_count": 4,
   "id": "d0b0ca6d-b251-4882-b022-475580331be0",
   "metadata": {},
   "outputs": [
    {
     "name": "stdout",
     "output_type": "stream",
     "text": [
      "9\n",
      "7\n",
      "8\n"
     ]
    }
   ],
   "source": [
    "# ini buat nulis komentar, dan nggak akan dikerjain sama python, pokoknya awalnya tanda pager\n",
    "x , y, z = 9, 8, 7\n",
    "\n",
    "print(x)\n",
    "print(z)\n",
    "print(y)"
   ]
  },
  {
   "cell_type": "code",
   "execution_count": 5,
   "id": "8c110428-9826-4e8e-8b4a-15d3c24e5121",
   "metadata": {},
   "outputs": [],
   "source": [
    "current_year = current_year + 1"
   ]
  },
  {
   "cell_type": "code",
   "execution_count": 6,
   "id": "a61e50ac-e501-4d79-8ff4-17464bfec41e",
   "metadata": {},
   "outputs": [
    {
     "name": "stdout",
     "output_type": "stream",
     "text": [
      "2022\n"
     ]
    }
   ],
   "source": [
    "print(current_year)"
   ]
  },
  {
   "cell_type": "code",
   "execution_count": 7,
   "id": "9215a682-e98a-4cbc-90c3-8fa266435881",
   "metadata": {},
   "outputs": [
    {
     "name": "stdout",
     "output_type": "stream",
     "text": [
      "2023\n"
     ]
    }
   ],
   "source": [
    "current_year += 1\n",
    "print (current_year)"
   ]
  },
  {
   "cell_type": "code",
   "execution_count": 8,
   "id": "6bc75ce4-5fb4-4703-8e50-bd611dae6bdd",
   "metadata": {},
   "outputs": [
    {
     "name": "stdout",
     "output_type": "stream",
     "text": [
      "2023\n"
     ]
    }
   ],
   "source": [
    "print(current_year)"
   ]
  },
  {
   "cell_type": "code",
   "execution_count": 9,
   "id": "c345712e-e486-47df-8b2d-e895321b8241",
   "metadata": {},
   "outputs": [],
   "source": [
    "current_year -=3"
   ]
  },
  {
   "cell_type": "code",
   "execution_count": 10,
   "id": "155daea9-f6db-47fe-aaa9-b027e9c44189",
   "metadata": {},
   "outputs": [
    {
     "name": "stdout",
     "output_type": "stream",
     "text": [
      "2020\n"
     ]
    }
   ],
   "source": [
    "print(current_year)"
   ]
  },
  {
   "cell_type": "code",
   "execution_count": 11,
   "id": "dbaa7a33-a9e9-456e-bb12-7b0ec7efa6c1",
   "metadata": {},
   "outputs": [
    {
     "name": "stdout",
     "output_type": "stream",
     "text": [
      "2245000\n",
      "449000.0\n"
     ]
    }
   ],
   "source": [
    "my_population = 1245000\n",
    "my_population = my_population + 1000000\n",
    "print(my_population)\n",
    "\n",
    "my_population *=0.2\n",
    "print(my_population)"
   ]
  },
  {
   "cell_type": "code",
   "execution_count": 12,
   "id": "7fbaa2eb-3134-4fef-8ede-c6713276467c",
   "metadata": {},
   "outputs": [
    {
     "name": "stdout",
     "output_type": "stream",
     "text": [
      "False\n",
      "True\n",
      "True\n",
      "False\n"
     ]
    }
   ],
   "source": [
    "print(5 < 3)\n",
    "print(5 >= 3)\n",
    "print(3 == 3)\n",
    "print(5 != 5)"
   ]
  },
  {
   "cell_type": "code",
   "execution_count": 13,
   "id": "07cb6333-73de-48f9-8211-d82c624b0dc1",
   "metadata": {},
   "outputs": [
    {
     "name": "stdout",
     "output_type": "stream",
     "text": [
      "<class 'int'>\n",
      "<class 'int'> <class 'float'>\n"
     ]
    }
   ],
   "source": [
    "print(type(9))\n",
    "print(type(10), type(10.))"
   ]
  },
  {
   "cell_type": "code",
   "execution_count": 14,
   "id": "3c4f6fd5-430a-49d4-85db-9f9d7d49e0f0",
   "metadata": {},
   "outputs": [
    {
     "name": "stdout",
     "output_type": "stream",
     "text": [
      "20 0.5\n",
      "20.0 0\n",
      "20\n"
     ]
    }
   ],
   "source": [
    "x_int = 20\n",
    "y_float = .5\n",
    "\n",
    "x_float = float(x_int)\n",
    "y_int = int(y_float)\n",
    "\n",
    "print(x_int, y_float)\n",
    "print(x_float, y_int)\n",
    "print(int(x_float))"
   ]
  },
  {
   "cell_type": "code",
   "execution_count": 15,
   "id": "b49b9a60-7de5-4210-bcfd-c5bda434084d",
   "metadata": {},
   "outputs": [
    {
     "name": "stdout",
     "output_type": "stream",
     "text": [
      "Selamat Datang di Bitlabs!\n",
      "\"Guys, ada yang baru nih.\", ujar Harman.\n",
      "Assalamu'alaikum temanku,\n",
      "sebelum waktunya semakin habis,\n",
      "mari kita segera memulai acara ini.\n"
     ]
    }
   ],
   "source": [
    "bootcamp = 'Selamat Datang di Bitlabs!'\n",
    "novel = '\"Guys, ada yang baru nih.\", ujar Harman.'\n",
    "text = '''Assalamu'alaikum temanku,\n",
    "sebelum waktunya semakin habis,\n",
    "mari kita segera memulai acara ini.'''\n",
    "\n",
    "print(bootcamp)\n",
    "print(novel)\n",
    "print(text)"
   ]
  },
  {
   "cell_type": "code",
   "execution_count": 16,
   "id": "b0faa36c-2501-4150-b535-23403b2ad194",
   "metadata": {},
   "outputs": [
    {
     "name": "stdout",
     "output_type": "stream",
     "text": [
      "\n",
      "\"apa mungkin, kita diam saja melihat 'ain diperlakukan seperti itu?\", tanya Usop.\n",
      "Ihsan pun diam berpikir.\n"
     ]
    }
   ],
   "source": [
    "fix = '''\n",
    "\"apa mungkin, kita diam saja melihat 'ain diperlakukan seperti itu?\", tanya Usop.\n",
    "Ihsan pun diam berpikir.'''\n",
    "\n",
    "print(fix)"
   ]
  },
  {
   "cell_type": "code",
   "execution_count": 17,
   "id": "df52a9e7-d73d-4183-9194-51cdc7f9c35b",
   "metadata": {},
   "outputs": [],
   "source": [
    "p = q = 1\n",
    "\n",
    "p_and_notq = p and not q\n",
    "notp_and_q = not p and q\n",
    "notp_and_notq = not p and not q\n",
    "\n",
    "p_or_notq = p or not q\n",
    "notp_or_q = not p or q\n",
    "notp_or_notq = not p or not q"
   ]
  },
  {
   "cell_type": "code",
   "execution_count": 18,
   "id": "16ac2891-0b2c-42b9-b40f-89c0f2bcd307",
   "metadata": {},
   "outputs": [
    {
     "name": "stdout",
     "output_type": "stream",
     "text": [
      "False\n",
      "False\n",
      "False\n",
      "1\n",
      "1\n",
      "False\n"
     ]
    }
   ],
   "source": [
    "print(p_and_notq)\n",
    "print(notp_and_q)\n",
    "print(notp_and_notq)\n",
    "\n",
    "print(p_or_notq)\n",
    "print(notp_or_q)\n",
    "print(notp_or_notq)"
   ]
  },
  {
   "cell_type": "code",
   "execution_count": 19,
   "id": "6303ab7e-94d2-4c54-abca-9044071a9cbc",
   "metadata": {},
   "outputs": [
    {
     "name": "stdout",
     "output_type": "stream",
     "text": [
      "1\n"
     ]
    }
   ],
   "source": [
    "p_and_q = p and q\n",
    "\n",
    "print(p_and_q)"
   ]
  },
  {
   "cell_type": "code",
   "execution_count": 20,
   "id": "3df5c6f4-5181-41c0-be9d-d160376ab336",
   "metadata": {},
   "outputs": [
    {
     "name": "stdout",
     "output_type": "stream",
     "text": [
      "False\n",
      "False\n",
      "False\n",
      "True\n",
      "True\n",
      "False\n"
     ]
    }
   ],
   "source": [
    "print(bool(p_and_notq))\n",
    "print(bool(notp_and_q))\n",
    "print(bool(notp_and_notq))\n",
    "\n",
    "print(bool(p_or_notq))\n",
    "print(bool(notp_or_q))\n",
    "print(bool(notp_or_notq))"
   ]
  },
  {
   "cell_type": "code",
   "execution_count": 21,
   "id": "505f59c6-fc46-45d8-a1d7-8f702f8322c1",
   "metadata": {},
   "outputs": [
    {
     "name": "stdout",
     "output_type": "stream",
     "text": [
      "2020\n",
      "2020\n"
     ]
    }
   ],
   "source": [
    "print(current_year)\n",
    "print(last_year)"
   ]
  },
  {
   "cell_type": "code",
   "execution_count": 22,
   "id": "60cc2777-fb12-4188-bc71-ecc1bda178cd",
   "metadata": {},
   "outputs": [
    {
     "name": "stdout",
     "output_type": "stream",
     "text": [
      "Selamat Datang di Bitlabs!\n"
     ]
    }
   ],
   "source": [
    "print(bootcamp)"
   ]
  },
  {
   "cell_type": "code",
   "execution_count": 23,
   "id": "9201bfb2-aac6-4b57-b8e8-389b31c1b85e",
   "metadata": {},
   "outputs": [
    {
     "name": "stdout",
     "output_type": "stream",
     "text": [
      "False\n"
     ]
    }
   ],
   "source": [
    "print(bool(p_and_notq))"
   ]
  },
  {
   "cell_type": "code",
   "execution_count": 24,
   "id": "62eb120d-8c16-4544-a112-0a9ec840491a",
   "metadata": {},
   "outputs": [
    {
     "name": "stdout",
     "output_type": "stream",
     "text": [
      "2020\n"
     ]
    }
   ],
   "source": [
    "print(last_year)"
   ]
  },
  {
   "cell_type": "code",
   "execution_count": 25,
   "id": "72eca26f-c13c-4d84-bec5-d004e268eee3",
   "metadata": {},
   "outputs": [
    {
     "name": "stdout",
     "output_type": "stream",
     "text": [
      "\"Guys, ada yang baru nih.\", ujar Harman.\n"
     ]
    }
   ],
   "source": [
    "print(novel)"
   ]
  },
  {
   "cell_type": "code",
   "execution_count": 26,
   "id": "15afb746-b6c6-40f3-b6cb-d8adf2b3fc10",
   "metadata": {},
   "outputs": [
    {
     "name": "stdout",
     "output_type": "stream",
     "text": [
      "<class 'int'>\n"
     ]
    }
   ],
   "source": [
    "print(type(current_year))"
   ]
  }
 ],
 "metadata": {
  "kernelspec": {
   "display_name": "Python 3 (ipykernel)",
   "language": "python",
   "name": "python3"
  },
  "language_info": {
   "codemirror_mode": {
    "name": "ipython",
    "version": 3
   },
   "file_extension": ".py",
   "mimetype": "text/x-python",
   "name": "python",
   "nbconvert_exporter": "python",
   "pygments_lexer": "ipython3",
   "version": "3.9.7"
  }
 },
 "nbformat": 4,
 "nbformat_minor": 5
}
